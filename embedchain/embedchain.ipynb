{
 "cells": [
  {
   "cell_type": "code",
   "execution_count": 1,
   "metadata": {},
   "outputs": [
    {
     "name": "stdout",
     "output_type": "stream",
     "text": [
      "Requirement already satisfied: embedchain in /Users/guangyaliu/ycliu/lib/python3.10/site-packages (0.0.72)\n",
      "Requirement already satisfied: beautifulsoup4<5.0.0,>=4.12.2 in /Users/guangyaliu/ycliu/lib/python3.10/site-packages (from embedchain) (4.12.2)\n",
      "Requirement already satisfied: chromadb<0.5.0,>=0.4.8 in /Users/guangyaliu/ycliu/lib/python3.10/site-packages (from embedchain) (0.4.14)\n",
      "Requirement already satisfied: docx2txt<0.9,>=0.8 in /Users/guangyaliu/ycliu/lib/python3.10/site-packages (from embedchain) (0.8)\n",
      "Requirement already satisfied: duckduckgo-search<4.0.0,>=3.8.5 in /Users/guangyaliu/ycliu/lib/python3.10/site-packages (from embedchain) (3.9.3)\n",
      "Requirement already satisfied: langchain<0.0.280,>=0.0.279 in /Users/guangyaliu/ycliu/lib/python3.10/site-packages (from embedchain) (0.0.279)\n",
      "Requirement already satisfied: openai<0.28.0,>=0.27.5 in /Users/guangyaliu/ycliu/lib/python3.10/site-packages (from embedchain) (0.27.10)\n",
      "Requirement already satisfied: pypdf<4.0.0,>=3.11.0 in /Users/guangyaliu/ycliu/lib/python3.10/site-packages (from embedchain) (3.16.2)\n",
      "Requirement already satisfied: python-dotenv<2.0.0,>=1.0.0 in /Users/guangyaliu/ycliu/lib/python3.10/site-packages (from embedchain) (1.0.0)\n",
      "Requirement already satisfied: pytube<16.0.0,>=15.0.0 in /Users/guangyaliu/ycliu/lib/python3.10/site-packages (from embedchain) (15.0.0)\n",
      "Requirement already satisfied: requests<3.0.0,>=2.31.0 in /Users/guangyaliu/ycliu/lib/python3.10/site-packages (from embedchain) (2.31.0)\n",
      "Requirement already satisfied: tiktoken<0.5.0,>=0.4.0 in /Users/guangyaliu/ycliu/lib/python3.10/site-packages (from embedchain) (0.4.0)\n",
      "Requirement already satisfied: unstructured[local-inference]<0.11.0,>=0.10.18 in /Users/guangyaliu/ycliu/lib/python3.10/site-packages (from embedchain) (0.10.19)\n",
      "Requirement already satisfied: youtube-transcript-api<0.7.0,>=0.6.1 in /Users/guangyaliu/ycliu/lib/python3.10/site-packages (from embedchain) (0.6.1)\n",
      "Requirement already satisfied: soupsieve>1.2 in /Users/guangyaliu/ycliu/lib/python3.10/site-packages (from beautifulsoup4<5.0.0,>=4.12.2->embedchain) (2.5)\n",
      "Requirement already satisfied: pydantic>=1.9 in /Users/guangyaliu/ycliu/lib/python3.10/site-packages (from chromadb<0.5.0,>=0.4.8->embedchain) (1.10.13)\n",
      "Requirement already satisfied: chroma-hnswlib==0.7.3 in /Users/guangyaliu/ycliu/lib/python3.10/site-packages (from chromadb<0.5.0,>=0.4.8->embedchain) (0.7.3)\n",
      "Requirement already satisfied: fastapi>=0.95.2 in /Users/guangyaliu/ycliu/lib/python3.10/site-packages (from chromadb<0.5.0,>=0.4.8->embedchain) (0.103.2)\n",
      "Requirement already satisfied: uvicorn[standard]>=0.18.3 in /Users/guangyaliu/ycliu/lib/python3.10/site-packages (from chromadb<0.5.0,>=0.4.8->embedchain) (0.23.2)\n",
      "Requirement already satisfied: posthog>=2.4.0 in /Users/guangyaliu/ycliu/lib/python3.10/site-packages (from chromadb<0.5.0,>=0.4.8->embedchain) (3.0.2)\n",
      "Requirement already satisfied: typing-extensions>=4.5.0 in /Users/guangyaliu/ycliu/lib/python3.10/site-packages (from chromadb<0.5.0,>=0.4.8->embedchain) (4.8.0)\n",
      "Requirement already satisfied: pulsar-client>=3.1.0 in /Users/guangyaliu/ycliu/lib/python3.10/site-packages (from chromadb<0.5.0,>=0.4.8->embedchain) (3.3.0)\n",
      "Requirement already satisfied: onnxruntime>=1.14.1 in /Users/guangyaliu/ycliu/lib/python3.10/site-packages (from chromadb<0.5.0,>=0.4.8->embedchain) (1.16.0)\n",
      "Requirement already satisfied: tokenizers>=0.13.2 in /Users/guangyaliu/ycliu/lib/python3.10/site-packages (from chromadb<0.5.0,>=0.4.8->embedchain) (0.14.1)\n",
      "Requirement already satisfied: pypika>=0.48.9 in /Users/guangyaliu/ycliu/lib/python3.10/site-packages (from chromadb<0.5.0,>=0.4.8->embedchain) (0.48.9)\n",
      "Requirement already satisfied: tqdm>=4.65.0 in /Users/guangyaliu/ycliu/lib/python3.10/site-packages (from chromadb<0.5.0,>=0.4.8->embedchain) (4.66.1)\n",
      "Requirement already satisfied: overrides>=7.3.1 in /Users/guangyaliu/ycliu/lib/python3.10/site-packages (from chromadb<0.5.0,>=0.4.8->embedchain) (7.4.0)\n",
      "Requirement already satisfied: importlib-resources in /Users/guangyaliu/ycliu/lib/python3.10/site-packages (from chromadb<0.5.0,>=0.4.8->embedchain) (6.1.0)\n",
      "Requirement already satisfied: grpcio>=1.58.0 in /Users/guangyaliu/ycliu/lib/python3.10/site-packages (from chromadb<0.5.0,>=0.4.8->embedchain) (1.59.0)\n",
      "Requirement already satisfied: bcrypt>=4.0.1 in /Users/guangyaliu/ycliu/lib/python3.10/site-packages (from chromadb<0.5.0,>=0.4.8->embedchain) (4.0.1)\n",
      "Requirement already satisfied: typer>=0.9.0 in /Users/guangyaliu/ycliu/lib/python3.10/site-packages (from chromadb<0.5.0,>=0.4.8->embedchain) (0.9.0)\n",
      "Requirement already satisfied: numpy>=1.22.5 in /Users/guangyaliu/ycliu/lib/python3.10/site-packages (from chromadb<0.5.0,>=0.4.8->embedchain) (1.26.0)\n",
      "Requirement already satisfied: aiofiles>=23.2.1 in /Users/guangyaliu/ycliu/lib/python3.10/site-packages (from duckduckgo-search<4.0.0,>=3.8.5->embedchain) (23.2.1)\n",
      "Requirement already satisfied: click>=8.1.7 in /Users/guangyaliu/ycliu/lib/python3.10/site-packages (from duckduckgo-search<4.0.0,>=3.8.5->embedchain) (8.1.7)\n",
      "Requirement already satisfied: lxml>=4.9.3 in /Users/guangyaliu/ycliu/lib/python3.10/site-packages (from duckduckgo-search<4.0.0,>=3.8.5->embedchain) (4.9.3)\n",
      "Requirement already satisfied: httpx[brotli,http2,socks]>=0.25.0 in /Users/guangyaliu/ycliu/lib/python3.10/site-packages (from duckduckgo-search<4.0.0,>=3.8.5->embedchain) (0.25.0)\n",
      "Requirement already satisfied: PyYAML>=5.3 in /Users/guangyaliu/ycliu/lib/python3.10/site-packages (from langchain<0.0.280,>=0.0.279->embedchain) (6.0.1)\n",
      "Requirement already satisfied: SQLAlchemy<3,>=1.4 in /Users/guangyaliu/ycliu/lib/python3.10/site-packages (from langchain<0.0.280,>=0.0.279->embedchain) (1.4.41)\n",
      "Requirement already satisfied: aiohttp<4.0.0,>=3.8.3 in /Users/guangyaliu/ycliu/lib/python3.10/site-packages (from langchain<0.0.280,>=0.0.279->embedchain) (3.8.5)\n",
      "Requirement already satisfied: async-timeout<5.0.0,>=4.0.0 in /Users/guangyaliu/ycliu/lib/python3.10/site-packages (from langchain<0.0.280,>=0.0.279->embedchain) (4.0.3)\n",
      "Requirement already satisfied: dataclasses-json<0.6.0,>=0.5.7 in /Users/guangyaliu/ycliu/lib/python3.10/site-packages (from langchain<0.0.280,>=0.0.279->embedchain) (0.5.14)\n",
      "Requirement already satisfied: langsmith<0.1.0,>=0.0.21 in /Users/guangyaliu/ycliu/lib/python3.10/site-packages (from langchain<0.0.280,>=0.0.279->embedchain) (0.0.43)\n",
      "Requirement already satisfied: numexpr<3.0.0,>=2.8.4 in /Users/guangyaliu/ycliu/lib/python3.10/site-packages (from langchain<0.0.280,>=0.0.279->embedchain) (2.8.7)\n",
      "Requirement already satisfied: tenacity<9.0.0,>=8.1.0 in /Users/guangyaliu/ycliu/lib/python3.10/site-packages (from langchain<0.0.280,>=0.0.279->embedchain) (8.2.3)\n",
      "Requirement already satisfied: charset-normalizer<4,>=2 in /Users/guangyaliu/ycliu/lib/python3.10/site-packages (from requests<3.0.0,>=2.31.0->embedchain) (3.3.0)\n",
      "Requirement already satisfied: idna<4,>=2.5 in /Users/guangyaliu/ycliu/lib/python3.10/site-packages (from requests<3.0.0,>=2.31.0->embedchain) (3.4)\n",
      "Requirement already satisfied: urllib3<3,>=1.21.1 in /Users/guangyaliu/ycliu/lib/python3.10/site-packages (from requests<3.0.0,>=2.31.0->embedchain) (1.26.17)\n",
      "Requirement already satisfied: certifi>=2017.4.17 in /Users/guangyaliu/ycliu/lib/python3.10/site-packages (from requests<3.0.0,>=2.31.0->embedchain) (2023.7.22)\n",
      "Requirement already satisfied: regex>=2022.1.18 in /Users/guangyaliu/ycliu/lib/python3.10/site-packages (from tiktoken<0.5.0,>=0.4.0->embedchain) (2023.10.3)\n",
      "Requirement already satisfied: chardet in /Users/guangyaliu/ycliu/lib/python3.10/site-packages (from unstructured[local-inference]<0.11.0,>=0.10.18->embedchain) (5.2.0)\n",
      "Requirement already satisfied: filetype in /Users/guangyaliu/ycliu/lib/python3.10/site-packages (from unstructured[local-inference]<0.11.0,>=0.10.18->embedchain) (1.2.0)\n",
      "Requirement already satisfied: python-magic in /Users/guangyaliu/ycliu/lib/python3.10/site-packages (from unstructured[local-inference]<0.11.0,>=0.10.18->embedchain) (0.4.27)\n",
      "Requirement already satisfied: nltk in /Users/guangyaliu/ycliu/lib/python3.10/site-packages (from unstructured[local-inference]<0.11.0,>=0.10.18->embedchain) (3.8.1)\n",
      "Requirement already satisfied: tabulate in /Users/guangyaliu/ycliu/lib/python3.10/site-packages (from unstructured[local-inference]<0.11.0,>=0.10.18->embedchain) (0.9.0)\n",
      "Requirement already satisfied: emoji in /Users/guangyaliu/ycliu/lib/python3.10/site-packages (from unstructured[local-inference]<0.11.0,>=0.10.18->embedchain) (2.8.0)\n",
      "Requirement already satisfied: python-iso639 in /Users/guangyaliu/ycliu/lib/python3.10/site-packages (from unstructured[local-inference]<0.11.0,>=0.10.18->embedchain) (2023.6.15)\n",
      "Requirement already satisfied: langdetect in /Users/guangyaliu/ycliu/lib/python3.10/site-packages (from unstructured[local-inference]<0.11.0,>=0.10.18->embedchain) (1.0.9)\n",
      "Requirement already satisfied: msg-parser in /Users/guangyaliu/ycliu/lib/python3.10/site-packages (from unstructured[local-inference]<0.11.0,>=0.10.18->embedchain) (1.2.0)\n",
      "Requirement already satisfied: unstructured.pytesseract>=0.3.12 in /Users/guangyaliu/ycliu/lib/python3.10/site-packages (from unstructured[local-inference]<0.11.0,>=0.10.18->embedchain) (0.3.12)\n",
      "Requirement already satisfied: openpyxl in /Users/guangyaliu/ycliu/lib/python3.10/site-packages (from unstructured[local-inference]<0.11.0,>=0.10.18->embedchain) (3.1.2)\n",
      "Requirement already satisfied: pandas in /Users/guangyaliu/ycliu/lib/python3.10/site-packages (from unstructured[local-inference]<0.11.0,>=0.10.18->embedchain) (2.0.3)\n",
      "Requirement already satisfied: pdf2image in /Users/guangyaliu/ycliu/lib/python3.10/site-packages (from unstructured[local-inference]<0.11.0,>=0.10.18->embedchain) (1.16.3)\n",
      "Requirement already satisfied: pdfminer.six in /Users/guangyaliu/ycliu/lib/python3.10/site-packages (from unstructured[local-inference]<0.11.0,>=0.10.18->embedchain) (20221105)\n",
      "Requirement already satisfied: python-pptx<=0.6.21 in /Users/guangyaliu/ycliu/lib/python3.10/site-packages (from unstructured[local-inference]<0.11.0,>=0.10.18->embedchain) (0.6.21)\n",
      "Requirement already satisfied: pypandoc in /Users/guangyaliu/ycliu/lib/python3.10/site-packages (from unstructured[local-inference]<0.11.0,>=0.10.18->embedchain) (1.11)\n",
      "Requirement already satisfied: xlrd in /Users/guangyaliu/ycliu/lib/python3.10/site-packages (from unstructured[local-inference]<0.11.0,>=0.10.18->embedchain) (2.0.1)\n",
      "Requirement already satisfied: python-docx in /Users/guangyaliu/ycliu/lib/python3.10/site-packages (from unstructured[local-inference]<0.11.0,>=0.10.18->embedchain) (0.8.11)\n",
      "Requirement already satisfied: unstructured-inference==0.6.6 in /Users/guangyaliu/ycliu/lib/python3.10/site-packages (from unstructured[local-inference]<0.11.0,>=0.10.18->embedchain) (0.6.6)\n",
      "Requirement already satisfied: ebooklib in /Users/guangyaliu/ycliu/lib/python3.10/site-packages (from unstructured[local-inference]<0.11.0,>=0.10.18->embedchain) (0.18)\n",
      "Requirement already satisfied: markdown in /Users/guangyaliu/ycliu/lib/python3.10/site-packages (from unstructured[local-inference]<0.11.0,>=0.10.18->embedchain) (3.4.4)\n",
      "Requirement already satisfied: layoutparser[layoutmodels,tesseract] in /Users/guangyaliu/ycliu/lib/python3.10/site-packages (from unstructured-inference==0.6.6->unstructured[local-inference]<0.11.0,>=0.10.18->embedchain) (0.3.4)\n",
      "Requirement already satisfied: python-multipart in /Users/guangyaliu/ycliu/lib/python3.10/site-packages (from unstructured-inference==0.6.6->unstructured[local-inference]<0.11.0,>=0.10.18->embedchain) (0.0.6)\n",
      "Requirement already satisfied: huggingface-hub in /Users/guangyaliu/ycliu/lib/python3.10/site-packages (from unstructured-inference==0.6.6->unstructured[local-inference]<0.11.0,>=0.10.18->embedchain) (0.16.4)\n",
      "Requirement already satisfied: opencv-python!=4.7.0.68 in /Users/guangyaliu/ycliu/lib/python3.10/site-packages (from unstructured-inference==0.6.6->unstructured[local-inference]<0.11.0,>=0.10.18->embedchain) (4.8.1.78)\n",
      "Requirement already satisfied: onnx==1.14.1 in /Users/guangyaliu/ycliu/lib/python3.10/site-packages (from unstructured-inference==0.6.6->unstructured[local-inference]<0.11.0,>=0.10.18->embedchain) (1.14.1)\n",
      "Requirement already satisfied: transformers>=4.25.1 in /Users/guangyaliu/ycliu/lib/python3.10/site-packages (from unstructured-inference==0.6.6->unstructured[local-inference]<0.11.0,>=0.10.18->embedchain) (4.34.0)\n",
      "Requirement already satisfied: rapidfuzz in /Users/guangyaliu/ycliu/lib/python3.10/site-packages (from unstructured-inference==0.6.6->unstructured[local-inference]<0.11.0,>=0.10.18->embedchain) (3.4.0)\n",
      "Requirement already satisfied: protobuf>=3.20.2 in /Users/guangyaliu/ycliu/lib/python3.10/site-packages (from onnx==1.14.1->unstructured-inference==0.6.6->unstructured[local-inference]<0.11.0,>=0.10.18->embedchain) (3.20.3)\n",
      "Requirement already satisfied: attrs>=17.3.0 in /Users/guangyaliu/ycliu/lib/python3.10/site-packages (from aiohttp<4.0.0,>=3.8.3->langchain<0.0.280,>=0.0.279->embedchain) (23.1.0)\n",
      "Requirement already satisfied: multidict<7.0,>=4.5 in /Users/guangyaliu/ycliu/lib/python3.10/site-packages (from aiohttp<4.0.0,>=3.8.3->langchain<0.0.280,>=0.0.279->embedchain) (6.0.4)\n",
      "Requirement already satisfied: yarl<2.0,>=1.0 in /Users/guangyaliu/ycliu/lib/python3.10/site-packages (from aiohttp<4.0.0,>=3.8.3->langchain<0.0.280,>=0.0.279->embedchain) (1.9.2)\n",
      "Requirement already satisfied: frozenlist>=1.1.1 in /Users/guangyaliu/ycliu/lib/python3.10/site-packages (from aiohttp<4.0.0,>=3.8.3->langchain<0.0.280,>=0.0.279->embedchain) (1.4.0)\n",
      "Requirement already satisfied: aiosignal>=1.1.2 in /Users/guangyaliu/ycliu/lib/python3.10/site-packages (from aiohttp<4.0.0,>=3.8.3->langchain<0.0.280,>=0.0.279->embedchain) (1.3.1)\n",
      "Requirement already satisfied: marshmallow<4.0.0,>=3.18.0 in /Users/guangyaliu/ycliu/lib/python3.10/site-packages (from dataclasses-json<0.6.0,>=0.5.7->langchain<0.0.280,>=0.0.279->embedchain) (3.20.1)\n",
      "Requirement already satisfied: typing-inspect<1,>=0.4.0 in /Users/guangyaliu/ycliu/lib/python3.10/site-packages (from dataclasses-json<0.6.0,>=0.5.7->langchain<0.0.280,>=0.0.279->embedchain) (0.9.0)\n",
      "Requirement already satisfied: anyio<4.0.0,>=3.7.1 in /Users/guangyaliu/ycliu/lib/python3.10/site-packages (from fastapi>=0.95.2->chromadb<0.5.0,>=0.4.8->embedchain) (3.7.1)\n",
      "Requirement already satisfied: starlette<0.28.0,>=0.27.0 in /Users/guangyaliu/ycliu/lib/python3.10/site-packages (from fastapi>=0.95.2->chromadb<0.5.0,>=0.4.8->embedchain) (0.27.0)\n",
      "Requirement already satisfied: httpcore<0.19.0,>=0.18.0 in /Users/guangyaliu/ycliu/lib/python3.10/site-packages (from httpx[brotli,http2,socks]>=0.25.0->duckduckgo-search<4.0.0,>=3.8.5->embedchain) (0.18.0)\n",
      "Requirement already satisfied: sniffio in /Users/guangyaliu/ycliu/lib/python3.10/site-packages (from httpx[brotli,http2,socks]>=0.25.0->duckduckgo-search<4.0.0,>=3.8.5->embedchain) (1.3.0)\n",
      "Requirement already satisfied: brotli in /Users/guangyaliu/ycliu/lib/python3.10/site-packages (from httpx[brotli,http2,socks]>=0.25.0->duckduckgo-search<4.0.0,>=3.8.5->embedchain) (1.1.0)\n",
      "Requirement already satisfied: h2<5,>=3 in /Users/guangyaliu/ycliu/lib/python3.10/site-packages (from httpx[brotli,http2,socks]>=0.25.0->duckduckgo-search<4.0.0,>=3.8.5->embedchain) (4.1.0)\n",
      "Requirement already satisfied: socksio==1.* in /Users/guangyaliu/ycliu/lib/python3.10/site-packages (from httpx[brotli,http2,socks]>=0.25.0->duckduckgo-search<4.0.0,>=3.8.5->embedchain) (1.0.0)\n",
      "Requirement already satisfied: coloredlogs in /Users/guangyaliu/ycliu/lib/python3.10/site-packages (from onnxruntime>=1.14.1->chromadb<0.5.0,>=0.4.8->embedchain) (15.0.1)\n",
      "Requirement already satisfied: flatbuffers in /Users/guangyaliu/ycliu/lib/python3.10/site-packages (from onnxruntime>=1.14.1->chromadb<0.5.0,>=0.4.8->embedchain) (23.5.26)\n",
      "Requirement already satisfied: packaging in /Users/guangyaliu/ycliu/lib/python3.10/site-packages (from onnxruntime>=1.14.1->chromadb<0.5.0,>=0.4.8->embedchain) (23.2)\n",
      "Requirement already satisfied: sympy in /Users/guangyaliu/ycliu/lib/python3.10/site-packages (from onnxruntime>=1.14.1->chromadb<0.5.0,>=0.4.8->embedchain) (1.12)\n",
      "Requirement already satisfied: six>=1.5 in /Users/guangyaliu/ycliu/lib/python3.10/site-packages (from posthog>=2.4.0->chromadb<0.5.0,>=0.4.8->embedchain) (1.16.0)\n",
      "Requirement already satisfied: monotonic>=1.5 in /Users/guangyaliu/ycliu/lib/python3.10/site-packages (from posthog>=2.4.0->chromadb<0.5.0,>=0.4.8->embedchain) (1.6)\n",
      "Requirement already satisfied: backoff>=1.10.0 in /Users/guangyaliu/ycliu/lib/python3.10/site-packages (from posthog>=2.4.0->chromadb<0.5.0,>=0.4.8->embedchain) (2.2.1)\n",
      "Requirement already satisfied: python-dateutil>2.1 in /Users/guangyaliu/ycliu/lib/python3.10/site-packages (from posthog>=2.4.0->chromadb<0.5.0,>=0.4.8->embedchain) (2.8.2)\n",
      "Requirement already satisfied: Pillow>=3.3.2 in /Users/guangyaliu/ycliu/lib/python3.10/site-packages (from python-pptx<=0.6.21->unstructured[local-inference]<0.11.0,>=0.10.18->embedchain) (10.0.1)\n",
      "Requirement already satisfied: XlsxWriter>=0.5.7 in /Users/guangyaliu/ycliu/lib/python3.10/site-packages (from python-pptx<=0.6.21->unstructured[local-inference]<0.11.0,>=0.10.18->embedchain) (3.1.3)\n",
      "Requirement already satisfied: greenlet!=0.4.17 in /Users/guangyaliu/ycliu/lib/python3.10/site-packages (from SQLAlchemy<3,>=1.4->langchain<0.0.280,>=0.0.279->embedchain) (3.0.0)\n",
      "Requirement already satisfied: h11>=0.8 in /Users/guangyaliu/ycliu/lib/python3.10/site-packages (from uvicorn[standard]>=0.18.3->chromadb<0.5.0,>=0.4.8->embedchain) (0.14.0)\n",
      "Requirement already satisfied: httptools>=0.5.0 in /Users/guangyaliu/ycliu/lib/python3.10/site-packages (from uvicorn[standard]>=0.18.3->chromadb<0.5.0,>=0.4.8->embedchain) (0.6.0)\n",
      "Requirement already satisfied: uvloop!=0.15.0,!=0.15.1,>=0.14.0 in /Users/guangyaliu/ycliu/lib/python3.10/site-packages (from uvicorn[standard]>=0.18.3->chromadb<0.5.0,>=0.4.8->embedchain) (0.17.0)\n",
      "Requirement already satisfied: watchfiles>=0.13 in /Users/guangyaliu/ycliu/lib/python3.10/site-packages (from uvicorn[standard]>=0.18.3->chromadb<0.5.0,>=0.4.8->embedchain) (0.20.0)\n",
      "Requirement already satisfied: websockets>=10.4 in /Users/guangyaliu/ycliu/lib/python3.10/site-packages (from uvicorn[standard]>=0.18.3->chromadb<0.5.0,>=0.4.8->embedchain) (10.4)\n",
      "Requirement already satisfied: olefile>=0.46 in /Users/guangyaliu/ycliu/lib/python3.10/site-packages (from msg-parser->unstructured[local-inference]<0.11.0,>=0.10.18->embedchain) (0.46)\n",
      "Requirement already satisfied: joblib in /Users/guangyaliu/ycliu/lib/python3.10/site-packages (from nltk->unstructured[local-inference]<0.11.0,>=0.10.18->embedchain) (1.3.2)\n",
      "Requirement already satisfied: et-xmlfile in /Users/guangyaliu/ycliu/lib/python3.10/site-packages (from openpyxl->unstructured[local-inference]<0.11.0,>=0.10.18->embedchain) (1.1.0)\n",
      "Requirement already satisfied: pytz>=2020.1 in /Users/guangyaliu/ycliu/lib/python3.10/site-packages (from pandas->unstructured[local-inference]<0.11.0,>=0.10.18->embedchain) (2023.3.post1)\n",
      "Requirement already satisfied: tzdata>=2022.1 in /Users/guangyaliu/ycliu/lib/python3.10/site-packages (from pandas->unstructured[local-inference]<0.11.0,>=0.10.18->embedchain) (2023.3)\n",
      "Requirement already satisfied: cryptography>=36.0.0 in /Users/guangyaliu/ycliu/lib/python3.10/site-packages (from pdfminer.six->unstructured[local-inference]<0.11.0,>=0.10.18->embedchain) (41.0.4)\n",
      "Requirement already satisfied: exceptiongroup in /Users/guangyaliu/ycliu/lib/python3.10/site-packages (from anyio<4.0.0,>=3.7.1->fastapi>=0.95.2->chromadb<0.5.0,>=0.4.8->embedchain) (1.1.3)\n",
      "Requirement already satisfied: cffi>=1.12 in /Users/guangyaliu/ycliu/lib/python3.10/site-packages (from cryptography>=36.0.0->pdfminer.six->unstructured[local-inference]<0.11.0,>=0.10.18->embedchain) (1.16.0)\n",
      "Requirement already satisfied: hyperframe<7,>=6.0 in /Users/guangyaliu/ycliu/lib/python3.10/site-packages (from h2<5,>=3->httpx[brotli,http2,socks]>=0.25.0->duckduckgo-search<4.0.0,>=3.8.5->embedchain) (6.0.1)\n",
      "Requirement already satisfied: hpack<5,>=4.0 in /Users/guangyaliu/ycliu/lib/python3.10/site-packages (from h2<5,>=3->httpx[brotli,http2,socks]>=0.25.0->duckduckgo-search<4.0.0,>=3.8.5->embedchain) (4.0.0)\n",
      "Requirement already satisfied: filelock in /Users/guangyaliu/ycliu/lib/python3.10/site-packages (from huggingface-hub->unstructured-inference==0.6.6->unstructured[local-inference]<0.11.0,>=0.10.18->embedchain) (3.12.4)\n",
      "Requirement already satisfied: fsspec in /Users/guangyaliu/ycliu/lib/python3.10/site-packages (from huggingface-hub->unstructured-inference==0.6.6->unstructured[local-inference]<0.11.0,>=0.10.18->embedchain) (2023.9.2)\n",
      "Requirement already satisfied: safetensors>=0.3.1 in /Users/guangyaliu/ycliu/lib/python3.10/site-packages (from transformers>=4.25.1->unstructured-inference==0.6.6->unstructured[local-inference]<0.11.0,>=0.10.18->embedchain) (0.4.0)\n",
      "Requirement already satisfied: mypy-extensions>=0.3.0 in /Users/guangyaliu/ycliu/lib/python3.10/site-packages (from typing-inspect<1,>=0.4.0->dataclasses-json<0.6.0,>=0.5.7->langchain<0.0.280,>=0.0.279->embedchain) (1.0.0)\n",
      "Requirement already satisfied: humanfriendly>=9.1 in /Users/guangyaliu/ycliu/lib/python3.10/site-packages (from coloredlogs->onnxruntime>=1.14.1->chromadb<0.5.0,>=0.4.8->embedchain) (10.0)\n",
      "Requirement already satisfied: scipy in /Users/guangyaliu/ycliu/lib/python3.10/site-packages (from layoutparser[layoutmodels,tesseract]->unstructured-inference==0.6.6->unstructured[local-inference]<0.11.0,>=0.10.18->embedchain) (1.11.3)\n",
      "Requirement already satisfied: iopath in /Users/guangyaliu/ycliu/lib/python3.10/site-packages (from layoutparser[layoutmodels,tesseract]->unstructured-inference==0.6.6->unstructured[local-inference]<0.11.0,>=0.10.18->embedchain) (0.1.10)\n",
      "Requirement already satisfied: pdfplumber in /Users/guangyaliu/ycliu/lib/python3.10/site-packages (from layoutparser[layoutmodels,tesseract]->unstructured-inference==0.6.6->unstructured[local-inference]<0.11.0,>=0.10.18->embedchain) (0.10.2)\n",
      "Requirement already satisfied: pytesseract in /Users/guangyaliu/ycliu/lib/python3.10/site-packages (from layoutparser[layoutmodels,tesseract]->unstructured-inference==0.6.6->unstructured[local-inference]<0.11.0,>=0.10.18->embedchain) (0.3.10)\n",
      "Requirement already satisfied: torch in /Users/guangyaliu/ycliu/lib/python3.10/site-packages (from layoutparser[layoutmodels,tesseract]->unstructured-inference==0.6.6->unstructured[local-inference]<0.11.0,>=0.10.18->embedchain) (2.1.0)\n",
      "Requirement already satisfied: torchvision in /Users/guangyaliu/ycliu/lib/python3.10/site-packages (from layoutparser[layoutmodels,tesseract]->unstructured-inference==0.6.6->unstructured[local-inference]<0.11.0,>=0.10.18->embedchain) (0.16.0)\n",
      "Requirement already satisfied: effdet in /Users/guangyaliu/ycliu/lib/python3.10/site-packages (from layoutparser[layoutmodels,tesseract]->unstructured-inference==0.6.6->unstructured[local-inference]<0.11.0,>=0.10.18->embedchain) (0.4.1)\n",
      "Requirement already satisfied: mpmath>=0.19 in /Users/guangyaliu/ycliu/lib/python3.10/site-packages (from sympy->onnxruntime>=1.14.1->chromadb<0.5.0,>=0.4.8->embedchain) (1.3.0)\n",
      "Requirement already satisfied: pycparser in /Users/guangyaliu/ycliu/lib/python3.10/site-packages (from cffi>=1.12->cryptography>=36.0.0->pdfminer.six->unstructured[local-inference]<0.11.0,>=0.10.18->embedchain) (2.21)\n",
      "Requirement already satisfied: timm>=0.9.2 in /Users/guangyaliu/ycliu/lib/python3.10/site-packages (from effdet->layoutparser[layoutmodels,tesseract]->unstructured-inference==0.6.6->unstructured[local-inference]<0.11.0,>=0.10.18->embedchain) (0.9.7)\n",
      "Requirement already satisfied: pycocotools>=2.0.2 in /Users/guangyaliu/ycliu/lib/python3.10/site-packages (from effdet->layoutparser[layoutmodels,tesseract]->unstructured-inference==0.6.6->unstructured[local-inference]<0.11.0,>=0.10.18->embedchain) (2.0.7)\n",
      "Requirement already satisfied: omegaconf>=2.0 in /Users/guangyaliu/ycliu/lib/python3.10/site-packages (from effdet->layoutparser[layoutmodels,tesseract]->unstructured-inference==0.6.6->unstructured[local-inference]<0.11.0,>=0.10.18->embedchain) (2.3.0)\n",
      "Requirement already satisfied: networkx in /Users/guangyaliu/ycliu/lib/python3.10/site-packages (from torch->layoutparser[layoutmodels,tesseract]->unstructured-inference==0.6.6->unstructured[local-inference]<0.11.0,>=0.10.18->embedchain) (3.1)\n",
      "Requirement already satisfied: jinja2 in /Users/guangyaliu/ycliu/lib/python3.10/site-packages (from torch->layoutparser[layoutmodels,tesseract]->unstructured-inference==0.6.6->unstructured[local-inference]<0.11.0,>=0.10.18->embedchain) (3.1.2)\n",
      "Requirement already satisfied: portalocker in /Users/guangyaliu/ycliu/lib/python3.10/site-packages (from iopath->layoutparser[layoutmodels,tesseract]->unstructured-inference==0.6.6->unstructured[local-inference]<0.11.0,>=0.10.18->embedchain) (2.8.2)\n",
      "Requirement already satisfied: pypdfium2>=4.18.0 in /Users/guangyaliu/ycliu/lib/python3.10/site-packages (from pdfplumber->layoutparser[layoutmodels,tesseract]->unstructured-inference==0.6.6->unstructured[local-inference]<0.11.0,>=0.10.18->embedchain) (4.21.0)\n",
      "Requirement already satisfied: antlr4-python3-runtime==4.9.* in /Users/guangyaliu/ycliu/lib/python3.10/site-packages (from omegaconf>=2.0->effdet->layoutparser[layoutmodels,tesseract]->unstructured-inference==0.6.6->unstructured[local-inference]<0.11.0,>=0.10.18->embedchain) (4.9.3)\n",
      "Requirement already satisfied: matplotlib>=2.1.0 in /Users/guangyaliu/ycliu/lib/python3.10/site-packages (from pycocotools>=2.0.2->effdet->layoutparser[layoutmodels,tesseract]->unstructured-inference==0.6.6->unstructured[local-inference]<0.11.0,>=0.10.18->embedchain) (3.8.0)\n",
      "Requirement already satisfied: MarkupSafe>=2.0 in /Users/guangyaliu/ycliu/lib/python3.10/site-packages (from jinja2->torch->layoutparser[layoutmodels,tesseract]->unstructured-inference==0.6.6->unstructured[local-inference]<0.11.0,>=0.10.18->embedchain) (2.1.3)\n",
      "Requirement already satisfied: contourpy>=1.0.1 in /Users/guangyaliu/ycliu/lib/python3.10/site-packages (from matplotlib>=2.1.0->pycocotools>=2.0.2->effdet->layoutparser[layoutmodels,tesseract]->unstructured-inference==0.6.6->unstructured[local-inference]<0.11.0,>=0.10.18->embedchain) (1.1.1)\n",
      "Requirement already satisfied: cycler>=0.10 in /Users/guangyaliu/ycliu/lib/python3.10/site-packages (from matplotlib>=2.1.0->pycocotools>=2.0.2->effdet->layoutparser[layoutmodels,tesseract]->unstructured-inference==0.6.6->unstructured[local-inference]<0.11.0,>=0.10.18->embedchain) (0.12.1)\n",
      "Requirement already satisfied: fonttools>=4.22.0 in /Users/guangyaliu/ycliu/lib/python3.10/site-packages (from matplotlib>=2.1.0->pycocotools>=2.0.2->effdet->layoutparser[layoutmodels,tesseract]->unstructured-inference==0.6.6->unstructured[local-inference]<0.11.0,>=0.10.18->embedchain) (4.43.1)\n",
      "Requirement already satisfied: kiwisolver>=1.0.1 in /Users/guangyaliu/ycliu/lib/python3.10/site-packages (from matplotlib>=2.1.0->pycocotools>=2.0.2->effdet->layoutparser[layoutmodels,tesseract]->unstructured-inference==0.6.6->unstructured[local-inference]<0.11.0,>=0.10.18->embedchain) (1.4.5)\n",
      "Requirement already satisfied: pyparsing>=2.3.1 in /Users/guangyaliu/ycliu/lib/python3.10/site-packages (from matplotlib>=2.1.0->pycocotools>=2.0.2->effdet->layoutparser[layoutmodels,tesseract]->unstructured-inference==0.6.6->unstructured[local-inference]<0.11.0,>=0.10.18->embedchain) (3.1.1)\n",
      "\n",
      "\u001b[1m[\u001b[0m\u001b[34;49mnotice\u001b[0m\u001b[1;39;49m]\u001b[0m\u001b[39;49m A new release of pip is available: \u001b[0m\u001b[31;49m23.2.1\u001b[0m\u001b[39;49m -> \u001b[0m\u001b[32;49m23.3\u001b[0m\n",
      "\u001b[1m[\u001b[0m\u001b[34;49mnotice\u001b[0m\u001b[1;39;49m]\u001b[0m\u001b[39;49m To update, run: \u001b[0m\u001b[32;49mpip install --upgrade pip\u001b[0m\n"
     ]
    }
   ],
   "source": [
    "!pip install embedchain\n"
   ]
  },
  {
   "cell_type": "code",
   "execution_count": 3,
   "metadata": {},
   "outputs": [
    {
     "data": {
      "text/plain": [
       "True"
      ]
     },
     "execution_count": 3,
     "metadata": {},
     "output_type": "execute_result"
    }
   ],
   "source": [
    "from dotenv import load_dotenv\n",
    "import os\n",
    "load_dotenv()"
   ]
  },
  {
   "cell_type": "code",
   "execution_count": 4,
   "metadata": {},
   "outputs": [
    {
     "name": "stdout",
     "output_type": "stream",
     "text": [
      "Successfully saved https://docs.embedchain.ai/ (DataType.DOCS_SITE). New chunks count: 138\n"
     ]
    },
    {
     "data": {
      "text/plain": [
       "'Embedchain is a tool that simplifies the process of loading data, dividing it into chunks, generating embeddings, and storing it in a vector database. It allows users to add data from various sources using the .add() method and then use the .query() method to retrieve answers from the added datasets.'"
      ]
     },
     "execution_count": 4,
     "metadata": {},
     "output_type": "execute_result"
    }
   ],
   "source": [
    "from embedchain import App\n",
    "\n",
    "app = App()\n",
    "app.add(\"https://docs.embedchain.ai/\", data_type=\"docs_site\")\n",
    "app.query(\"What is Embedchain?\")\n",
    "# Answer: Embedchain is a platform that utilizes various components, including paid/proprietary ones, to provide what is believed to be the best configuration available. It uses LLM (Language Model) providers such as OpenAI, Anthpropic, Vertex_AI, GPT4ALL, Azure_OpenAI, LLAMA2, JINA, and COHERE. Embedchain allows users to import and utilize these LLM providers for their applications.'\n"
   ]
  },
  {
   "cell_type": "code",
   "execution_count": 6,
   "metadata": {},
   "outputs": [
    {
     "ename": "IndexError",
     "evalue": "list index out of range",
     "output_type": "error",
     "traceback": [
      "\u001b[0;31m---------------------------------------------------------------------------\u001b[0m",
      "\u001b[0;31mIndexError\u001b[0m                                Traceback (most recent call last)",
      "\u001b[1;32m/Users/guangyaliu/go/src/github.com/gyliu513/langX101/embedchain/embedchain.ipynb Cell 4\u001b[0m line \u001b[0;36m4\n\u001b[1;32m      <a href='vscode-notebook-cell:/Users/guangyaliu/go/src/github.com/gyliu513/langX101/embedchain/embedchain.ipynb#W3sZmlsZQ%3D%3D?line=0'>1</a>\u001b[0m \u001b[39mfrom\u001b[39;00m \u001b[39membedchain\u001b[39;00m \u001b[39mimport\u001b[39;00m App\n\u001b[1;32m      <a href='vscode-notebook-cell:/Users/guangyaliu/go/src/github.com/gyliu513/langX101/embedchain/embedchain.ipynb#W3sZmlsZQ%3D%3D?line=2'>3</a>\u001b[0m app \u001b[39m=\u001b[39m App()\n\u001b[0;32m----> <a href='vscode-notebook-cell:/Users/guangyaliu/go/src/github.com/gyliu513/langX101/embedchain/embedchain.ipynb#W3sZmlsZQ%3D%3D?line=3'>4</a>\u001b[0m app\u001b[39m.\u001b[39;49madd(\u001b[39m\"\u001b[39;49m\u001b[39mhttps://www.ibm.com/products/aiops-insights\u001b[39;49m\u001b[39m\"\u001b[39;49m, data_type\u001b[39m=\u001b[39;49m\u001b[39m\"\u001b[39;49m\u001b[39mdocs_site\u001b[39;49m\u001b[39m\"\u001b[39;49m)\n\u001b[1;32m      <a href='vscode-notebook-cell:/Users/guangyaliu/go/src/github.com/gyliu513/langX101/embedchain/embedchain.ipynb#W3sZmlsZQ%3D%3D?line=4'>5</a>\u001b[0m app\u001b[39m.\u001b[39mquery(\u001b[39m\"\u001b[39m\u001b[39mWhat is Embedchain?\u001b[39m\u001b[39m\"\u001b[39m)\n",
      "File \u001b[0;32m~/ycliu/lib/python3.10/site-packages/embedchain/embedchain.py:201\u001b[0m, in \u001b[0;36mEmbedChain.add\u001b[0;34m(self, source, data_type, metadata, config, dry_run)\u001b[0m\n\u001b[1;32m    199\u001b[0m data_formatter \u001b[39m=\u001b[39m DataFormatter(data_type, config)\n\u001b[1;32m    200\u001b[0m \u001b[39mself\u001b[39m\u001b[39m.\u001b[39muser_asks\u001b[39m.\u001b[39mappend([source, data_type\u001b[39m.\u001b[39mvalue, metadata])\n\u001b[0;32m--> 201\u001b[0m documents, metadatas, _ids, new_chunks \u001b[39m=\u001b[39m \u001b[39mself\u001b[39;49m\u001b[39m.\u001b[39;49mload_and_embed(\n\u001b[1;32m    202\u001b[0m     data_formatter\u001b[39m.\u001b[39;49mloader, data_formatter\u001b[39m.\u001b[39;49mchunker, source, metadata, source_id, dry_run\n\u001b[1;32m    203\u001b[0m )\n\u001b[1;32m    204\u001b[0m \u001b[39mif\u001b[39;00m data_type \u001b[39min\u001b[39;00m {DataType\u001b[39m.\u001b[39mDOCS_SITE}:\n\u001b[1;32m    205\u001b[0m     \u001b[39mself\u001b[39m\u001b[39m.\u001b[39mis_docs_site_instance \u001b[39m=\u001b[39m \u001b[39mTrue\u001b[39;00m\n",
      "File \u001b[0;32m~/ycliu/lib/python3.10/site-packages/embedchain/embedchain.py:398\u001b[0m, in \u001b[0;36mEmbedChain.load_and_embed\u001b[0;34m(self, loader, chunker, src, metadata, source_id, dry_run)\u001b[0m\n\u001b[1;32m    395\u001b[0m \u001b[39m# Count before, to calculate a delta in the end.\u001b[39;00m\n\u001b[1;32m    396\u001b[0m chunks_before_addition \u001b[39m=\u001b[39m \u001b[39mself\u001b[39m\u001b[39m.\u001b[39mdb\u001b[39m.\u001b[39mcount()\n\u001b[0;32m--> 398\u001b[0m \u001b[39mself\u001b[39;49m\u001b[39m.\u001b[39;49mdb\u001b[39m.\u001b[39;49madd(\n\u001b[1;32m    399\u001b[0m     embeddings\u001b[39m=\u001b[39;49membeddings_data\u001b[39m.\u001b[39;49mget(\u001b[39m\"\u001b[39;49m\u001b[39membeddings\u001b[39;49m\u001b[39m\"\u001b[39;49m, \u001b[39mNone\u001b[39;49;00m),\n\u001b[1;32m    400\u001b[0m     documents\u001b[39m=\u001b[39;49mdocuments,\n\u001b[1;32m    401\u001b[0m     metadatas\u001b[39m=\u001b[39;49mmetadatas,\n\u001b[1;32m    402\u001b[0m     ids\u001b[39m=\u001b[39;49mids,\n\u001b[1;32m    403\u001b[0m     skip_embedding\u001b[39m=\u001b[39;49m(chunker\u001b[39m.\u001b[39;49mdata_type \u001b[39m==\u001b[39;49m DataType\u001b[39m.\u001b[39;49mIMAGES),\n\u001b[1;32m    404\u001b[0m )\n\u001b[1;32m    405\u001b[0m count_new_chunks \u001b[39m=\u001b[39m \u001b[39mself\u001b[39m\u001b[39m.\u001b[39mdb\u001b[39m.\u001b[39mcount() \u001b[39m-\u001b[39m chunks_before_addition\n\u001b[1;32m    407\u001b[0m \u001b[39mprint\u001b[39m((\u001b[39mf\u001b[39m\u001b[39m\"\u001b[39m\u001b[39mSuccessfully saved \u001b[39m\u001b[39m{\u001b[39;00msrc\u001b[39m}\u001b[39;00m\u001b[39m (\u001b[39m\u001b[39m{\u001b[39;00mchunker\u001b[39m.\u001b[39mdata_type\u001b[39m}\u001b[39;00m\u001b[39m). New chunks count: \u001b[39m\u001b[39m{\u001b[39;00mcount_new_chunks\u001b[39m}\u001b[39;00m\u001b[39m\"\u001b[39m))\n",
      "File \u001b[0;32m~/ycliu/lib/python3.10/site-packages/embedchain/vectordb/chroma.py:155\u001b[0m, in \u001b[0;36mChromaDB.add\u001b[0;34m(self, embeddings, documents, metadatas, ids, skip_embedding)\u001b[0m\n\u001b[1;32m    153\u001b[0m     \u001b[39mself\u001b[39m\u001b[39m.\u001b[39mcollection\u001b[39m.\u001b[39madd(embeddings\u001b[39m=\u001b[39membeddings, documents\u001b[39m=\u001b[39mdocuments, metadatas\u001b[39m=\u001b[39mmetadatas, ids\u001b[39m=\u001b[39mids)\n\u001b[1;32m    154\u001b[0m \u001b[39melse\u001b[39;00m:\n\u001b[0;32m--> 155\u001b[0m     \u001b[39mself\u001b[39;49m\u001b[39m.\u001b[39;49mcollection\u001b[39m.\u001b[39;49madd(documents\u001b[39m=\u001b[39;49mdocuments, metadatas\u001b[39m=\u001b[39;49mmetadatas, ids\u001b[39m=\u001b[39;49mids)\n",
      "File \u001b[0;32m~/ycliu/lib/python3.10/site-packages/chromadb/api/models/Collection.py:96\u001b[0m, in \u001b[0;36mCollection.add\u001b[0;34m(self, ids, embeddings, metadatas, documents)\u001b[0m\n\u001b[1;32m     70\u001b[0m \u001b[39mdef\u001b[39;00m \u001b[39madd\u001b[39m(\n\u001b[1;32m     71\u001b[0m     \u001b[39mself\u001b[39m,\n\u001b[1;32m     72\u001b[0m     ids: OneOrMany[ID],\n\u001b[0;32m   (...)\u001b[0m\n\u001b[1;32m     75\u001b[0m     documents: Optional[OneOrMany[Document]] \u001b[39m=\u001b[39m \u001b[39mNone\u001b[39;00m,\n\u001b[1;32m     76\u001b[0m ) \u001b[39m-\u001b[39m\u001b[39m>\u001b[39m \u001b[39mNone\u001b[39;00m:\n\u001b[1;32m     77\u001b[0m \u001b[39m    \u001b[39m\u001b[39m\"\"\"Add embeddings to the data store.\u001b[39;00m\n\u001b[1;32m     78\u001b[0m \u001b[39m    Args:\u001b[39;00m\n\u001b[1;32m     79\u001b[0m \u001b[39m        ids: The ids of the embeddings you wish to add\u001b[39;00m\n\u001b[0;32m   (...)\u001b[0m\n\u001b[1;32m     93\u001b[0m \n\u001b[1;32m     94\u001b[0m \u001b[39m    \"\"\"\u001b[39;00m\n\u001b[0;32m---> 96\u001b[0m     ids, embeddings, metadatas, documents \u001b[39m=\u001b[39m \u001b[39mself\u001b[39;49m\u001b[39m.\u001b[39;49m_validate_embedding_set(\n\u001b[1;32m     97\u001b[0m         ids, embeddings, metadatas, documents\n\u001b[1;32m     98\u001b[0m     )\n\u001b[1;32m    100\u001b[0m     \u001b[39mself\u001b[39m\u001b[39m.\u001b[39m_client\u001b[39m.\u001b[39m_add(ids, \u001b[39mself\u001b[39m\u001b[39m.\u001b[39mid, embeddings, metadatas, documents)\n",
      "File \u001b[0;32m~/ycliu/lib/python3.10/site-packages/chromadb/api/models/Collection.py:347\u001b[0m, in \u001b[0;36mCollection._validate_embedding_set\u001b[0;34m(self, ids, embeddings, metadatas, documents, require_embeddings_or_documents)\u001b[0m\n\u001b[1;32m    334\u001b[0m \u001b[39mdef\u001b[39;00m \u001b[39m_validate_embedding_set\u001b[39m(\n\u001b[1;32m    335\u001b[0m     \u001b[39mself\u001b[39m,\n\u001b[1;32m    336\u001b[0m     ids: OneOrMany[ID],\n\u001b[0;32m   (...)\u001b[0m\n\u001b[1;32m    345\u001b[0m     Optional[List[Document]],\n\u001b[1;32m    346\u001b[0m ]:\n\u001b[0;32m--> 347\u001b[0m     ids \u001b[39m=\u001b[39m validate_ids(maybe_cast_one_to_many(ids))\n\u001b[1;32m    348\u001b[0m     embeddings \u001b[39m=\u001b[39m (\n\u001b[1;32m    349\u001b[0m         validate_embeddings(maybe_cast_one_to_many(embeddings))\n\u001b[1;32m    350\u001b[0m         \u001b[39mif\u001b[39;00m embeddings \u001b[39mis\u001b[39;00m \u001b[39mnot\u001b[39;00m \u001b[39mNone\u001b[39;00m\n\u001b[1;32m    351\u001b[0m         \u001b[39melse\u001b[39;00m \u001b[39mNone\u001b[39;00m\n\u001b[1;32m    352\u001b[0m     )\n\u001b[1;32m    353\u001b[0m     metadatas \u001b[39m=\u001b[39m (\n\u001b[1;32m    354\u001b[0m         validate_metadatas(maybe_cast_one_to_many(metadatas))\n\u001b[1;32m    355\u001b[0m         \u001b[39mif\u001b[39;00m metadatas \u001b[39mis\u001b[39;00m \u001b[39mnot\u001b[39;00m \u001b[39mNone\u001b[39;00m\n\u001b[1;32m    356\u001b[0m         \u001b[39melse\u001b[39;00m \u001b[39mNone\u001b[39;00m\n\u001b[1;32m    357\u001b[0m     )\n",
      "File \u001b[0;32m~/ycliu/lib/python3.10/site-packages/chromadb/api/types.py:99\u001b[0m, in \u001b[0;36mmaybe_cast_one_to_many\u001b[0;34m(target)\u001b[0m\n\u001b[1;32m     97\u001b[0m         \u001b[39mreturn\u001b[39;00m [target]\n\u001b[1;32m     98\u001b[0m     \u001b[39m# One Embedding\u001b[39;00m\n\u001b[0;32m---> 99\u001b[0m     \u001b[39mif\u001b[39;00m \u001b[39misinstance\u001b[39m(target[\u001b[39m0\u001b[39;49m], (\u001b[39mint\u001b[39m, \u001b[39mfloat\u001b[39m)):\n\u001b[1;32m    100\u001b[0m         \u001b[39mreturn\u001b[39;00m [target]  \u001b[39m# type: ignore\u001b[39;00m\n\u001b[1;32m    101\u001b[0m \u001b[39m# One Metadata dict\u001b[39;00m\n",
      "\u001b[0;31mIndexError\u001b[0m: list index out of range"
     ]
    }
   ],
   "source": [
    "from embedchain import App\n",
    "\n",
    "app = App()\n",
    "app.add(\"https://www.ibm.com/products/aiops-insights\", data_type=\"docs_site\")\n",
    "app.query(\"What is Embedchain?\")"
   ]
  }
 ],
 "metadata": {
  "kernelspec": {
   "display_name": "ycliu",
   "language": "python",
   "name": "python3"
  },
  "language_info": {
   "codemirror_mode": {
    "name": "ipython",
    "version": 3
   },
   "file_extension": ".py",
   "mimetype": "text/x-python",
   "name": "python",
   "nbconvert_exporter": "python",
   "pygments_lexer": "ipython3",
   "version": "3.10.0"
  }
 },
 "nbformat": 4,
 "nbformat_minor": 2
}
