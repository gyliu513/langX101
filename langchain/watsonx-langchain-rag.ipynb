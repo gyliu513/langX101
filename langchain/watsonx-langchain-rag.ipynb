{
 "cells": [
  {
   "cell_type": "markdown",
   "metadata": {},
   "source": [
    "# Use Watsonx and LangChain to answer questions using RAG approach\n",
    "\n",
    "This notebook contains the steps and code to demonstrate support of Retrieval Augumented Generation in watsonx.ai. It introduces commands for data retrieval, knowledge base building & querying, and model testing.\n",
    "\n",
    "Some familiarity with Python is helpful. This notebook uses Python 3.10.\n",
    "\n",
    "## About Retrieval Augmented Generation\n",
    "\n",
    "Retrieval Augmented Generation (RAG) is a versatile pattern that can unlock a number of use cases requiring factual recall of information, such as querying a knowledge base in natural language.\n",
    "\n",
    "In its simplest form, RAG requires 3 steps:\n",
    "\n",
    "- Index knowledge base passages (once)\n",
    "- Retrieve relevant passage(s) from knowledge base (for every user query)\n",
    "- Generate a response by feeding retrieved passage into a large language model (for every user query)\n",
    "\n",
    "## Set up the environment\n",
    "\n",
    "Before you use the sample code in this notebook, you must perform the following setup tasks:\n",
    "\n",
    "Create a [Watson Machine Learning (WML) Service instance](https://console.ng.bluemix.net/catalog/services/ibm-watson-machine-learning/) (a free plan is offered and information about how to create the instance can be found here).\n",
    "\n",
    "## Install and import the dependecies"
   ]
  },
  {
   "cell_type": "code",
   "execution_count": 2,
   "metadata": {},
   "outputs": [
    {
     "name": "stdout",
     "output_type": "stream",
     "text": [
      "Requirement already satisfied: mypy-extensions>=0.3.0 in /Users/guangyaliu/ycliu/lib/python3.10/site-packages (from typing-inspect<1,>=0.4.0->dataclasses-json<0.7,>=0.5.7->langchain) (1.0.0)\n",
      "Requirement already satisfied: wget in /Users/guangyaliu/ycliu/lib/python3.10/site-packages (3.2)\n",
      "Requirement already satisfied: mpmath>=0.19 in /Users/guangyaliu/ycliu/lib/python3.10/site-packages (from sympy->torch>=1.6.0->sentence-transformers) (1.3.0)\n",
      "Requirement already satisfied: six>=1.10.0 in /Users/guangyaliu/ycliu/lib/python3.10/site-packages (from lomond->ibm-watson-machine-learning>=1.0.320) (1.16.0)\n",
      "Requirement already satisfied: typing-extensions>=4.1.0 in /Users/guangyaliu/ycliu/lib/python3.10/site-packages (from pydantic==1.10.0) (4.6.3)\n",
      "Requirement already satisfied: exceptiongroup in /Users/guangyaliu/ycliu/lib/python3.10/site-packages (from anyio<5,>=3.4.0->starlette<0.28.0,>=0.27.0->fastapi>=0.85.1->chromadb) (1.1.3)\n"
     ]
    }
   ],
   "source": [
    "!pip install langchain | tail -n 1\n",
    "!pip install wget | tail -n 1\n",
    "!pip install sentence-transformers | tail -n 1\n",
    "!pip install \"ibm-watson-machine-learning>=1.0.320\" | tail -n 1\n",
    "!pip install \"pydantic==1.10.0\" | tail -n 1\n",
    "!pip install chromadb | tail -n 1"
   ]
  },
  {
   "cell_type": "code",
   "execution_count": null,
   "metadata": {},
   "outputs": [],
   "source": [
    "import os, getpass"
   ]
  },
  {
   "cell_type": "markdown",
   "metadata": {},
   "source": [
    "## Watsonx API connection\n",
    "\n",
    "This cell defines the credentials required to work with watsonx API for Foundation Model inferencing.\n",
    "\n",
    "Action: Provide the IBM Cloud user API key. For details, see documentation."
   ]
  }
 ],
 "metadata": {
  "kernelspec": {
   "display_name": "ycliu",
   "language": "python",
   "name": "python3"
  },
  "language_info": {
   "codemirror_mode": {
    "name": "ipython",
    "version": 3
   },
   "file_extension": ".py",
   "mimetype": "text/x-python",
   "name": "python",
   "nbconvert_exporter": "python",
   "pygments_lexer": "ipython3",
   "version": "3.10.0"
  },
  "orig_nbformat": 4
 },
 "nbformat": 4,
 "nbformat_minor": 2
}
