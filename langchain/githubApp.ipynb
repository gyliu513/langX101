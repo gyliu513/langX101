{
 "cells": [
  {
   "cell_type": "code",
   "execution_count": 1,
   "metadata": {},
   "outputs": [
    {
     "name": "stdout",
     "output_type": "stream",
     "text": [
      "Collecting pygithub\n",
      "  Obtaining dependency information for pygithub from https://files.pythonhosted.org/packages/be/04/810d131be173cba445d3658a45512b2b2b3d0960d52c4a300d6ec5e00f52/PyGithub-2.1.1-py3-none-any.whl.metadata\n",
      "  Downloading PyGithub-2.1.1-py3-none-any.whl.metadata (2.2 kB)\n",
      "Collecting pynacl>=1.4.0 (from pygithub)\n",
      "  Downloading PyNaCl-1.5.0-cp36-abi3-macosx_10_10_universal2.whl (349 kB)\n",
      "\u001b[2K     \u001b[90m━━━━━━━━━━━━━━━━━━━━━━━━━━━━━━━━━━━━━━━\u001b[0m \u001b[32m349.9/349.9 kB\u001b[0m \u001b[31m4.4 MB/s\u001b[0m eta \u001b[36m0:00:00\u001b[0ma \u001b[36m0:00:01\u001b[0m\n",
      "\u001b[?25hRequirement already satisfied: python-dateutil in /Users/gyliu/py311/lib/python3.11/site-packages (from pygithub) (2.8.2)\n",
      "Requirement already satisfied: requests>=2.14.0 in /Users/gyliu/py311/lib/python3.11/site-packages (from pygithub) (2.31.0)\n",
      "Collecting pyjwt[crypto]>=2.4.0 (from pygithub)\n",
      "  Obtaining dependency information for pyjwt[crypto]>=2.4.0 from https://files.pythonhosted.org/packages/2b/4f/e04a8067c7c96c364cef7ef73906504e2f40d690811c021e1a1901473a19/PyJWT-2.8.0-py3-none-any.whl.metadata\n",
      "  Downloading PyJWT-2.8.0-py3-none-any.whl.metadata (4.2 kB)\n",
      "Requirement already satisfied: typing-extensions>=4.0.0 in /Users/gyliu/py311/lib/python3.11/site-packages (from pygithub) (4.8.0)\n",
      "Requirement already satisfied: urllib3>=1.26.0 in /Users/gyliu/py311/lib/python3.11/site-packages (from pygithub) (1.26.18)\n",
      "Requirement already satisfied: Deprecated in /Users/gyliu/py311/lib/python3.11/site-packages (from pygithub) (1.2.14)\n",
      "Requirement already satisfied: cryptography>=3.4.0 in /Users/gyliu/py311/lib/python3.11/site-packages (from pyjwt[crypto]>=2.4.0->pygithub) (41.0.5)\n",
      "Requirement already satisfied: cffi>=1.4.1 in /Users/gyliu/py311/lib/python3.11/site-packages (from pynacl>=1.4.0->pygithub) (1.16.0)\n",
      "Requirement already satisfied: charset-normalizer<4,>=2 in /Users/gyliu/py311/lib/python3.11/site-packages (from requests>=2.14.0->pygithub) (3.3.2)\n",
      "Requirement already satisfied: idna<4,>=2.5 in /Users/gyliu/py311/lib/python3.11/site-packages (from requests>=2.14.0->pygithub) (3.4)\n",
      "Requirement already satisfied: certifi>=2017.4.17 in /Users/gyliu/py311/lib/python3.11/site-packages (from requests>=2.14.0->pygithub) (2023.7.22)\n",
      "Requirement already satisfied: wrapt<2,>=1.10 in /Users/gyliu/py311/lib/python3.11/site-packages (from Deprecated->pygithub) (1.16.0)\n",
      "Requirement already satisfied: six>=1.5 in /Users/gyliu/py311/lib/python3.11/site-packages (from python-dateutil->pygithub) (1.16.0)\n",
      "Requirement already satisfied: pycparser in /Users/gyliu/py311/lib/python3.11/site-packages (from cffi>=1.4.1->pynacl>=1.4.0->pygithub) (2.21)\n",
      "Downloading PyGithub-2.1.1-py3-none-any.whl (302 kB)\n",
      "\u001b[2K   \u001b[90m━━━━━━━━━━━━━━━━━━━━━━━━━━━━━━━━━━━━━━━━\u001b[0m \u001b[32m302.9/302.9 kB\u001b[0m \u001b[31m22.1 MB/s\u001b[0m eta \u001b[36m0:00:00\u001b[0m\n",
      "\u001b[?25hDownloading PyJWT-2.8.0-py3-none-any.whl (22 kB)\n",
      "Installing collected packages: pyjwt, pynacl, pygithub\n",
      "Successfully installed pygithub-2.1.1 pyjwt-2.8.0 pynacl-1.5.0\n",
      "\n",
      "\u001b[1m[\u001b[0m\u001b[34;49mnotice\u001b[0m\u001b[1;39;49m]\u001b[0m\u001b[39;49m A new release of pip is available: \u001b[0m\u001b[31;49m23.2.1\u001b[0m\u001b[39;49m -> \u001b[0m\u001b[32;49m23.3.1\u001b[0m\n",
      "\u001b[1m[\u001b[0m\u001b[34;49mnotice\u001b[0m\u001b[1;39;49m]\u001b[0m\u001b[39;49m To update, run: \u001b[0m\u001b[32;49mpip install --upgrade pip\u001b[0m\n"
     ]
    }
   ],
   "source": [
    "!pip install pygithub"
   ]
  },
  {
   "cell_type": "code",
   "execution_count": 1,
   "metadata": {},
   "outputs": [
    {
     "data": {
      "text/plain": [
       "True"
      ]
     },
     "execution_count": 1,
     "metadata": {},
     "output_type": "execute_result"
    }
   ],
   "source": [
    "from dotenv import load_dotenv\n",
    "import os\n",
    "load_dotenv()"
   ]
  },
  {
   "cell_type": "code",
   "execution_count": 2,
   "metadata": {},
   "outputs": [],
   "source": [
    "import os\n",
    "\n",
    "from langchain.agents import AgentType, initialize_agent\n",
    "from langchain.agents.agent_toolkits.github.toolkit import GitHubToolkit\n",
    "from langchain.llms import OpenAI\n",
    "from langchain.utilities.github import GitHubAPIWrapper"
   ]
  },
  {
   "cell_type": "code",
   "execution_count": 7,
   "metadata": {},
   "outputs": [
    {
     "ename": "IndexError",
     "evalue": "list index out of range",
     "output_type": "error",
     "traceback": [
      "\u001b[0;31m---------------------------------------------------------------------------\u001b[0m",
      "\u001b[0;31mIndexError\u001b[0m                                Traceback (most recent call last)",
      "\u001b[1;32m/Users/gyliu/go/src/github.com/gyliu513/langX101/langchain/github.ipynb Cell 5\u001b[0m line \u001b[0;36m2\n\u001b[1;32m      <a href='vscode-notebook-cell:/Users/gyliu/go/src/github.com/gyliu513/langX101/langchain/github.ipynb#W3sZmlsZQ%3D%3D?line=0'>1</a>\u001b[0m llm \u001b[39m=\u001b[39m OpenAI(temperature\u001b[39m=\u001b[39m\u001b[39m0\u001b[39m)\n\u001b[0;32m----> <a href='vscode-notebook-cell:/Users/gyliu/go/src/github.com/gyliu513/langX101/langchain/github.ipynb#W3sZmlsZQ%3D%3D?line=1'>2</a>\u001b[0m github \u001b[39m=\u001b[39m GitHubAPIWrapper()\n\u001b[1;32m      <a href='vscode-notebook-cell:/Users/gyliu/go/src/github.com/gyliu513/langX101/langchain/github.ipynb#W3sZmlsZQ%3D%3D?line=2'>3</a>\u001b[0m toolkit \u001b[39m=\u001b[39m GitHubToolkit\u001b[39m.\u001b[39mfrom_github_api_wrapper(github)\n\u001b[1;32m      <a href='vscode-notebook-cell:/Users/gyliu/go/src/github.com/gyliu513/langX101/langchain/github.ipynb#W3sZmlsZQ%3D%3D?line=3'>4</a>\u001b[0m agent \u001b[39m=\u001b[39m initialize_agent(\n\u001b[1;32m      <a href='vscode-notebook-cell:/Users/gyliu/go/src/github.com/gyliu513/langX101/langchain/github.ipynb#W3sZmlsZQ%3D%3D?line=4'>5</a>\u001b[0m     toolkit\u001b[39m.\u001b[39mget_tools(), llm, agent\u001b[39m=\u001b[39mAgentType\u001b[39m.\u001b[39mZERO_SHOT_REACT_DESCRIPTION, verbose\u001b[39m=\u001b[39m\u001b[39mTrue\u001b[39;00m\n\u001b[1;32m      <a href='vscode-notebook-cell:/Users/gyliu/go/src/github.com/gyliu513/langX101/langchain/github.ipynb#W3sZmlsZQ%3D%3D?line=5'>6</a>\u001b[0m )\n",
      "File \u001b[0;32m~/py311/lib/python3.11/site-packages/pydantic/v1/main.py:339\u001b[0m, in \u001b[0;36mBaseModel.__init__\u001b[0;34m(__pydantic_self__, **data)\u001b[0m\n\u001b[1;32m    333\u001b[0m \u001b[39m\u001b[39m\u001b[39m\"\"\"\u001b[39;00m\n\u001b[1;32m    334\u001b[0m \u001b[39mCreate a new model by parsing and validating input data from keyword arguments.\u001b[39;00m\n\u001b[1;32m    335\u001b[0m \n\u001b[1;32m    336\u001b[0m \u001b[39mRaises ValidationError if the input data cannot be parsed to form a valid model.\u001b[39;00m\n\u001b[1;32m    337\u001b[0m \u001b[39m\"\"\"\u001b[39;00m\n\u001b[1;32m    338\u001b[0m \u001b[39m# Uses something other than `self` the first arg to allow \"self\" as a settable attribute\u001b[39;00m\n\u001b[0;32m--> 339\u001b[0m values, fields_set, validation_error \u001b[39m=\u001b[39m validate_model(__pydantic_self__\u001b[39m.\u001b[39;49m\u001b[39m__class__\u001b[39;49m, data)\n\u001b[1;32m    340\u001b[0m \u001b[39mif\u001b[39;00m validation_error:\n\u001b[1;32m    341\u001b[0m     \u001b[39mraise\u001b[39;00m validation_error\n",
      "File \u001b[0;32m~/py311/lib/python3.11/site-packages/pydantic/v1/main.py:1102\u001b[0m, in \u001b[0;36mvalidate_model\u001b[0;34m(model, input_data, cls)\u001b[0m\n\u001b[1;32m   1100\u001b[0m     \u001b[39mcontinue\u001b[39;00m\n\u001b[1;32m   1101\u001b[0m \u001b[39mtry\u001b[39;00m:\n\u001b[0;32m-> 1102\u001b[0m     values \u001b[39m=\u001b[39m validator(cls_, values)\n\u001b[1;32m   1103\u001b[0m \u001b[39mexcept\u001b[39;00m (\u001b[39mValueError\u001b[39;00m, \u001b[39mTypeError\u001b[39;00m, \u001b[39mAssertionError\u001b[39;00m) \u001b[39mas\u001b[39;00m exc:\n\u001b[1;32m   1104\u001b[0m     errors\u001b[39m.\u001b[39mappend(ErrorWrapper(exc, loc\u001b[39m=\u001b[39mROOT_KEY))\n",
      "File \u001b[0;32m~/py311/lib/python3.11/site-packages/langchain/utilities/github.py:67\u001b[0m, in \u001b[0;36mGitHubAPIWrapper.validate_environment\u001b[0;34m(cls, values)\u001b[0m\n\u001b[1;32m     62\u001b[0m auth \u001b[39m=\u001b[39m Auth\u001b[39m.\u001b[39mAppAuth(\n\u001b[1;32m     63\u001b[0m     github_app_id,\n\u001b[1;32m     64\u001b[0m     private_key,\n\u001b[1;32m     65\u001b[0m )\n\u001b[1;32m     66\u001b[0m gi \u001b[39m=\u001b[39m GithubIntegration(auth\u001b[39m=\u001b[39mauth)\n\u001b[0;32m---> 67\u001b[0m installation \u001b[39m=\u001b[39m gi\u001b[39m.\u001b[39;49mget_installations()[\u001b[39m0\u001b[39;49m]\n\u001b[1;32m     69\u001b[0m \u001b[39m# create a GitHub instance:\u001b[39;00m\n\u001b[1;32m     70\u001b[0m g \u001b[39m=\u001b[39m installation\u001b[39m.\u001b[39mget_github_for_installation()\n",
      "File \u001b[0;32m~/py311/lib/python3.11/site-packages/github/PaginatedList.py:62\u001b[0m, in \u001b[0;36mPaginatedListBase.__getitem__\u001b[0;34m(self, index)\u001b[0m\n\u001b[1;32m     60\u001b[0m \u001b[39mif\u001b[39;00m \u001b[39misinstance\u001b[39m(index, \u001b[39mint\u001b[39m):\n\u001b[1;32m     61\u001b[0m     \u001b[39mself\u001b[39m\u001b[39m.\u001b[39m__fetchToIndex(index)\n\u001b[0;32m---> 62\u001b[0m     \u001b[39mreturn\u001b[39;00m \u001b[39mself\u001b[39;49m\u001b[39m.\u001b[39;49m__elements[index]\n\u001b[1;32m     63\u001b[0m \u001b[39melse\u001b[39;00m:\n\u001b[1;32m     64\u001b[0m     \u001b[39mreturn\u001b[39;00m \u001b[39mself\u001b[39m\u001b[39m.\u001b[39m_Slice(\u001b[39mself\u001b[39m, index)\n",
      "\u001b[0;31mIndexError\u001b[0m: list index out of range"
     ]
    }
   ],
   "source": [
    "llm = OpenAI(temperature=0)\n",
    "github = GitHubAPIWrapper()\n",
    "toolkit = GitHubToolkit.from_github_api_wrapper(github)\n",
    "agent = initialize_agent(\n",
    "    toolkit.get_tools(), llm, agent=AgentType.ZERO_SHOT_REACT_DESCRIPTION, verbose=True\n",
    ")"
   ]
  }
 ],
 "metadata": {
  "kernelspec": {
   "display_name": "py311",
   "language": "python",
   "name": "python3"
  },
  "language_info": {
   "codemirror_mode": {
    "name": "ipython",
    "version": 3
   },
   "file_extension": ".py",
   "mimetype": "text/x-python",
   "name": "python",
   "nbconvert_exporter": "python",
   "pygments_lexer": "ipython3",
   "version": "3.11.6"
  }
 },
 "nbformat": 4,
 "nbformat_minor": 2
}
