{
 "cells": [
  {
   "cell_type": "code",
   "execution_count": 1,
   "metadata": {},
   "outputs": [
    {
     "data": {
      "text/plain": [
       "True"
      ]
     },
     "execution_count": 1,
     "metadata": {},
     "output_type": "execute_result"
    }
   ],
   "source": [
    "from dotenv import load_dotenv\n",
    "import os\n",
    "load_dotenv()"
   ]
  },
  {
   "cell_type": "code",
   "execution_count": null,
   "metadata": {},
   "outputs": [],
   "source": [
    "!pip install helicone"
   ]
  },
  {
   "cell_type": "code",
   "execution_count": 2,
   "metadata": {},
   "outputs": [
    {
     "ename": "ModuleNotFoundError",
     "evalue": "No module named 'helicone'",
     "output_type": "error",
     "traceback": [
      "\u001b[0;31m---------------------------------------------------------------------------\u001b[0m",
      "\u001b[0;31mModuleNotFoundError\u001b[0m                       Traceback (most recent call last)",
      "\u001b[1;32m/Users/guangyaliu/go/src/github.com/gyliu513/langX101/helicone/helicone.ipynb Cell 2\u001b[0m line \u001b[0;36m1\n\u001b[0;32m----> <a href='vscode-notebook-cell:/Users/guangyaliu/go/src/github.com/gyliu513/langX101/helicone/helicone.ipynb#W4sZmlsZQ%3D%3D?line=0'>1</a>\u001b[0m \u001b[39mfrom\u001b[39;00m \u001b[39mhelicone\u001b[39;00m\u001b[39m.\u001b[39;00m\u001b[39mopenai_async\u001b[39;00m \u001b[39mimport\u001b[39;00m openai, Meta\n\u001b[1;32m      <a href='vscode-notebook-cell:/Users/guangyaliu/go/src/github.com/gyliu513/langX101/helicone/helicone.ipynb#W4sZmlsZQ%3D%3D?line=2'>3</a>\u001b[0m \u001b[39m# export HELICONE_API_KEY=sk-<your-api-key>\u001b[39;00m\n\u001b[1;32m      <a href='vscode-notebook-cell:/Users/guangyaliu/go/src/github.com/gyliu513/langX101/helicone/helicone.ipynb#W4sZmlsZQ%3D%3D?line=3'>4</a>\u001b[0m \n\u001b[1;32m      <a href='vscode-notebook-cell:/Users/guangyaliu/go/src/github.com/gyliu513/langX101/helicone/helicone.ipynb#W4sZmlsZQ%3D%3D?line=4'>5</a>\u001b[0m \u001b[39m# or ...\u001b[39;00m\n\u001b[0;32m   (...)\u001b[0m\n\u001b[1;32m      <a href='vscode-notebook-cell:/Users/guangyaliu/go/src/github.com/gyliu513/langX101/helicone/helicone.ipynb#W4sZmlsZQ%3D%3D?line=7'>8</a>\u001b[0m \n\u001b[1;32m      <a href='vscode-notebook-cell:/Users/guangyaliu/go/src/github.com/gyliu513/langX101/helicone/helicone.ipynb#W4sZmlsZQ%3D%3D?line=8'>9</a>\u001b[0m \u001b[39m# helicone_global.api_key = \"sk-<your-api-key>\"\u001b[39;00m\n\u001b[1;32m     <a href='vscode-notebook-cell:/Users/guangyaliu/go/src/github.com/gyliu513/langX101/helicone/helicone.ipynb#W4sZmlsZQ%3D%3D?line=10'>11</a>\u001b[0m x \u001b[39m=\u001b[39m openai\u001b[39m.\u001b[39mChatCompletion\u001b[39m.\u001b[39mcreate(\n\u001b[1;32m     <a href='vscode-notebook-cell:/Users/guangyaliu/go/src/github.com/gyliu513/langX101/helicone/helicone.ipynb#W4sZmlsZQ%3D%3D?line=11'>12</a>\u001b[0m   model\u001b[39m=\u001b[39m\u001b[39m\"\u001b[39m\u001b[39mgpt-3.5-turbo\u001b[39m\u001b[39m\"\u001b[39m,\n\u001b[1;32m     <a href='vscode-notebook-cell:/Users/guangyaliu/go/src/github.com/gyliu513/langX101/helicone/helicone.ipynb#W4sZmlsZQ%3D%3D?line=12'>13</a>\u001b[0m   messages\u001b[39m=\u001b[39m[{\n\u001b[0;32m   (...)\u001b[0m\n\u001b[1;32m     <a href='vscode-notebook-cell:/Users/guangyaliu/go/src/github.com/gyliu513/langX101/helicone/helicone.ipynb#W4sZmlsZQ%3D%3D?line=21'>22</a>\u001b[0m   )\n\u001b[1;32m     <a href='vscode-notebook-cell:/Users/guangyaliu/go/src/github.com/gyliu513/langX101/helicone/helicone.ipynb#W4sZmlsZQ%3D%3D?line=22'>23</a>\u001b[0m )\n",
      "\u001b[0;31mModuleNotFoundError\u001b[0m: No module named 'helicone'"
     ]
    }
   ],
   "source": [
    "from helicone.openai_async import openai, Meta\n",
    "\n",
    "# export HELICONE_API_KEY=sk-<your-api-key>\n",
    "\n",
    "# or ...\n",
    "\n",
    "# from helicone.globals import helicone_global\n",
    "\n",
    "# helicone_global.api_key = \"sk-<your-api-key>\"\n",
    "\n",
    "x = openai.ChatCompletion.create(\n",
    "  model=\"gpt-3.5-turbo\",\n",
    "  messages=[{\n",
    "  \"role\": \"system\",\n",
    "  \"content\": \"This will be logged\"\n",
    "  }],\n",
    "  max_tokens=512,\n",
    "  helicone_meta=Meta(\n",
    "    custom_properties={\n",
    "    \"age\": 25\n",
    "    }\n",
    "  )\n",
    ")\n",
    "\n",
    "\n"
   ]
  }
 ],
 "metadata": {
  "kernelspec": {
   "display_name": "ycliu",
   "language": "python",
   "name": "python3"
  },
  "language_info": {
   "codemirror_mode": {
    "name": "ipython",
    "version": 3
   },
   "file_extension": ".py",
   "mimetype": "text/x-python",
   "name": "python",
   "nbconvert_exporter": "python",
   "pygments_lexer": "ipython3",
   "version": "3.10.0"
  }
 },
 "nbformat": 4,
 "nbformat_minor": 2
}
