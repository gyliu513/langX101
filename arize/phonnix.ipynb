{
 "cells": [
  {
   "cell_type": "code",
   "execution_count": 4,
   "metadata": {},
   "outputs": [
    {
     "name": "stdout",
     "output_type": "stream",
     "text": [
      "🌍 To view the Phoenix app in your browser, visit http://127.0.0.1:6006/\n",
      "📺 To view the Phoenix app in a notebook, run `px.active_session().view()`\n",
      "📖 For more information on how to use Phoenix, check out https://docs.arize.com/phoenix\n"
     ]
    }
   ],
   "source": [
    "import phoenix as px\n",
    "session = px.launch_app()"
   ]
  },
  {
   "cell_type": "code",
   "execution_count": 5,
   "metadata": {},
   "outputs": [
    {
     "data": {
      "text/plain": [
       "True"
      ]
     },
     "execution_count": 5,
     "metadata": {},
     "output_type": "execute_result"
    }
   ],
   "source": [
    "from dotenv import load_dotenv\n",
    "import os\n",
    "load_dotenv()"
   ]
  },
  {
   "cell_type": "code",
   "execution_count": 6,
   "metadata": {},
   "outputs": [],
   "source": [
    "from phoenix.trace.tracer import Tracer\n",
    "from phoenix.trace.openai.instrumentor import OpenAIInstrumentor\n",
    "from phoenix.trace.exporter import HttpExporter\n",
    "from phoenix.trace.openai import OpenAIInstrumentor\n",
    "import openai\n",
    "\n",
    "tracer = Tracer(exporter=HttpExporter())\n",
    "OpenAIInstrumentor(tracer).instrument()\n",
    "\n",
    "# Define a conversation with a user message\n",
    "conversation = [\n",
    "    {\"role\": \"system\", \"content\": \"You are a helpful assistant.\"},\n",
    "    {\"role\": \"user\", \"content\": \"Hello, can you help me with something?\"}\n",
    "]\n",
    "\n",
    "'''\n",
    "\n",
    "# Generate a response from the assistant\n",
    "response = openai.ChatCompletion.create(\n",
    "    model=\"gpt-3.5-turbo\",\n",
    "    messages=conversation,\n",
    ")\n",
    "\n",
    "# Extract and print the assistant's reply\n",
    "assistant_reply = response['choices'][0]['message']['content']\n",
    "'''\n",
    "\n",
    "from openai import OpenAI\n",
    "\n",
    "client = OpenAI(\n",
    "    # defaults to os.environ.get(\"OPENAI_API_KEY\")\n",
    "    api_key=os.getenv(\"OPENAI_API_KEY\"),\n",
    ")\n",
    "\n",
    "response = client.chat.completions.create(\n",
    "    model=\"gpt-3.5-turbo\",\n",
    "    messages=conversation,\n",
    ")\n",
    "\n",
    "# Extract and print the assistant's reply\n",
    "# assistant_reply = response['choices'][0]['message']['content']\n",
    "\n",
    "\n",
    "#The traces will be available in the Phoenix App for the above messsages\n"
   ]
  },
  {
   "cell_type": "code",
   "execution_count": 7,
   "metadata": {},
   "outputs": [
    {
     "ename": "NameError",
     "evalue": "name 'chain' is not defined",
     "output_type": "error",
     "traceback": [
      "\u001b[0;31m---------------------------------------------------------------------------\u001b[0m",
      "\u001b[0;31mNameError\u001b[0m                                 Traceback (most recent call last)",
      "\u001b[1;32m/Users/gyliu/go/src/github.com/gyliu513/langX101/arize/phonnix.ipynb Cell 4\u001b[0m line \u001b[0;36m6\n\u001b[1;32m      <a href='vscode-notebook-cell:/Users/gyliu/go/src/github.com/gyliu513/langX101/arize/phonnix.ipynb#W3sZmlsZQ%3D%3D?line=2'>3</a>\u001b[0m tracer \u001b[39m=\u001b[39m OpenInferenceTracer()\n\u001b[1;32m      <a href='vscode-notebook-cell:/Users/gyliu/go/src/github.com/gyliu513/langX101/arize/phonnix.ipynb#W3sZmlsZQ%3D%3D?line=4'>5</a>\u001b[0m \u001b[39m# Run the application with the tracer\u001b[39;00m\n\u001b[0;32m----> <a href='vscode-notebook-cell:/Users/gyliu/go/src/github.com/gyliu513/langX101/arize/phonnix.ipynb#W3sZmlsZQ%3D%3D?line=5'>6</a>\u001b[0m chain\u001b[39m.\u001b[39mrun(query, callbacks\u001b[39m=\u001b[39m[tracer])\n\u001b[1;32m      <a href='vscode-notebook-cell:/Users/gyliu/go/src/github.com/gyliu513/langX101/arize/phonnix.ipynb#W3sZmlsZQ%3D%3D?line=7'>8</a>\u001b[0m \u001b[39m# When you are ready to analyze the data, you can convert the traces\u001b[39;00m\n\u001b[1;32m      <a href='vscode-notebook-cell:/Users/gyliu/go/src/github.com/gyliu513/langX101/arize/phonnix.ipynb#W3sZmlsZQ%3D%3D?line=8'>9</a>\u001b[0m ds \u001b[39m=\u001b[39m TraceDataset\u001b[39m.\u001b[39mfrom_spans(tracer\u001b[39m.\u001b[39mget_spans())\n",
      "\u001b[0;31mNameError\u001b[0m: name 'chain' is not defined"
     ]
    }
   ],
   "source": [
    "from phoenix.trace.langchain import OpenInferenceTracer\n",
    "\n",
    "tracer = OpenInferenceTracer()\n",
    "\n",
    "# Run the application with the tracer\n",
    "chain.run(query, callbacks=[tracer])\n",
    "\n",
    "# When you are ready to analyze the data, you can convert the traces\n",
    "ds = TraceDataset.from_spans(tracer.get_spans())\n",
    "\n",
    "# Print the dataframe\n",
    "ds.dataframe.head()\n",
    "\n",
    "# Re-initialize the app with the trace dataset\n",
    "px.launch_app(trace=ds)"
   ]
  }
 ],
 "metadata": {
  "kernelspec": {
   "display_name": "py311",
   "language": "python",
   "name": "python3"
  },
  "language_info": {
   "codemirror_mode": {
    "name": "ipython",
    "version": 3
   },
   "file_extension": ".py",
   "mimetype": "text/x-python",
   "name": "python",
   "nbconvert_exporter": "python",
   "pygments_lexer": "ipython3",
   "version": "3.11.6"
  }
 },
 "nbformat": 4,
 "nbformat_minor": 2
}
