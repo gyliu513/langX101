{
 "cells": [
  {
   "cell_type": "code",
   "execution_count": 1,
   "metadata": {},
   "outputs": [
    {
     "name": "stdout",
     "output_type": "stream",
     "text": [
      "Collecting arize\n",
      "  Obtaining dependency information for arize from https://files.pythonhosted.org/packages/02/8d/dc532d8e2005f3f6abfc283e34ed047bb4df3ac523729f39c891c1153842/arize-7.7.2-py2.py3-none-any.whl.metadata\n",
      "  Downloading arize-7.7.2-py2.py3-none-any.whl.metadata (13 kB)\n",
      "Collecting requests-futures==1.0.0 (from arize)\n",
      "  Downloading requests_futures-1.0.0-py2.py3-none-any.whl (7.4 kB)\n",
      "Requirement already satisfied: googleapis-common-protos~=1.51 in /Users/gyliu/py311/lib/python3.11/site-packages (from arize) (1.61.0)\n",
      "Requirement already satisfied: protobuf<5,>=3.12 in /Users/gyliu/py311/lib/python3.11/site-packages (from arize) (4.25.1)\n",
      "Requirement already satisfied: pandas<2,>=0.25.3 in /Users/gyliu/py311/lib/python3.11/site-packages (from arize) (1.5.3)\n",
      "Collecting pyarrow>=0.15.0 (from arize)\n",
      "  Obtaining dependency information for pyarrow>=0.15.0 from https://files.pythonhosted.org/packages/58/4e/bd9bf0aaead74ba46996cf11a608894e1867e8e5f850fd7679018a117c60/pyarrow-14.0.1-cp311-cp311-macosx_11_0_arm64.whl.metadata\n",
      "  Downloading pyarrow-14.0.1-cp311-cp311-macosx_11_0_arm64.whl.metadata (3.0 kB)\n",
      "Collecting tqdm<5,>=4.60.0 (from arize)\n",
      "  Obtaining dependency information for tqdm<5,>=4.60.0 from https://files.pythonhosted.org/packages/00/e5/f12a80907d0884e6dff9c16d0c0114d81b8cd07dc3ae54c5e962cc83037e/tqdm-4.66.1-py3-none-any.whl.metadata\n",
      "  Downloading tqdm-4.66.1-py3-none-any.whl.metadata (57 kB)\n",
      "\u001b[2K     \u001b[90m━━━━━━━━━━━━━━━━━━━━━━━━━━━━━━━━━━━━━━━━\u001b[0m \u001b[32m57.6/57.6 kB\u001b[0m \u001b[31m2.0 MB/s\u001b[0m eta \u001b[36m0:00:00\u001b[0m\n",
      "\u001b[?25hRequirement already satisfied: requests>=1.2.0 in /Users/gyliu/py311/lib/python3.11/site-packages (from requests-futures==1.0.0->arize) (2.31.0)\n",
      "Requirement already satisfied: python-dateutil>=2.8.1 in /Users/gyliu/py311/lib/python3.11/site-packages (from pandas<2,>=0.25.3->arize) (2.8.2)\n",
      "Requirement already satisfied: pytz>=2020.1 in /Users/gyliu/py311/lib/python3.11/site-packages (from pandas<2,>=0.25.3->arize) (2023.3.post1)\n",
      "Requirement already satisfied: numpy>=1.21.0 in /Users/gyliu/py311/lib/python3.11/site-packages (from pandas<2,>=0.25.3->arize) (1.26.2)\n",
      "Requirement already satisfied: six>=1.5 in /Users/gyliu/py311/lib/python3.11/site-packages (from python-dateutil>=2.8.1->pandas<2,>=0.25.3->arize) (1.16.0)\n",
      "Requirement already satisfied: charset-normalizer<4,>=2 in /Users/gyliu/py311/lib/python3.11/site-packages (from requests>=1.2.0->requests-futures==1.0.0->arize) (3.3.2)\n",
      "Requirement already satisfied: idna<4,>=2.5 in /Users/gyliu/py311/lib/python3.11/site-packages (from requests>=1.2.0->requests-futures==1.0.0->arize) (3.4)\n",
      "Requirement already satisfied: urllib3<3,>=1.21.1 in /Users/gyliu/py311/lib/python3.11/site-packages (from requests>=1.2.0->requests-futures==1.0.0->arize) (1.26.18)\n",
      "Requirement already satisfied: certifi>=2017.4.17 in /Users/gyliu/py311/lib/python3.11/site-packages (from requests>=1.2.0->requests-futures==1.0.0->arize) (2023.7.22)\n",
      "Downloading arize-7.7.2-py2.py3-none-any.whl (96 kB)\n",
      "\u001b[2K   \u001b[90m━━━━━━━━━━━━━━━━━━━━━━━━━━━━━━━━━━━━━━━━\u001b[0m \u001b[32m96.1/96.1 kB\u001b[0m \u001b[31m4.7 MB/s\u001b[0m eta \u001b[36m0:00:00\u001b[0m\n",
      "\u001b[?25hDownloading pyarrow-14.0.1-cp311-cp311-macosx_11_0_arm64.whl (24.0 MB)\n",
      "\u001b[2K   \u001b[90m━━━━━━━━━━━━━━━━━━━━━━━━━━━━━━━━━━━━━━━━\u001b[0m \u001b[32m24.0/24.0 MB\u001b[0m \u001b[31m59.8 MB/s\u001b[0m eta \u001b[36m0:00:00\u001b[0m00:01\u001b[0m00:01\u001b[0m\n",
      "\u001b[?25hDownloading tqdm-4.66.1-py3-none-any.whl (78 kB)\n",
      "\u001b[2K   \u001b[90m━━━━━━━━━━━━━━━━━━━━━━━━━━━━━━━━━━━━━━━━\u001b[0m \u001b[32m78.3/78.3 kB\u001b[0m \u001b[31m16.0 MB/s\u001b[0m eta \u001b[36m0:00:00\u001b[0m\n",
      "\u001b[?25hInstalling collected packages: tqdm, pyarrow, requests-futures, arize\n",
      "Successfully installed arize-7.7.2 pyarrow-14.0.1 requests-futures-1.0.0 tqdm-4.66.1\n",
      "\n",
      "\u001b[1m[\u001b[0m\u001b[34;49mnotice\u001b[0m\u001b[1;39;49m]\u001b[0m\u001b[39;49m A new release of pip is available: \u001b[0m\u001b[31;49m23.2.1\u001b[0m\u001b[39;49m -> \u001b[0m\u001b[32;49m23.3.1\u001b[0m\n",
      "\u001b[1m[\u001b[0m\u001b[34;49mnotice\u001b[0m\u001b[1;39;49m]\u001b[0m\u001b[39;49m To update, run: \u001b[0m\u001b[32;49mpip install --upgrade pip\u001b[0m\n"
     ]
    }
   ],
   "source": [
    "!pip install arize"
   ]
  },
  {
   "cell_type": "code",
   "execution_count": 3,
   "metadata": {},
   "outputs": [
    {
     "data": {
      "text/plain": [
       "True"
      ]
     },
     "execution_count": 3,
     "metadata": {},
     "output_type": "execute_result"
    }
   ],
   "source": [
    "\n",
    "\n",
    "from dotenv import load_dotenv\n",
    "import os\n",
    "load_dotenv()"
   ]
  },
  {
   "cell_type": "code",
   "execution_count": 4,
   "metadata": {},
   "outputs": [],
   "source": [
    "from arize.pandas.logger import Client, Schema\n",
    "from arize.utils.types import ModelTypes, Environments, Schema, Metrics\n",
    "\n",
    "API_KEY = os.environ[\"API_KEY\"]\n",
    "SPACE_KEY = os.environ[\"SPACE_KEY\"]\n",
    "arize_client = Client(space_key=SPACE_KEY, api_key=API_KEY)"
   ]
  },
  {
   "cell_type": "code",
   "execution_count": 6,
   "metadata": {},
   "outputs": [
    {
     "name": "stdout",
     "output_type": "stream",
     "text": [
      "Collecting scikit-learn\n",
      "  Obtaining dependency information for scikit-learn from https://files.pythonhosted.org/packages/40/c6/2e91eefb757822e70d351e02cc38d07c137212ae7c41ac12746415b4860a/scikit_learn-1.3.2-cp311-cp311-macosx_12_0_arm64.whl.metadata\n",
      "  Downloading scikit_learn-1.3.2-cp311-cp311-macosx_12_0_arm64.whl.metadata (11 kB)\n",
      "Requirement already satisfied: numpy<2.0,>=1.17.3 in /Users/gyliu/py311/lib/python3.11/site-packages (from scikit-learn) (1.26.2)\n",
      "Collecting scipy>=1.5.0 (from scikit-learn)\n",
      "  Obtaining dependency information for scipy>=1.5.0 from https://files.pythonhosted.org/packages/50/8b/2057417a07a6fee8ed8be40e37bac4a502cae4cf44468a02962bbe81b8af/scipy-1.11.3-cp311-cp311-macosx_12_0_arm64.whl.metadata\n",
      "  Downloading scipy-1.11.3-cp311-cp311-macosx_12_0_arm64.whl.metadata (165 kB)\n",
      "\u001b[2K     \u001b[90m━━━━━━━━━━━━━━━━━━━━━━━━━━━━━━━━━━━━━━━\u001b[0m \u001b[32m165.4/165.4 kB\u001b[0m \u001b[31m2.7 MB/s\u001b[0m eta \u001b[36m0:00:00\u001b[0ma \u001b[36m0:00:01\u001b[0m\n",
      "\u001b[?25hCollecting joblib>=1.1.1 (from scikit-learn)\n",
      "  Obtaining dependency information for joblib>=1.1.1 from https://files.pythonhosted.org/packages/10/40/d551139c85db202f1f384ba8bcf96aca2f329440a844f924c8a0040b6d02/joblib-1.3.2-py3-none-any.whl.metadata\n",
      "  Downloading joblib-1.3.2-py3-none-any.whl.metadata (5.4 kB)\n",
      "Collecting threadpoolctl>=2.0.0 (from scikit-learn)\n",
      "  Obtaining dependency information for threadpoolctl>=2.0.0 from https://files.pythonhosted.org/packages/81/12/fd4dea011af9d69e1cad05c75f3f7202cdcbeac9b712eea58ca779a72865/threadpoolctl-3.2.0-py3-none-any.whl.metadata\n",
      "  Downloading threadpoolctl-3.2.0-py3-none-any.whl.metadata (10.0 kB)\n",
      "Downloading scikit_learn-1.3.2-cp311-cp311-macosx_12_0_arm64.whl (9.4 MB)\n",
      "\u001b[2K   \u001b[90m━━━━━━━━━━━━━━━━━━━━━━━━━━━━━━━━━━━━━━━━\u001b[0m \u001b[32m9.4/9.4 MB\u001b[0m \u001b[31m36.6 MB/s\u001b[0m eta \u001b[36m0:00:00\u001b[0ma \u001b[36m0:00:01\u001b[0m\n",
      "\u001b[?25hDownloading joblib-1.3.2-py3-none-any.whl (302 kB)\n",
      "\u001b[2K   \u001b[90m━━━━━━━━━━━━━━━━━━━━━━━━━━━━━━━━━━━━━━━━\u001b[0m \u001b[32m302.2/302.2 kB\u001b[0m \u001b[31m26.2 MB/s\u001b[0m eta \u001b[36m0:00:00\u001b[0m\n",
      "\u001b[?25hDownloading scipy-1.11.3-cp311-cp311-macosx_12_0_arm64.whl (29.7 MB)\n",
      "\u001b[2K   \u001b[90m━━━━━━━━━━━━━━━━━━━━━━━━━━━━━━━━━━━━━━━━\u001b[0m \u001b[32m29.7/29.7 MB\u001b[0m \u001b[31m58.1 MB/s\u001b[0m eta \u001b[36m0:00:00\u001b[0m00:01\u001b[0m00:01\u001b[0m\n",
      "\u001b[?25hDownloading threadpoolctl-3.2.0-py3-none-any.whl (15 kB)\n",
      "Installing collected packages: threadpoolctl, scipy, joblib, scikit-learn\n",
      "Successfully installed joblib-1.3.2 scikit-learn-1.3.2 scipy-1.11.3 threadpoolctl-3.2.0\n",
      "\n",
      "\u001b[1m[\u001b[0m\u001b[34;49mnotice\u001b[0m\u001b[1;39;49m]\u001b[0m\u001b[39;49m A new release of pip is available: \u001b[0m\u001b[31;49m23.2.1\u001b[0m\u001b[39;49m -> \u001b[0m\u001b[32;49m23.3.1\u001b[0m\n",
      "\u001b[1m[\u001b[0m\u001b[34;49mnotice\u001b[0m\u001b[1;39;49m]\u001b[0m\u001b[39;49m To update, run: \u001b[0m\u001b[32;49mpip install --upgrade pip\u001b[0m\n"
     ]
    }
   ],
   "source": [
    "!pip install scikit-learn"
   ]
  },
  {
   "cell_type": "code",
   "execution_count": 7,
   "metadata": {},
   "outputs": [],
   "source": [
    "from sklearn.datasets import load_breast_cancer\n",
    "breast_cancer_dataset = load_breast_cancer()"
   ]
  },
  {
   "cell_type": "code",
   "execution_count": 8,
   "metadata": {},
   "outputs": [],
   "source": [
    "breast_cancer_features = breast_cancer_dataset['data'] # feature data\n",
    "breast_cancer_feature_names = breast_cancer_dataset['feature_names'] # feature names\n",
    "breast_cancer_targets = breast_cancer_dataset['target'] # actual data\n",
    "breast_cancer_target_names = breast_cancer_dataset['target_names'] # actual labels"
   ]
  },
  {
   "cell_type": "code",
   "execution_count": 9,
   "metadata": {},
   "outputs": [],
   "source": [
    "target_name_transcription = [] # this will become our list of actuals\n",
    "\n",
    "for i in breast_cancer_targets: \n",
    "  target_name_transcription.append(breast_cancer_target_names[i])"
   ]
  },
  {
   "cell_type": "code",
   "execution_count": 10,
   "metadata": {},
   "outputs": [],
   "source": [
    "import pandas as pd\n",
    "\n",
    "df = pd.DataFrame(breast_cancer_features, columns=breast_cancer_feature_names)\n",
    "df['actual_label'] = target_name_transcription\n",
    "df['prediction_label'] = target_name_transcription\n",
    "\n",
    "# this is optional, but makes this example more interesting in the platform\n",
    "df['prediction_label'] = df['prediction_label'].iloc[::-1].reset_index(drop=True) "
   ]
  },
  {
   "cell_type": "code",
   "execution_count": 11,
   "metadata": {},
   "outputs": [],
   "source": [
    "schema = Schema(\n",
    "    actual_label_column_name=\"actual_label\",\n",
    "    prediction_label_column_name=\"prediction_label\",\n",
    "    feature_column_names=[\n",
    "       'mean radius', 'mean texture', 'mean perimeter', 'mean area',\n",
    "       'mean smoothness', 'mean compactness', 'mean concavity',\n",
    "       'mean concave points', 'mean symmetry', 'mean fractal dimension',\n",
    "       'radius error', 'texture error', 'perimeter error', 'area error',\n",
    "       'smoothness error', 'compactness error', 'concavity error',\n",
    "       'concave points error', 'symmetry error',\n",
    "       'fractal dimension error', 'worst radius', 'worst texture',\n",
    "       'worst perimeter', 'worst area', 'worst smoothness',\n",
    "       'worst compactness', 'worst concavity', 'worst concave points',\n",
    "       'worst symmetry', 'worst fractal dimension'\n",
    "       ]\n",
    ")"
   ]
  },
  {
   "cell_type": "code",
   "execution_count": 12,
   "metadata": {},
   "outputs": [
    {
     "name": "stdout",
     "output_type": "stream",
     "text": [
      "\u001b[33m  arize.utils.logging | WARNING | Prediction ID is not specified. Arize generates UUIDs for the model's predictions if not provided by the user. Please note, you won't be able to send delayed data for joining if a Prediction ID is not provided.\u001b[0m\n",
      "\u001b[38;21m  arize.utils.logging | INFO | Success! Check out your data at https://app.arize.com/organizations/QWNjb3VudE9yZ2FuaXphdGlvbjo1MTU0/spaces/U3BhY2U6NTQ0Nw==/models/modelName/breast_cancer_dataset?selectedTab=dataIngestion\u001b[0m\n"
     ]
    }
   ],
   "source": [
    "response = arize_client.log(\n",
    "    dataframe=df,\n",
    "    schema=schema,\n",
    "    model_id='breast_cancer_dataset', \n",
    "    model_version='v1',\n",
    "    model_type=ModelTypes.BINARY_CLASSIFICATION,\n",
    "    metrics_validation=[Metrics.CLASSIFICATION], \n",
    "    environment=Environments.PRODUCTION\n",
    ") "
   ]
  }
 ],
 "metadata": {
  "kernelspec": {
   "display_name": "py311",
   "language": "python",
   "name": "python3"
  },
  "language_info": {
   "codemirror_mode": {
    "name": "ipython",
    "version": 3
   },
   "file_extension": ".py",
   "mimetype": "text/x-python",
   "name": "python",
   "nbconvert_exporter": "python",
   "pygments_lexer": "ipython3",
   "version": "3.11.6"
  }
 },
 "nbformat": 4,
 "nbformat_minor": 2
}
