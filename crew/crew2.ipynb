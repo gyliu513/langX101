{
 "cells": [
  {
   "cell_type": "code",
   "execution_count": 8,
   "metadata": {},
   "outputs": [
    {
     "data": {
      "text/plain": [
       "True"
      ]
     },
     "execution_count": 8,
     "metadata": {},
     "output_type": "execute_result"
    }
   ],
   "source": [
    "from dotenv import load_dotenv\n",
    "load_dotenv()"
   ]
  },
  {
   "cell_type": "code",
   "execution_count": 9,
   "metadata": {},
   "outputs": [
    {
     "name": "stderr",
     "output_type": "stream",
     "text": [
      "I0000 00:00:1729544858.000910 6043658 fork_posix.cc:77] Other threads are currently calling into gRPC, skipping fork() handlers\n"
     ]
    },
    {
     "name": "stdout",
     "output_type": "stream",
     "text": [
      "Requirement already satisfied: arize-phoenix in /Users/gyliu/titan/lib/python3.11/site-packages (5.5.1)\n",
      "Requirement already satisfied: aioitertools in /Users/gyliu/titan/lib/python3.11/site-packages (from arize-phoenix) (0.12.0)\n",
      "Requirement already satisfied: aiosqlite in /Users/gyliu/titan/lib/python3.11/site-packages (from arize-phoenix) (0.20.0)\n",
      "Requirement already satisfied: alembic<2,>=1.3.0 in /Users/gyliu/titan/lib/python3.11/site-packages (from arize-phoenix) (1.13.2)\n",
      "Requirement already satisfied: arize-phoenix-evals>=0.13.1 in /Users/gyliu/titan/lib/python3.11/site-packages (from arize-phoenix) (0.17.2)\n",
      "Requirement already satisfied: arize-phoenix-otel>=0.5.1 in /Users/gyliu/titan/lib/python3.11/site-packages (from arize-phoenix) (0.6.1)\n",
      "Requirement already satisfied: authlib in /Users/gyliu/titan/lib/python3.11/site-packages (from arize-phoenix) (1.3.2)\n",
      "Requirement already satisfied: cachetools in /Users/gyliu/titan/lib/python3.11/site-packages (from arize-phoenix) (5.5.0)\n",
      "Requirement already satisfied: fast-hdbscan>=0.2.0 in /Users/gyliu/titan/lib/python3.11/site-packages (from arize-phoenix) (0.2.0)\n",
      "Requirement already satisfied: fastapi in /Users/gyliu/titan/lib/python3.11/site-packages (from arize-phoenix) (0.115.0)\n",
      "Requirement already satisfied: grpc-interceptor in /Users/gyliu/titan/lib/python3.11/site-packages (from arize-phoenix) (0.15.4)\n",
      "Requirement already satisfied: grpcio in /Users/gyliu/titan/lib/python3.11/site-packages (from arize-phoenix) (1.65.4)\n",
      "Requirement already satisfied: httpx in /Users/gyliu/titan/lib/python3.11/site-packages (from arize-phoenix) (0.27.0)\n",
      "Requirement already satisfied: jinja2 in /Users/gyliu/titan/lib/python3.11/site-packages (from arize-phoenix) (3.1.4)\n",
      "Requirement already satisfied: numba>=0.60.0 in /Users/gyliu/titan/lib/python3.11/site-packages (from arize-phoenix) (0.60.0)\n",
      "Requirement already satisfied: numpy!=2.0.0 in /Users/gyliu/titan/lib/python3.11/site-packages (from arize-phoenix) (1.26.4)\n",
      "Requirement already satisfied: openinference-instrumentation>=0.1.12 in /Users/gyliu/titan/lib/python3.11/site-packages (from arize-phoenix) (0.1.18)\n",
      "Requirement already satisfied: openinference-semantic-conventions>=0.1.9 in /Users/gyliu/titan/lib/python3.11/site-packages (from arize-phoenix) (0.1.10)\n",
      "Requirement already satisfied: opentelemetry-exporter-otlp in /Users/gyliu/titan/lib/python3.11/site-packages (from arize-phoenix) (1.27.0)\n",
      "Requirement already satisfied: opentelemetry-proto>=1.12.0 in /Users/gyliu/titan/lib/python3.11/site-packages (from arize-phoenix) (1.27.0)\n",
      "Requirement already satisfied: opentelemetry-sdk in /Users/gyliu/titan/lib/python3.11/site-packages (from arize-phoenix) (1.27.0)\n",
      "Requirement already satisfied: opentelemetry-semantic-conventions in /Users/gyliu/titan/lib/python3.11/site-packages (from arize-phoenix) (0.48b0)\n",
      "Requirement already satisfied: pandas>=1.0 in /Users/gyliu/titan/lib/python3.11/site-packages (from arize-phoenix) (2.1.4)\n",
      "Requirement already satisfied: protobuf<6.0,>=3.20.2 in /Users/gyliu/titan/lib/python3.11/site-packages (from arize-phoenix) (4.25.4)\n",
      "Requirement already satisfied: psutil in /Users/gyliu/titan/lib/python3.11/site-packages (from arize-phoenix) (6.0.0)\n",
      "Requirement already satisfied: pyarrow in /Users/gyliu/titan/lib/python3.11/site-packages (from arize-phoenix) (17.0.0)\n",
      "Requirement already satisfied: pydantic!=2.0.*,<3,>=1.0 in /Users/gyliu/titan/lib/python3.11/site-packages (from arize-phoenix) (2.9.2)\n",
      "Requirement already satisfied: python-multipart in /Users/gyliu/titan/lib/python3.11/site-packages (from arize-phoenix) (0.0.9)\n",
      "Requirement already satisfied: scikit-learn in /Users/gyliu/titan/lib/python3.11/site-packages (from arize-phoenix) (1.5.1)\n",
      "Requirement already satisfied: scipy in /Users/gyliu/titan/lib/python3.11/site-packages (from arize-phoenix) (1.14.0)\n",
      "Requirement already satisfied: sqlalchemy[asyncio]<3,>=2.0.4 in /Users/gyliu/titan/lib/python3.11/site-packages (from arize-phoenix) (2.0.32)\n",
      "Requirement already satisfied: sqlean-py>=3.45.1 in /Users/gyliu/titan/lib/python3.11/site-packages (from arize-phoenix) (3.45.1)\n",
      "Requirement already satisfied: starlette in /Users/gyliu/titan/lib/python3.11/site-packages (from arize-phoenix) (0.37.2)\n",
      "Requirement already satisfied: strawberry-graphql==0.243.1 in /Users/gyliu/titan/lib/python3.11/site-packages (from arize-phoenix) (0.243.1)\n",
      "Requirement already satisfied: tqdm in /Users/gyliu/titan/lib/python3.11/site-packages (from arize-phoenix) (4.66.5)\n",
      "Requirement already satisfied: typing-extensions>=4.6 in /Users/gyliu/titan/lib/python3.11/site-packages (from arize-phoenix) (4.12.2)\n",
      "Requirement already satisfied: umap-learn in /Users/gyliu/titan/lib/python3.11/site-packages (from arize-phoenix) (0.5.6)\n",
      "Requirement already satisfied: uvicorn in /Users/gyliu/titan/lib/python3.11/site-packages (from arize-phoenix) (0.22.0)\n",
      "Requirement already satisfied: websockets in /Users/gyliu/titan/lib/python3.11/site-packages (from arize-phoenix) (13.0.1)\n",
      "Requirement already satisfied: wrapt in /Users/gyliu/titan/lib/python3.11/site-packages (from arize-phoenix) (1.16.0)\n",
      "Requirement already satisfied: graphql-core<3.4.0,>=3.2.0 in /Users/gyliu/titan/lib/python3.11/site-packages (from strawberry-graphql==0.243.1->arize-phoenix) (3.2.5)\n",
      "Requirement already satisfied: python-dateutil<3.0.0,>=2.7.0 in /Users/gyliu/titan/lib/python3.11/site-packages (from strawberry-graphql==0.243.1->arize-phoenix) (2.9.0.post0)\n",
      "Requirement already satisfied: Mako in /Users/gyliu/titan/lib/python3.11/site-packages (from alembic<2,>=1.3.0->arize-phoenix) (1.3.5)\n",
      "Requirement already satisfied: llvmlite<0.44,>=0.43.0dev0 in /Users/gyliu/titan/lib/python3.11/site-packages (from numba>=0.60.0->arize-phoenix) (0.43.0)\n",
      "Requirement already satisfied: opentelemetry-api in /Users/gyliu/titan/lib/python3.11/site-packages (from openinference-instrumentation>=0.1.12->arize-phoenix) (1.27.0)\n",
      "Requirement already satisfied: pytz>=2020.1 in /Users/gyliu/titan/lib/python3.11/site-packages (from pandas>=1.0->arize-phoenix) (2024.1)\n",
      "Requirement already satisfied: tzdata>=2022.1 in /Users/gyliu/titan/lib/python3.11/site-packages (from pandas>=1.0->arize-phoenix) (2024.1)\n",
      "Requirement already satisfied: annotated-types>=0.6.0 in /Users/gyliu/titan/lib/python3.11/site-packages (from pydantic!=2.0.*,<3,>=1.0->arize-phoenix) (0.7.0)\n",
      "Requirement already satisfied: pydantic-core==2.23.4 in /Users/gyliu/titan/lib/python3.11/site-packages (from pydantic!=2.0.*,<3,>=1.0->arize-phoenix) (2.23.4)\n",
      "Requirement already satisfied: joblib>=1.2.0 in /Users/gyliu/titan/lib/python3.11/site-packages (from scikit-learn->arize-phoenix) (1.4.2)\n",
      "Requirement already satisfied: threadpoolctl>=3.1.0 in /Users/gyliu/titan/lib/python3.11/site-packages (from scikit-learn->arize-phoenix) (3.5.0)\n",
      "Requirement already satisfied: greenlet!=0.4.17 in /Users/gyliu/titan/lib/python3.11/site-packages (from sqlalchemy[asyncio]<3,>=2.0.4->arize-phoenix) (3.1.1)\n",
      "Requirement already satisfied: cryptography in /Users/gyliu/titan/lib/python3.11/site-packages (from authlib->arize-phoenix) (43.0.3)\n",
      "Requirement already satisfied: anyio<5,>=3.4.0 in /Users/gyliu/titan/lib/python3.11/site-packages (from starlette->arize-phoenix) (4.4.0)\n",
      "Requirement already satisfied: certifi in /Users/gyliu/titan/lib/python3.11/site-packages (from httpx->arize-phoenix) (2024.7.4)\n",
      "Requirement already satisfied: httpcore==1.* in /Users/gyliu/titan/lib/python3.11/site-packages (from httpx->arize-phoenix) (1.0.5)\n",
      "Requirement already satisfied: idna in /Users/gyliu/titan/lib/python3.11/site-packages (from httpx->arize-phoenix) (3.7)\n",
      "Requirement already satisfied: sniffio in /Users/gyliu/titan/lib/python3.11/site-packages (from httpx->arize-phoenix) (1.3.1)\n",
      "Requirement already satisfied: h11<0.15,>=0.13 in /Users/gyliu/titan/lib/python3.11/site-packages (from httpcore==1.*->httpx->arize-phoenix) (0.14.0)\n",
      "Requirement already satisfied: MarkupSafe>=2.0 in /Users/gyliu/titan/lib/python3.11/site-packages (from jinja2->arize-phoenix) (2.1.5)\n",
      "Requirement already satisfied: opentelemetry-exporter-otlp-proto-grpc==1.27.0 in /Users/gyliu/titan/lib/python3.11/site-packages (from opentelemetry-exporter-otlp->arize-phoenix) (1.27.0)\n",
      "Requirement already satisfied: opentelemetry-exporter-otlp-proto-http==1.27.0 in /Users/gyliu/titan/lib/python3.11/site-packages (from opentelemetry-exporter-otlp->arize-phoenix) (1.27.0)\n",
      "Requirement already satisfied: deprecated>=1.2.6 in /Users/gyliu/titan/lib/python3.11/site-packages (from opentelemetry-exporter-otlp-proto-grpc==1.27.0->opentelemetry-exporter-otlp->arize-phoenix) (1.2.14)\n",
      "Requirement already satisfied: googleapis-common-protos~=1.52 in /Users/gyliu/titan/lib/python3.11/site-packages (from opentelemetry-exporter-otlp-proto-grpc==1.27.0->opentelemetry-exporter-otlp->arize-phoenix) (1.63.2)\n",
      "Requirement already satisfied: opentelemetry-exporter-otlp-proto-common==1.27.0 in /Users/gyliu/titan/lib/python3.11/site-packages (from opentelemetry-exporter-otlp-proto-grpc==1.27.0->opentelemetry-exporter-otlp->arize-phoenix) (1.27.0)\n",
      "Requirement already satisfied: requests~=2.7 in /Users/gyliu/titan/lib/python3.11/site-packages (from opentelemetry-exporter-otlp-proto-http==1.27.0->opentelemetry-exporter-otlp->arize-phoenix) (2.32.2)\n",
      "Requirement already satisfied: importlib-metadata<=8.4.0,>=6.0 in /Users/gyliu/titan/lib/python3.11/site-packages (from opentelemetry-api->openinference-instrumentation>=0.1.12->arize-phoenix) (8.0.0)\n",
      "Requirement already satisfied: pynndescent>=0.5 in /Users/gyliu/titan/lib/python3.11/site-packages (from umap-learn->arize-phoenix) (0.5.13)\n",
      "Requirement already satisfied: click>=7.0 in /Users/gyliu/titan/lib/python3.11/site-packages (from uvicorn->arize-phoenix) (8.1.7)\n",
      "Requirement already satisfied: six>=1.5 in /Users/gyliu/titan/lib/python3.11/site-packages (from python-dateutil<3.0.0,>=2.7.0->strawberry-graphql==0.243.1->arize-phoenix) (1.16.0)\n",
      "Requirement already satisfied: cffi>=1.12 in /Users/gyliu/titan/lib/python3.11/site-packages (from cryptography->authlib->arize-phoenix) (1.17.1)\n",
      "Requirement already satisfied: pycparser in /Users/gyliu/titan/lib/python3.11/site-packages (from cffi>=1.12->cryptography->authlib->arize-phoenix) (2.22)\n",
      "Requirement already satisfied: zipp>=0.5 in /Users/gyliu/titan/lib/python3.11/site-packages (from importlib-metadata<=8.4.0,>=6.0->opentelemetry-api->openinference-instrumentation>=0.1.12->arize-phoenix) (3.19.2)\n",
      "Requirement already satisfied: charset-normalizer<4,>=2 in /Users/gyliu/titan/lib/python3.11/site-packages (from requests~=2.7->opentelemetry-exporter-otlp-proto-http==1.27.0->opentelemetry-exporter-otlp->arize-phoenix) (3.3.2)\n",
      "Requirement already satisfied: urllib3<3,>=1.21.1 in /Users/gyliu/titan/lib/python3.11/site-packages (from requests~=2.7->opentelemetry-exporter-otlp-proto-http==1.27.0->opentelemetry-exporter-otlp->arize-phoenix) (2.2.2)\n",
      "\n",
      "\u001b[1m[\u001b[0m\u001b[34;49mnotice\u001b[0m\u001b[1;39;49m]\u001b[0m\u001b[39;49m A new release of pip is available: \u001b[0m\u001b[31;49m23.2.1\u001b[0m\u001b[39;49m -> \u001b[0m\u001b[32;49m24.2\u001b[0m\n",
      "\u001b[1m[\u001b[0m\u001b[34;49mnotice\u001b[0m\u001b[1;39;49m]\u001b[0m\u001b[39;49m To update, run: \u001b[0m\u001b[32;49mpip install --upgrade pip\u001b[0m\n"
     ]
    }
   ],
   "source": [
    "!pip install arize-phoenix"
   ]
  },
  {
   "cell_type": "code",
   "execution_count": 10,
   "metadata": {},
   "outputs": [
    {
     "name": "stderr",
     "output_type": "stream",
     "text": [
      "Existing running Phoenix instance detected! Shutting it down and starting a new instance...\n"
     ]
    },
    {
     "name": "stdout",
     "output_type": "stream",
     "text": [
      "🌍 To view the Phoenix app in your browser, visit http://localhost:6006/\n",
      "📖 For more information on how to use Phoenix, check out https://docs.arize.com/phoenix\n"
     ]
    },
    {
     "data": {
      "text/plain": [
       "<phoenix.session.session.ThreadSession at 0x15892a510>"
      ]
     },
     "execution_count": 10,
     "metadata": {},
     "output_type": "execute_result"
    }
   ],
   "source": [
    "import phoenix as px\n",
    "px.launch_app()"
   ]
  },
  {
   "cell_type": "code",
   "execution_count": 11,
   "metadata": {},
   "outputs": [
    {
     "name": "stderr",
     "output_type": "stream",
     "text": [
      "Overriding of current TracerProvider is not allowed\n"
     ]
    },
    {
     "name": "stdout",
     "output_type": "stream",
     "text": [
      "🔭 OpenTelemetry Tracing Details 🔭\n",
      "|  Phoenix Project: my-llm-app\n",
      "|  Span Processor: SimpleSpanProcessor\n",
      "|  Collector Endpoint: localhost:4317\n",
      "|  Transport: gRPC\n",
      "|  Transport Headers: {'user-agent': '****'}\n",
      "|  \n",
      "|  Using a default SpanProcessor. `add_span_processor` will overwrite this default.\n",
      "|  \n",
      "|  `register` has set this TracerProvider as the global OpenTelemetry default.\n",
      "|  To disable this behavior, call `register` with `set_global_tracer_provider=False`.\n",
      "\n"
     ]
    }
   ],
   "source": [
    "from phoenix.otel import register\n",
    "\n",
    "tracer_provider = register(\n",
    "  project_name=\"my-llm-app\", # Default is 'default'\n",
    ")"
   ]
  },
  {
   "cell_type": "code",
   "execution_count": 12,
   "metadata": {},
   "outputs": [
    {
     "name": "stderr",
     "output_type": "stream",
     "text": [
      "I0000 00:00:1729544868.662940 6043658 fork_posix.cc:77] Other threads are currently calling into gRPC, skipping fork() handlers\n"
     ]
    },
    {
     "name": "stdout",
     "output_type": "stream",
     "text": [
      "Requirement already satisfied: openinference-instrumentation-crewai in /Users/gyliu/titan/lib/python3.11/site-packages (0.1.2)\n",
      "Requirement already satisfied: crewai in /Users/gyliu/titan/lib/python3.11/site-packages (0.55.2)\n",
      "Requirement already satisfied: crewai-tools in /Users/gyliu/titan/lib/python3.11/site-packages (0.12.0)\n",
      "Requirement already satisfied: openinference-instrumentation>=0.1.12 in /Users/gyliu/titan/lib/python3.11/site-packages (from openinference-instrumentation-crewai) (0.1.18)\n",
      "Requirement already satisfied: openinference-semantic-conventions in /Users/gyliu/titan/lib/python3.11/site-packages (from openinference-instrumentation-crewai) (0.1.10)\n",
      "Requirement already satisfied: opentelemetry-api in /Users/gyliu/titan/lib/python3.11/site-packages (from openinference-instrumentation-crewai) (1.27.0)\n",
      "Requirement already satisfied: opentelemetry-instrumentation in /Users/gyliu/titan/lib/python3.11/site-packages (from openinference-instrumentation-crewai) (0.48b0)\n",
      "Requirement already satisfied: opentelemetry-semantic-conventions in /Users/gyliu/titan/lib/python3.11/site-packages (from openinference-instrumentation-crewai) (0.48b0)\n",
      "Requirement already satisfied: typing-extensions in /Users/gyliu/titan/lib/python3.11/site-packages (from openinference-instrumentation-crewai) (4.12.2)\n",
      "Requirement already satisfied: wrapt in /Users/gyliu/titan/lib/python3.11/site-packages (from openinference-instrumentation-crewai) (1.16.0)\n",
      "Requirement already satisfied: appdirs<2.0.0,>=1.4.4 in /Users/gyliu/titan/lib/python3.11/site-packages (from crewai) (1.4.4)\n",
      "Requirement already satisfied: auth0-python<5.0.0,>=4.7.1 in /Users/gyliu/titan/lib/python3.11/site-packages (from crewai) (4.7.2)\n",
      "Requirement already satisfied: click<9.0.0,>=8.1.7 in /Users/gyliu/titan/lib/python3.11/site-packages (from crewai) (8.1.7)\n",
      "Requirement already satisfied: embedchain<0.2.0,>=0.1.114 in /Users/gyliu/titan/lib/python3.11/site-packages (from crewai) (0.1.121)\n",
      "Requirement already satisfied: instructor==1.3.3 in /Users/gyliu/titan/lib/python3.11/site-packages (from crewai) (1.3.3)\n",
      "Requirement already satisfied: json-repair<0.26.0,>=0.25.2 in /Users/gyliu/titan/lib/python3.11/site-packages (from crewai) (0.25.3)\n",
      "Requirement already satisfied: jsonref<2.0.0,>=1.1.0 in /Users/gyliu/titan/lib/python3.11/site-packages (from crewai) (1.1.0)\n",
      "Requirement already satisfied: langchain<=0.3,>0.2 in /Users/gyliu/titan/lib/python3.11/site-packages (from crewai) (0.2.16)\n",
      "Requirement already satisfied: openai<2.0.0,>=1.13.3 in /Users/gyliu/titan/lib/python3.11/site-packages (from crewai) (1.45.1)\n",
      "Requirement already satisfied: opentelemetry-exporter-otlp-proto-http<2.0.0,>=1.22.0 in /Users/gyliu/titan/lib/python3.11/site-packages (from crewai) (1.27.0)\n",
      "Requirement already satisfied: opentelemetry-sdk<2.0.0,>=1.22.0 in /Users/gyliu/titan/lib/python3.11/site-packages (from crewai) (1.27.0)\n",
      "Requirement already satisfied: pydantic<3.0.0,>=2.4.2 in /Users/gyliu/titan/lib/python3.11/site-packages (from crewai) (2.9.2)\n",
      "Requirement already satisfied: python-dotenv<2.0.0,>=1.0.0 in /Users/gyliu/titan/lib/python3.11/site-packages (from crewai) (1.0.1)\n",
      "Requirement already satisfied: regex<2025.0.0,>=2024.7.24 in /Users/gyliu/titan/lib/python3.11/site-packages (from crewai) (2024.7.24)\n",
      "Requirement already satisfied: aiohttp<4.0.0,>=3.9.1 in /Users/gyliu/titan/lib/python3.11/site-packages (from instructor==1.3.3->crewai) (3.10.5)\n",
      "Requirement already satisfied: docstring-parser<0.17,>=0.16 in /Users/gyliu/titan/lib/python3.11/site-packages (from instructor==1.3.3->crewai) (0.16)\n",
      "Requirement already satisfied: jiter<0.5.0,>=0.4.1 in /Users/gyliu/titan/lib/python3.11/site-packages (from instructor==1.3.3->crewai) (0.4.2)\n",
      "Requirement already satisfied: pydantic-core<3.0.0,>=2.18.0 in /Users/gyliu/titan/lib/python3.11/site-packages (from instructor==1.3.3->crewai) (2.23.4)\n",
      "Requirement already satisfied: rich<14.0.0,>=13.7.0 in /Users/gyliu/titan/lib/python3.11/site-packages (from instructor==1.3.3->crewai) (13.8.1)\n",
      "Requirement already satisfied: tenacity<9.0.0,>=8.2.3 in /Users/gyliu/titan/lib/python3.11/site-packages (from instructor==1.3.3->crewai) (8.5.0)\n",
      "Requirement already satisfied: typer<1.0.0,>=0.9.0 in /Users/gyliu/titan/lib/python3.11/site-packages (from instructor==1.3.3->crewai) (0.12.5)\n",
      "Requirement already satisfied: beautifulsoup4<5.0.0,>=4.12.3 in /Users/gyliu/titan/lib/python3.11/site-packages (from crewai-tools) (4.12.3)\n",
      "Requirement already satisfied: chromadb<0.5.0,>=0.4.22 in /Users/gyliu/titan/lib/python3.11/site-packages (from crewai-tools) (0.4.24)\n",
      "Requirement already satisfied: docker<8.0.0,>=7.1.0 in /Users/gyliu/titan/lib/python3.11/site-packages (from crewai-tools) (7.1.0)\n",
      "Requirement already satisfied: docx2txt<0.9,>=0.8 in /Users/gyliu/titan/lib/python3.11/site-packages (from crewai-tools) (0.8)\n",
      "Requirement already satisfied: lancedb<0.6.0,>=0.5.4 in /Users/gyliu/titan/lib/python3.11/site-packages (from crewai-tools) (0.5.7)\n",
      "Requirement already satisfied: pyright<2.0.0,>=1.1.350 in /Users/gyliu/titan/lib/python3.11/site-packages (from crewai-tools) (1.1.380)\n",
      "Requirement already satisfied: pytest<9.0.0,>=8.0.0 in /Users/gyliu/titan/lib/python3.11/site-packages (from crewai-tools) (8.3.3)\n",
      "Requirement already satisfied: pytube<16.0.0,>=15.0.0 in /Users/gyliu/titan/lib/python3.11/site-packages (from crewai-tools) (15.0.0)\n",
      "Requirement already satisfied: requests<3.0.0,>=2.31.0 in /Users/gyliu/titan/lib/python3.11/site-packages (from crewai-tools) (2.32.2)\n",
      "Requirement already satisfied: selenium<5.0.0,>=4.18.1 in /Users/gyliu/titan/lib/python3.11/site-packages (from crewai-tools) (4.24.0)\n",
      "Requirement already satisfied: cryptography<44.0.0,>=43.0.1 in /Users/gyliu/titan/lib/python3.11/site-packages (from auth0-python<5.0.0,>=4.7.1->crewai) (43.0.3)\n",
      "Requirement already satisfied: pyjwt<3.0.0,>=2.8.0 in /Users/gyliu/titan/lib/python3.11/site-packages (from auth0-python<5.0.0,>=4.7.1->crewai) (2.9.0)\n",
      "Requirement already satisfied: urllib3<3.0.0,>=2.0.7 in /Users/gyliu/titan/lib/python3.11/site-packages (from auth0-python<5.0.0,>=4.7.1->crewai) (2.2.2)\n",
      "Requirement already satisfied: soupsieve>1.2 in /Users/gyliu/titan/lib/python3.11/site-packages (from beautifulsoup4<5.0.0,>=4.12.3->crewai-tools) (2.6)\n",
      "Requirement already satisfied: build>=1.0.3 in /Users/gyliu/titan/lib/python3.11/site-packages (from chromadb<0.5.0,>=0.4.22->crewai-tools) (1.2.2)\n",
      "Requirement already satisfied: chroma-hnswlib==0.7.3 in /Users/gyliu/titan/lib/python3.11/site-packages (from chromadb<0.5.0,>=0.4.22->crewai-tools) (0.7.3)\n",
      "Requirement already satisfied: fastapi>=0.95.2 in /Users/gyliu/titan/lib/python3.11/site-packages (from chromadb<0.5.0,>=0.4.22->crewai-tools) (0.115.0)\n",
      "Requirement already satisfied: uvicorn[standard]>=0.18.3 in /Users/gyliu/titan/lib/python3.11/site-packages (from chromadb<0.5.0,>=0.4.22->crewai-tools) (0.22.0)\n",
      "Requirement already satisfied: numpy>=1.22.5 in /Users/gyliu/titan/lib/python3.11/site-packages (from chromadb<0.5.0,>=0.4.22->crewai-tools) (1.26.4)\n",
      "Requirement already satisfied: posthog>=2.4.0 in /Users/gyliu/titan/lib/python3.11/site-packages (from chromadb<0.5.0,>=0.4.22->crewai-tools) (3.5.0)\n",
      "Requirement already satisfied: pulsar-client>=3.1.0 in /Users/gyliu/titan/lib/python3.11/site-packages (from chromadb<0.5.0,>=0.4.22->crewai-tools) (3.5.0)\n",
      "Requirement already satisfied: onnxruntime>=1.14.1 in /Users/gyliu/titan/lib/python3.11/site-packages (from chromadb<0.5.0,>=0.4.22->crewai-tools) (1.19.2)\n",
      "Requirement already satisfied: opentelemetry-exporter-otlp-proto-grpc>=1.2.0 in /Users/gyliu/titan/lib/python3.11/site-packages (from chromadb<0.5.0,>=0.4.22->crewai-tools) (1.27.0)\n",
      "Requirement already satisfied: opentelemetry-instrumentation-fastapi>=0.41b0 in /Users/gyliu/titan/lib/python3.11/site-packages (from chromadb<0.5.0,>=0.4.22->crewai-tools) (0.48b0)\n",
      "Requirement already satisfied: tokenizers>=0.13.2 in /Users/gyliu/titan/lib/python3.11/site-packages (from chromadb<0.5.0,>=0.4.22->crewai-tools) (0.20.0)\n",
      "Requirement already satisfied: pypika>=0.48.9 in /Users/gyliu/titan/lib/python3.11/site-packages (from chromadb<0.5.0,>=0.4.22->crewai-tools) (0.48.9)\n",
      "Requirement already satisfied: tqdm>=4.65.0 in /Users/gyliu/titan/lib/python3.11/site-packages (from chromadb<0.5.0,>=0.4.22->crewai-tools) (4.66.5)\n",
      "Requirement already satisfied: overrides>=7.3.1 in /Users/gyliu/titan/lib/python3.11/site-packages (from chromadb<0.5.0,>=0.4.22->crewai-tools) (7.7.0)\n",
      "Requirement already satisfied: importlib-resources in /Users/gyliu/titan/lib/python3.11/site-packages (from chromadb<0.5.0,>=0.4.22->crewai-tools) (6.4.5)\n",
      "Requirement already satisfied: grpcio>=1.58.0 in /Users/gyliu/titan/lib/python3.11/site-packages (from chromadb<0.5.0,>=0.4.22->crewai-tools) (1.65.4)\n",
      "Requirement already satisfied: bcrypt>=4.0.1 in /Users/gyliu/titan/lib/python3.11/site-packages (from chromadb<0.5.0,>=0.4.22->crewai-tools) (4.2.0)\n",
      "Requirement already satisfied: kubernetes>=28.1.0 in /Users/gyliu/titan/lib/python3.11/site-packages (from chromadb<0.5.0,>=0.4.22->crewai-tools) (30.1.0)\n",
      "Requirement already satisfied: PyYAML>=6.0.0 in /Users/gyliu/titan/lib/python3.11/site-packages (from chromadb<0.5.0,>=0.4.22->crewai-tools) (6.0.1)\n",
      "Requirement already satisfied: mmh3>=4.0.1 in /Users/gyliu/titan/lib/python3.11/site-packages (from chromadb<0.5.0,>=0.4.22->crewai-tools) (4.1.0)\n",
      "Requirement already satisfied: orjson>=3.9.12 in /Users/gyliu/titan/lib/python3.11/site-packages (from chromadb<0.5.0,>=0.4.22->crewai-tools) (3.10.7)\n",
      "Requirement already satisfied: alembic<2.0.0,>=1.13.1 in /Users/gyliu/titan/lib/python3.11/site-packages (from embedchain<0.2.0,>=0.1.114->crewai) (1.13.2)\n",
      "Requirement already satisfied: cohere<6.0,>=5.3 in /Users/gyliu/titan/lib/python3.11/site-packages (from embedchain<0.2.0,>=0.1.114->crewai) (5.9.1)\n",
      "Requirement already satisfied: google-cloud-aiplatform<2.0.0,>=1.26.1 in /Users/gyliu/titan/lib/python3.11/site-packages (from embedchain<0.2.0,>=0.1.114->crewai) (1.66.0)\n",
      "Requirement already satisfied: gptcache<0.2.0,>=0.1.43 in /Users/gyliu/titan/lib/python3.11/site-packages (from embedchain<0.2.0,>=0.1.114->crewai) (0.1.44)\n",
      "Requirement already satisfied: langchain-cohere<0.2.0,>=0.1.4 in /Users/gyliu/titan/lib/python3.11/site-packages (from embedchain<0.2.0,>=0.1.114->crewai) (0.1.9)\n",
      "Requirement already satisfied: langchain-community<0.3.0,>=0.2.6 in /Users/gyliu/titan/lib/python3.11/site-packages (from embedchain<0.2.0,>=0.1.114->crewai) (0.2.16)\n",
      "Requirement already satisfied: langchain-openai<0.2.0,>=0.1.7 in /Users/gyliu/titan/lib/python3.11/site-packages (from embedchain<0.2.0,>=0.1.114->crewai) (0.1.24)\n",
      "Requirement already satisfied: mem0ai<0.0.21,>=0.0.20 in /Users/gyliu/titan/lib/python3.11/site-packages (from embedchain<0.2.0,>=0.1.114->crewai) (0.0.20)\n",
      "Requirement already satisfied: pypdf<5.0.0,>=4.0.1 in /Users/gyliu/titan/lib/python3.11/site-packages (from embedchain<0.2.0,>=0.1.114->crewai) (4.3.1)\n",
      "Requirement already satisfied: pysbd<0.4.0,>=0.3.4 in /Users/gyliu/titan/lib/python3.11/site-packages (from embedchain<0.2.0,>=0.1.114->crewai) (0.3.4)\n",
      "Requirement already satisfied: schema<0.8.0,>=0.7.5 in /Users/gyliu/titan/lib/python3.11/site-packages (from embedchain<0.2.0,>=0.1.114->crewai) (0.7.7)\n",
      "Requirement already satisfied: sqlalchemy<3.0.0,>=2.0.27 in /Users/gyliu/titan/lib/python3.11/site-packages (from embedchain<0.2.0,>=0.1.114->crewai) (2.0.32)\n",
      "Requirement already satisfied: tiktoken<0.8.0,>=0.7.0 in /Users/gyliu/titan/lib/python3.11/site-packages (from embedchain<0.2.0,>=0.1.114->crewai) (0.7.0)\n",
      "Requirement already satisfied: deprecation in /Users/gyliu/titan/lib/python3.11/site-packages (from lancedb<0.6.0,>=0.5.4->crewai-tools) (2.1.0)\n",
      "Requirement already satisfied: pylance==0.9.18 in /Users/gyliu/titan/lib/python3.11/site-packages (from lancedb<0.6.0,>=0.5.4->crewai-tools) (0.9.18)\n",
      "Requirement already satisfied: ratelimiter~=1.0 in /Users/gyliu/titan/lib/python3.11/site-packages (from lancedb<0.6.0,>=0.5.4->crewai-tools) (1.2.0.post0)\n",
      "Requirement already satisfied: retry>=0.9.2 in /Users/gyliu/titan/lib/python3.11/site-packages (from lancedb<0.6.0,>=0.5.4->crewai-tools) (0.9.2)\n",
      "Requirement already satisfied: attrs>=21.3.0 in /Users/gyliu/titan/lib/python3.11/site-packages (from lancedb<0.6.0,>=0.5.4->crewai-tools) (24.2.0)\n",
      "Requirement already satisfied: semver>=3.0 in /Users/gyliu/titan/lib/python3.11/site-packages (from lancedb<0.6.0,>=0.5.4->crewai-tools) (3.0.2)\n",
      "Requirement already satisfied: cachetools in /Users/gyliu/titan/lib/python3.11/site-packages (from lancedb<0.6.0,>=0.5.4->crewai-tools) (5.5.0)\n",
      "Requirement already satisfied: pyarrow>=12 in /Users/gyliu/titan/lib/python3.11/site-packages (from pylance==0.9.18->lancedb<0.6.0,>=0.5.4->crewai-tools) (17.0.0)\n",
      "Requirement already satisfied: langchain-core<0.3.0,>=0.2.38 in /Users/gyliu/titan/lib/python3.11/site-packages (from langchain<=0.3,>0.2->crewai) (0.2.39)\n",
      "Requirement already satisfied: langchain-text-splitters<0.3.0,>=0.2.0 in /Users/gyliu/titan/lib/python3.11/site-packages (from langchain<=0.3,>0.2->crewai) (0.2.4)\n",
      "Requirement already satisfied: langsmith<0.2.0,>=0.1.17 in /Users/gyliu/titan/lib/python3.11/site-packages (from langchain<=0.3,>0.2->crewai) (0.1.120)\n",
      "Requirement already satisfied: anyio<5,>=3.5.0 in /Users/gyliu/titan/lib/python3.11/site-packages (from openai<2.0.0,>=1.13.3->crewai) (4.4.0)\n",
      "Requirement already satisfied: distro<2,>=1.7.0 in /Users/gyliu/titan/lib/python3.11/site-packages (from openai<2.0.0,>=1.13.3->crewai) (1.9.0)\n",
      "Requirement already satisfied: httpx<1,>=0.23.0 in /Users/gyliu/titan/lib/python3.11/site-packages (from openai<2.0.0,>=1.13.3->crewai) (0.27.0)\n",
      "Requirement already satisfied: sniffio in /Users/gyliu/titan/lib/python3.11/site-packages (from openai<2.0.0,>=1.13.3->crewai) (1.3.1)\n",
      "Requirement already satisfied: deprecated>=1.2.6 in /Users/gyliu/titan/lib/python3.11/site-packages (from opentelemetry-api->openinference-instrumentation-crewai) (1.2.14)\n",
      "Requirement already satisfied: importlib-metadata<=8.4.0,>=6.0 in /Users/gyliu/titan/lib/python3.11/site-packages (from opentelemetry-api->openinference-instrumentation-crewai) (8.0.0)\n",
      "Requirement already satisfied: googleapis-common-protos~=1.52 in /Users/gyliu/titan/lib/python3.11/site-packages (from opentelemetry-exporter-otlp-proto-http<2.0.0,>=1.22.0->crewai) (1.63.2)\n",
      "Requirement already satisfied: opentelemetry-exporter-otlp-proto-common==1.27.0 in /Users/gyliu/titan/lib/python3.11/site-packages (from opentelemetry-exporter-otlp-proto-http<2.0.0,>=1.22.0->crewai) (1.27.0)\n",
      "Requirement already satisfied: opentelemetry-proto==1.27.0 in /Users/gyliu/titan/lib/python3.11/site-packages (from opentelemetry-exporter-otlp-proto-http<2.0.0,>=1.22.0->crewai) (1.27.0)\n",
      "Requirement already satisfied: protobuf<5.0,>=3.19 in /Users/gyliu/titan/lib/python3.11/site-packages (from opentelemetry-proto==1.27.0->opentelemetry-exporter-otlp-proto-http<2.0.0,>=1.22.0->crewai) (4.25.4)\n",
      "Requirement already satisfied: annotated-types>=0.6.0 in /Users/gyliu/titan/lib/python3.11/site-packages (from pydantic<3.0.0,>=2.4.2->crewai) (0.7.0)\n",
      "Requirement already satisfied: nodeenv>=1.6.0 in /Users/gyliu/titan/lib/python3.11/site-packages (from pyright<2.0.0,>=1.1.350->crewai-tools) (1.9.1)\n",
      "Requirement already satisfied: iniconfig in /Users/gyliu/titan/lib/python3.11/site-packages (from pytest<9.0.0,>=8.0.0->crewai-tools) (2.0.0)\n",
      "Requirement already satisfied: packaging in /Users/gyliu/titan/lib/python3.11/site-packages (from pytest<9.0.0,>=8.0.0->crewai-tools) (24.1)\n",
      "Requirement already satisfied: pluggy<2,>=1.5 in /Users/gyliu/titan/lib/python3.11/site-packages (from pytest<9.0.0,>=8.0.0->crewai-tools) (1.5.0)\n",
      "Requirement already satisfied: charset-normalizer<4,>=2 in /Users/gyliu/titan/lib/python3.11/site-packages (from requests<3.0.0,>=2.31.0->crewai-tools) (3.3.2)\n",
      "Requirement already satisfied: idna<4,>=2.5 in /Users/gyliu/titan/lib/python3.11/site-packages (from requests<3.0.0,>=2.31.0->crewai-tools) (3.7)\n",
      "Requirement already satisfied: certifi>=2017.4.17 in /Users/gyliu/titan/lib/python3.11/site-packages (from requests<3.0.0,>=2.31.0->crewai-tools) (2024.7.4)\n",
      "Requirement already satisfied: trio~=0.17 in /Users/gyliu/titan/lib/python3.11/site-packages (from selenium<5.0.0,>=4.18.1->crewai-tools) (0.26.2)\n",
      "Requirement already satisfied: trio-websocket~=0.9 in /Users/gyliu/titan/lib/python3.11/site-packages (from selenium<5.0.0,>=4.18.1->crewai-tools) (0.11.1)\n",
      "Requirement already satisfied: websocket-client~=1.8 in /Users/gyliu/titan/lib/python3.11/site-packages (from selenium<5.0.0,>=4.18.1->crewai-tools) (1.8.0)\n",
      "Requirement already satisfied: setuptools>=16.0 in /Users/gyliu/titan/lib/python3.11/site-packages (from opentelemetry-instrumentation->openinference-instrumentation-crewai) (65.5.0)\n",
      "Requirement already satisfied: aiohappyeyeballs>=2.3.0 in /Users/gyliu/titan/lib/python3.11/site-packages (from aiohttp<4.0.0,>=3.9.1->instructor==1.3.3->crewai) (2.4.0)\n",
      "Requirement already satisfied: aiosignal>=1.1.2 in /Users/gyliu/titan/lib/python3.11/site-packages (from aiohttp<4.0.0,>=3.9.1->instructor==1.3.3->crewai) (1.3.1)\n",
      "Requirement already satisfied: frozenlist>=1.1.1 in /Users/gyliu/titan/lib/python3.11/site-packages (from aiohttp<4.0.0,>=3.9.1->instructor==1.3.3->crewai) (1.4.1)\n",
      "Requirement already satisfied: multidict<7.0,>=4.5 in /Users/gyliu/titan/lib/python3.11/site-packages (from aiohttp<4.0.0,>=3.9.1->instructor==1.3.3->crewai) (6.1.0)\n",
      "Requirement already satisfied: yarl<2.0,>=1.0 in /Users/gyliu/titan/lib/python3.11/site-packages (from aiohttp<4.0.0,>=3.9.1->instructor==1.3.3->crewai) (1.11.1)\n",
      "Requirement already satisfied: Mako in /Users/gyliu/titan/lib/python3.11/site-packages (from alembic<2.0.0,>=1.13.1->embedchain<0.2.0,>=0.1.114->crewai) (1.3.5)\n",
      "Requirement already satisfied: pyproject_hooks in /Users/gyliu/titan/lib/python3.11/site-packages (from build>=1.0.3->chromadb<0.5.0,>=0.4.22->crewai-tools) (1.1.0)\n",
      "Requirement already satisfied: boto3<2.0.0,>=1.34.0 in /Users/gyliu/titan/lib/python3.11/site-packages (from cohere<6.0,>=5.3->embedchain<0.2.0,>=0.1.114->crewai) (1.34.153)\n",
      "Requirement already satisfied: fastavro<2.0.0,>=1.9.4 in /Users/gyliu/titan/lib/python3.11/site-packages (from cohere<6.0,>=5.3->embedchain<0.2.0,>=0.1.114->crewai) (1.9.7)\n",
      "Requirement already satisfied: httpx-sse==0.4.0 in /Users/gyliu/titan/lib/python3.11/site-packages (from cohere<6.0,>=5.3->embedchain<0.2.0,>=0.1.114->crewai) (0.4.0)\n",
      "Requirement already satisfied: parameterized<0.10.0,>=0.9.0 in /Users/gyliu/titan/lib/python3.11/site-packages (from cohere<6.0,>=5.3->embedchain<0.2.0,>=0.1.114->crewai) (0.9.0)\n",
      "Requirement already satisfied: types-requests<3.0.0,>=2.0.0 in /Users/gyliu/titan/lib/python3.11/site-packages (from cohere<6.0,>=5.3->embedchain<0.2.0,>=0.1.114->crewai) (2.32.0.20240907)\n",
      "Requirement already satisfied: cffi>=1.12 in /Users/gyliu/titan/lib/python3.11/site-packages (from cryptography<44.0.0,>=43.0.1->auth0-python<5.0.0,>=4.7.1->crewai) (1.17.1)\n",
      "Requirement already satisfied: starlette<0.39.0,>=0.37.2 in /Users/gyliu/titan/lib/python3.11/site-packages (from fastapi>=0.95.2->chromadb<0.5.0,>=0.4.22->crewai-tools) (0.37.2)\n",
      "Requirement already satisfied: google-api-core[grpc]!=2.0.*,!=2.1.*,!=2.2.*,!=2.3.*,!=2.4.*,!=2.5.*,!=2.6.*,!=2.7.*,<3.0.0dev,>=1.34.1 in /Users/gyliu/titan/lib/python3.11/site-packages (from google-cloud-aiplatform<2.0.0,>=1.26.1->embedchain<0.2.0,>=0.1.114->crewai) (2.19.2)\n",
      "Requirement already satisfied: google-auth<3.0.0dev,>=2.14.1 in /Users/gyliu/titan/lib/python3.11/site-packages (from google-cloud-aiplatform<2.0.0,>=1.26.1->embedchain<0.2.0,>=0.1.114->crewai) (2.34.0)\n",
      "Requirement already satisfied: proto-plus<2.0.0dev,>=1.22.3 in /Users/gyliu/titan/lib/python3.11/site-packages (from google-cloud-aiplatform<2.0.0,>=1.26.1->embedchain<0.2.0,>=0.1.114->crewai) (1.24.0)\n",
      "Requirement already satisfied: google-cloud-storage<3.0.0dev,>=1.32.0 in /Users/gyliu/titan/lib/python3.11/site-packages (from google-cloud-aiplatform<2.0.0,>=1.26.1->embedchain<0.2.0,>=0.1.114->crewai) (2.18.2)\n",
      "Requirement already satisfied: google-cloud-bigquery!=3.20.0,<4.0.0dev,>=1.15.0 in /Users/gyliu/titan/lib/python3.11/site-packages (from google-cloud-aiplatform<2.0.0,>=1.26.1->embedchain<0.2.0,>=0.1.114->crewai) (3.25.0)\n",
      "Requirement already satisfied: google-cloud-resource-manager<3.0.0dev,>=1.3.3 in /Users/gyliu/titan/lib/python3.11/site-packages (from google-cloud-aiplatform<2.0.0,>=1.26.1->embedchain<0.2.0,>=0.1.114->crewai) (1.12.5)\n",
      "Requirement already satisfied: shapely<3.0.0dev in /Users/gyliu/titan/lib/python3.11/site-packages (from google-cloud-aiplatform<2.0.0,>=1.26.1->embedchain<0.2.0,>=0.1.114->crewai) (2.0.6)\n",
      "Requirement already satisfied: httpcore==1.* in /Users/gyliu/titan/lib/python3.11/site-packages (from httpx<1,>=0.23.0->openai<2.0.0,>=1.13.3->crewai) (1.0.5)\n",
      "Requirement already satisfied: h11<0.15,>=0.13 in /Users/gyliu/titan/lib/python3.11/site-packages (from httpcore==1.*->httpx<1,>=0.23.0->openai<2.0.0,>=1.13.3->crewai) (0.14.0)\n",
      "Requirement already satisfied: zipp>=0.5 in /Users/gyliu/titan/lib/python3.11/site-packages (from importlib-metadata<=8.4.0,>=6.0->opentelemetry-api->openinference-instrumentation-crewai) (3.19.2)\n",
      "Requirement already satisfied: six>=1.9.0 in /Users/gyliu/titan/lib/python3.11/site-packages (from kubernetes>=28.1.0->chromadb<0.5.0,>=0.4.22->crewai-tools) (1.16.0)\n",
      "Requirement already satisfied: python-dateutil>=2.5.3 in /Users/gyliu/titan/lib/python3.11/site-packages (from kubernetes>=28.1.0->chromadb<0.5.0,>=0.4.22->crewai-tools) (2.9.0.post0)\n",
      "Requirement already satisfied: requests-oauthlib in /Users/gyliu/titan/lib/python3.11/site-packages (from kubernetes>=28.1.0->chromadb<0.5.0,>=0.4.22->crewai-tools) (2.0.0)\n",
      "Requirement already satisfied: oauthlib>=3.2.2 in /Users/gyliu/titan/lib/python3.11/site-packages (from kubernetes>=28.1.0->chromadb<0.5.0,>=0.4.22->crewai-tools) (3.2.2)\n",
      "Requirement already satisfied: langchain-experimental>=0.0.6 in /Users/gyliu/titan/lib/python3.11/site-packages (from langchain-cohere<0.2.0,>=0.1.4->embedchain<0.2.0,>=0.1.114->crewai) (0.0.65)\n",
      "Requirement already satisfied: pandas>=1.4.3 in /Users/gyliu/titan/lib/python3.11/site-packages (from langchain-cohere<0.2.0,>=0.1.4->embedchain<0.2.0,>=0.1.114->crewai) (2.1.4)\n",
      "Requirement already satisfied: tabulate<0.10.0,>=0.9.0 in /Users/gyliu/titan/lib/python3.11/site-packages (from langchain-cohere<0.2.0,>=0.1.4->embedchain<0.2.0,>=0.1.114->crewai) (0.9.0)\n",
      "Requirement already satisfied: dataclasses-json<0.7,>=0.5.7 in /Users/gyliu/titan/lib/python3.11/site-packages (from langchain-community<0.3.0,>=0.2.6->embedchain<0.2.0,>=0.1.114->crewai) (0.6.7)\n",
      "Requirement already satisfied: jsonpatch<2.0,>=1.33 in /Users/gyliu/titan/lib/python3.11/site-packages (from langchain-core<0.3.0,>=0.2.38->langchain<=0.3,>0.2->crewai) (1.33)\n",
      "Requirement already satisfied: pytz<2025.0,>=2024.1 in /Users/gyliu/titan/lib/python3.11/site-packages (from mem0ai<0.0.21,>=0.0.20->embedchain<0.2.0,>=0.1.114->crewai) (2024.1)\n",
      "Requirement already satisfied: qdrant-client<2.0.0,>=1.9.1 in /Users/gyliu/titan/lib/python3.11/site-packages (from mem0ai<0.0.21,>=0.0.20->embedchain<0.2.0,>=0.1.114->crewai) (1.11.1)\n",
      "Requirement already satisfied: coloredlogs in /Users/gyliu/titan/lib/python3.11/site-packages (from onnxruntime>=1.14.1->chromadb<0.5.0,>=0.4.22->crewai-tools) (15.0.1)\n",
      "Requirement already satisfied: flatbuffers in /Users/gyliu/titan/lib/python3.11/site-packages (from onnxruntime>=1.14.1->chromadb<0.5.0,>=0.4.22->crewai-tools) (24.3.25)\n",
      "Requirement already satisfied: sympy in /Users/gyliu/titan/lib/python3.11/site-packages (from onnxruntime>=1.14.1->chromadb<0.5.0,>=0.4.22->crewai-tools) (1.13.2)\n",
      "Requirement already satisfied: opentelemetry-instrumentation-asgi==0.48b0 in /Users/gyliu/titan/lib/python3.11/site-packages (from opentelemetry-instrumentation-fastapi>=0.41b0->chromadb<0.5.0,>=0.4.22->crewai-tools) (0.48b0)\n",
      "Requirement already satisfied: opentelemetry-util-http==0.48b0 in /Users/gyliu/titan/lib/python3.11/site-packages (from opentelemetry-instrumentation-fastapi>=0.41b0->chromadb<0.5.0,>=0.4.22->crewai-tools) (0.48b0)\n",
      "Requirement already satisfied: asgiref~=3.0 in /Users/gyliu/titan/lib/python3.11/site-packages (from opentelemetry-instrumentation-asgi==0.48b0->opentelemetry-instrumentation-fastapi>=0.41b0->chromadb<0.5.0,>=0.4.22->crewai-tools) (3.8.1)\n",
      "Requirement already satisfied: monotonic>=1.5 in /Users/gyliu/titan/lib/python3.11/site-packages (from posthog>=2.4.0->chromadb<0.5.0,>=0.4.22->crewai-tools) (1.6)\n",
      "Requirement already satisfied: backoff>=1.10.0 in /Users/gyliu/titan/lib/python3.11/site-packages (from posthog>=2.4.0->chromadb<0.5.0,>=0.4.22->crewai-tools) (2.2.1)\n",
      "Requirement already satisfied: decorator>=3.4.2 in /Users/gyliu/titan/lib/python3.11/site-packages (from retry>=0.9.2->lancedb<0.6.0,>=0.5.4->crewai-tools) (5.1.1)\n",
      "Requirement already satisfied: py<2.0.0,>=1.4.26 in /Users/gyliu/titan/lib/python3.11/site-packages (from retry>=0.9.2->lancedb<0.6.0,>=0.5.4->crewai-tools) (1.11.0)\n",
      "Requirement already satisfied: markdown-it-py>=2.2.0 in /Users/gyliu/titan/lib/python3.11/site-packages (from rich<14.0.0,>=13.7.0->instructor==1.3.3->crewai) (3.0.0)\n",
      "Requirement already satisfied: pygments<3.0.0,>=2.13.0 in /Users/gyliu/titan/lib/python3.11/site-packages (from rich<14.0.0,>=13.7.0->instructor==1.3.3->crewai) (2.18.0)\n",
      "Requirement already satisfied: huggingface-hub<1.0,>=0.16.4 in /Users/gyliu/titan/lib/python3.11/site-packages (from tokenizers>=0.13.2->chromadb<0.5.0,>=0.4.22->crewai-tools) (0.24.5)\n",
      "Requirement already satisfied: sortedcontainers in /Users/gyliu/titan/lib/python3.11/site-packages (from trio~=0.17->selenium<5.0.0,>=4.18.1->crewai-tools) (2.4.0)\n",
      "Requirement already satisfied: outcome in /Users/gyliu/titan/lib/python3.11/site-packages (from trio~=0.17->selenium<5.0.0,>=4.18.1->crewai-tools) (1.3.0.post0)\n",
      "Requirement already satisfied: wsproto>=0.14 in /Users/gyliu/titan/lib/python3.11/site-packages (from trio-websocket~=0.9->selenium<5.0.0,>=4.18.1->crewai-tools) (1.2.0)\n",
      "Requirement already satisfied: shellingham>=1.3.0 in /Users/gyliu/titan/lib/python3.11/site-packages (from typer<1.0.0,>=0.9.0->instructor==1.3.3->crewai) (1.5.4)\n",
      "Requirement already satisfied: pysocks!=1.5.7,<2.0,>=1.5.6 in /Users/gyliu/titan/lib/python3.11/site-packages (from urllib3<3.0.0,>=2.0.7->auth0-python<5.0.0,>=4.7.1->crewai) (1.7.1)\n",
      "Requirement already satisfied: httptools>=0.5.0 in /Users/gyliu/titan/lib/python3.11/site-packages (from uvicorn[standard]>=0.18.3->chromadb<0.5.0,>=0.4.22->crewai-tools) (0.6.1)\n",
      "Requirement already satisfied: uvloop!=0.15.0,!=0.15.1,>=0.14.0 in /Users/gyliu/titan/lib/python3.11/site-packages (from uvicorn[standard]>=0.18.3->chromadb<0.5.0,>=0.4.22->crewai-tools) (0.20.0)\n",
      "Requirement already satisfied: watchfiles>=0.13 in /Users/gyliu/titan/lib/python3.11/site-packages (from uvicorn[standard]>=0.18.3->chromadb<0.5.0,>=0.4.22->crewai-tools) (0.24.0)\n",
      "Requirement already satisfied: websockets>=10.4 in /Users/gyliu/titan/lib/python3.11/site-packages (from uvicorn[standard]>=0.18.3->chromadb<0.5.0,>=0.4.22->crewai-tools) (13.0.1)\n",
      "Requirement already satisfied: botocore<1.35.0,>=1.34.153 in /Users/gyliu/titan/lib/python3.11/site-packages (from boto3<2.0.0,>=1.34.0->cohere<6.0,>=5.3->embedchain<0.2.0,>=0.1.114->crewai) (1.34.153)\n",
      "Requirement already satisfied: jmespath<2.0.0,>=0.7.1 in /Users/gyliu/titan/lib/python3.11/site-packages (from boto3<2.0.0,>=1.34.0->cohere<6.0,>=5.3->embedchain<0.2.0,>=0.1.114->crewai) (1.0.1)\n",
      "Requirement already satisfied: s3transfer<0.11.0,>=0.10.0 in /Users/gyliu/titan/lib/python3.11/site-packages (from boto3<2.0.0,>=1.34.0->cohere<6.0,>=5.3->embedchain<0.2.0,>=0.1.114->crewai) (0.10.2)\n",
      "Requirement already satisfied: pycparser in /Users/gyliu/titan/lib/python3.11/site-packages (from cffi>=1.12->cryptography<44.0.0,>=43.0.1->auth0-python<5.0.0,>=4.7.1->crewai) (2.22)\n",
      "Requirement already satisfied: marshmallow<4.0.0,>=3.18.0 in /Users/gyliu/titan/lib/python3.11/site-packages (from dataclasses-json<0.7,>=0.5.7->langchain-community<0.3.0,>=0.2.6->embedchain<0.2.0,>=0.1.114->crewai) (3.22.0)\n",
      "Requirement already satisfied: typing-inspect<1,>=0.4.0 in /Users/gyliu/titan/lib/python3.11/site-packages (from dataclasses-json<0.7,>=0.5.7->langchain-community<0.3.0,>=0.2.6->embedchain<0.2.0,>=0.1.114->crewai) (0.9.0)\n",
      "Requirement already satisfied: grpcio-status<2.0.dev0,>=1.33.2 in /Users/gyliu/titan/lib/python3.11/site-packages (from google-api-core[grpc]!=2.0.*,!=2.1.*,!=2.2.*,!=2.3.*,!=2.4.*,!=2.5.*,!=2.6.*,!=2.7.*,<3.0.0dev,>=1.34.1->google-cloud-aiplatform<2.0.0,>=1.26.1->embedchain<0.2.0,>=0.1.114->crewai) (1.62.3)\n",
      "Requirement already satisfied: pyasn1-modules>=0.2.1 in /Users/gyliu/titan/lib/python3.11/site-packages (from google-auth<3.0.0dev,>=2.14.1->google-cloud-aiplatform<2.0.0,>=1.26.1->embedchain<0.2.0,>=0.1.114->crewai) (0.4.1)\n",
      "Requirement already satisfied: rsa<5,>=3.1.4 in /Users/gyliu/titan/lib/python3.11/site-packages (from google-auth<3.0.0dev,>=2.14.1->google-cloud-aiplatform<2.0.0,>=1.26.1->embedchain<0.2.0,>=0.1.114->crewai) (4.9)\n",
      "Requirement already satisfied: google-cloud-core<3.0.0dev,>=1.6.0 in /Users/gyliu/titan/lib/python3.11/site-packages (from google-cloud-bigquery!=3.20.0,<4.0.0dev,>=1.15.0->google-cloud-aiplatform<2.0.0,>=1.26.1->embedchain<0.2.0,>=0.1.114->crewai) (2.4.1)\n",
      "Requirement already satisfied: google-resumable-media<3.0dev,>=0.6.0 in /Users/gyliu/titan/lib/python3.11/site-packages (from google-cloud-bigquery!=3.20.0,<4.0.0dev,>=1.15.0->google-cloud-aiplatform<2.0.0,>=1.26.1->embedchain<0.2.0,>=0.1.114->crewai) (2.7.2)\n",
      "Requirement already satisfied: grpc-google-iam-v1<1.0.0dev,>=0.12.4 in /Users/gyliu/titan/lib/python3.11/site-packages (from google-cloud-resource-manager<3.0.0dev,>=1.3.3->google-cloud-aiplatform<2.0.0,>=1.26.1->embedchain<0.2.0,>=0.1.114->crewai) (0.13.1)\n",
      "Requirement already satisfied: google-crc32c<2.0dev,>=1.0 in /Users/gyliu/titan/lib/python3.11/site-packages (from google-cloud-storage<3.0.0dev,>=1.32.0->google-cloud-aiplatform<2.0.0,>=1.26.1->embedchain<0.2.0,>=0.1.114->crewai) (1.6.0)\n",
      "Requirement already satisfied: filelock in /Users/gyliu/titan/lib/python3.11/site-packages (from huggingface-hub<1.0,>=0.16.4->tokenizers>=0.13.2->chromadb<0.5.0,>=0.4.22->crewai-tools) (3.15.4)\n",
      "Requirement already satisfied: fsspec>=2023.5.0 in /Users/gyliu/titan/lib/python3.11/site-packages (from huggingface-hub<1.0,>=0.16.4->tokenizers>=0.13.2->chromadb<0.5.0,>=0.4.22->crewai-tools) (2024.6.1)\n",
      "Requirement already satisfied: jsonpointer>=1.9 in /Users/gyliu/titan/lib/python3.11/site-packages (from jsonpatch<2.0,>=1.33->langchain-core<0.3.0,>=0.2.38->langchain<=0.3,>0.2->crewai) (3.0.0)\n",
      "Requirement already satisfied: mdurl~=0.1 in /Users/gyliu/titan/lib/python3.11/site-packages (from markdown-it-py>=2.2.0->rich<14.0.0,>=13.7.0->instructor==1.3.3->crewai) (0.1.2)\n",
      "Requirement already satisfied: tzdata>=2022.1 in /Users/gyliu/titan/lib/python3.11/site-packages (from pandas>=1.4.3->langchain-cohere<0.2.0,>=0.1.4->embedchain<0.2.0,>=0.1.114->crewai) (2024.1)\n",
      "Requirement already satisfied: grpcio-tools>=1.41.0 in /Users/gyliu/titan/lib/python3.11/site-packages (from qdrant-client<2.0.0,>=1.9.1->mem0ai<0.0.21,>=0.0.20->embedchain<0.2.0,>=0.1.114->crewai) (1.62.3)\n",
      "Requirement already satisfied: portalocker<3.0.0,>=2.7.0 in /Users/gyliu/titan/lib/python3.11/site-packages (from qdrant-client<2.0.0,>=1.9.1->mem0ai<0.0.21,>=0.0.20->embedchain<0.2.0,>=0.1.114->crewai) (2.10.1)\n",
      "Requirement already satisfied: humanfriendly>=9.1 in /Users/gyliu/titan/lib/python3.11/site-packages (from coloredlogs->onnxruntime>=1.14.1->chromadb<0.5.0,>=0.4.22->crewai-tools) (10.0)\n",
      "Requirement already satisfied: MarkupSafe>=0.9.2 in /Users/gyliu/titan/lib/python3.11/site-packages (from Mako->alembic<2.0.0,>=1.13.1->embedchain<0.2.0,>=0.1.114->crewai) (2.1.5)\n",
      "Requirement already satisfied: mpmath<1.4,>=1.1.0 in /Users/gyliu/titan/lib/python3.11/site-packages (from sympy->onnxruntime>=1.14.1->chromadb<0.5.0,>=0.4.22->crewai-tools) (1.3.0)\n",
      "Requirement already satisfied: h2<5,>=3 in /Users/gyliu/titan/lib/python3.11/site-packages (from httpx<1,>=0.23.0->openai<2.0.0,>=1.13.3->crewai) (4.1.0)\n",
      "Requirement already satisfied: pyasn1<0.7.0,>=0.4.6 in /Users/gyliu/titan/lib/python3.11/site-packages (from pyasn1-modules>=0.2.1->google-auth<3.0.0dev,>=2.14.1->google-cloud-aiplatform<2.0.0,>=1.26.1->embedchain<0.2.0,>=0.1.114->crewai) (0.6.1)\n",
      "Requirement already satisfied: mypy-extensions>=0.3.0 in /Users/gyliu/titan/lib/python3.11/site-packages (from typing-inspect<1,>=0.4.0->dataclasses-json<0.7,>=0.5.7->langchain-community<0.3.0,>=0.2.6->embedchain<0.2.0,>=0.1.114->crewai) (1.0.0)\n",
      "Requirement already satisfied: hyperframe<7,>=6.0 in /Users/gyliu/titan/lib/python3.11/site-packages (from h2<5,>=3->httpx<1,>=0.23.0->openai<2.0.0,>=1.13.3->crewai) (6.0.1)\n",
      "Requirement already satisfied: hpack<5,>=4.0 in /Users/gyliu/titan/lib/python3.11/site-packages (from h2<5,>=3->httpx<1,>=0.23.0->openai<2.0.0,>=1.13.3->crewai) (4.0.0)\n",
      "\n",
      "\u001b[1m[\u001b[0m\u001b[34;49mnotice\u001b[0m\u001b[1;39;49m]\u001b[0m\u001b[39;49m A new release of pip is available: \u001b[0m\u001b[31;49m23.2.1\u001b[0m\u001b[39;49m -> \u001b[0m\u001b[32;49m24.2\u001b[0m\n",
      "\u001b[1m[\u001b[0m\u001b[34;49mnotice\u001b[0m\u001b[1;39;49m]\u001b[0m\u001b[39;49m To update, run: \u001b[0m\u001b[32;49mpip install --upgrade pip\u001b[0m\n",
      "Note: you may need to restart the kernel to use updated packages.\n"
     ]
    }
   ],
   "source": [
    "pip install openinference-instrumentation-crewai crewai crewai-tools"
   ]
  },
  {
   "cell_type": "code",
   "execution_count": 13,
   "metadata": {},
   "outputs": [
    {
     "name": "stderr",
     "output_type": "stream",
     "text": [
      "I0000 00:00:1729544876.122885 6043658 fork_posix.cc:77] Other threads are currently calling into gRPC, skipping fork() handlers\n"
     ]
    },
    {
     "name": "stdout",
     "output_type": "stream",
     "text": [
      "Requirement already satisfied: openinference-instrumentation-langchain in /Users/gyliu/titan/lib/python3.11/site-packages (0.1.28)\n",
      "Requirement already satisfied: openinference-instrumentation>=0.1.17 in /Users/gyliu/titan/lib/python3.11/site-packages (from openinference-instrumentation-langchain) (0.1.18)\n",
      "Requirement already satisfied: openinference-semantic-conventions>=0.1.9 in /Users/gyliu/titan/lib/python3.11/site-packages (from openinference-instrumentation-langchain) (0.1.10)\n",
      "Requirement already satisfied: opentelemetry-api in /Users/gyliu/titan/lib/python3.11/site-packages (from openinference-instrumentation-langchain) (1.27.0)\n",
      "Requirement already satisfied: opentelemetry-instrumentation in /Users/gyliu/titan/lib/python3.11/site-packages (from openinference-instrumentation-langchain) (0.48b0)\n",
      "Requirement already satisfied: opentelemetry-semantic-conventions in /Users/gyliu/titan/lib/python3.11/site-packages (from openinference-instrumentation-langchain) (0.48b0)\n",
      "Requirement already satisfied: wrapt in /Users/gyliu/titan/lib/python3.11/site-packages (from openinference-instrumentation-langchain) (1.16.0)\n",
      "Requirement already satisfied: opentelemetry-sdk in /Users/gyliu/titan/lib/python3.11/site-packages (from openinference-instrumentation>=0.1.17->openinference-instrumentation-langchain) (1.27.0)\n",
      "Requirement already satisfied: deprecated>=1.2.6 in /Users/gyliu/titan/lib/python3.11/site-packages (from opentelemetry-api->openinference-instrumentation-langchain) (1.2.14)\n",
      "Requirement already satisfied: importlib-metadata<=8.4.0,>=6.0 in /Users/gyliu/titan/lib/python3.11/site-packages (from opentelemetry-api->openinference-instrumentation-langchain) (8.0.0)\n",
      "Requirement already satisfied: setuptools>=16.0 in /Users/gyliu/titan/lib/python3.11/site-packages (from opentelemetry-instrumentation->openinference-instrumentation-langchain) (65.5.0)\n",
      "Requirement already satisfied: zipp>=0.5 in /Users/gyliu/titan/lib/python3.11/site-packages (from importlib-metadata<=8.4.0,>=6.0->opentelemetry-api->openinference-instrumentation-langchain) (3.19.2)\n",
      "Requirement already satisfied: typing-extensions>=3.7.4 in /Users/gyliu/titan/lib/python3.11/site-packages (from opentelemetry-sdk->openinference-instrumentation>=0.1.17->openinference-instrumentation-langchain) (4.12.2)\n",
      "\n",
      "\u001b[1m[\u001b[0m\u001b[34;49mnotice\u001b[0m\u001b[1;39;49m]\u001b[0m\u001b[39;49m A new release of pip is available: \u001b[0m\u001b[31;49m23.2.1\u001b[0m\u001b[39;49m -> \u001b[0m\u001b[32;49m24.2\u001b[0m\n",
      "\u001b[1m[\u001b[0m\u001b[34;49mnotice\u001b[0m\u001b[1;39;49m]\u001b[0m\u001b[39;49m To update, run: \u001b[0m\u001b[32;49mpip install --upgrade pip\u001b[0m\n"
     ]
    }
   ],
   "source": [
    "!pip install openinference-instrumentation-langchain"
   ]
  },
  {
   "cell_type": "code",
   "execution_count": 14,
   "metadata": {},
   "outputs": [
    {
     "name": "stderr",
     "output_type": "stream",
     "text": [
      "Attempting to instrument while already instrumented\n"
     ]
    }
   ],
   "source": [
    "from openinference.instrumentation.langchain import LangChainInstrumentor\n",
    "\n",
    "LangChainInstrumentor().instrument(tracer_provider=tracer_provider)"
   ]
  },
  {
   "cell_type": "code",
   "execution_count": 15,
   "metadata": {},
   "outputs": [
    {
     "ename": "ValidationError",
     "evalue": "1 validation error for Crew\nverbose\n  Input should be a valid boolean, unable to interpret input [type=bool_parsing, input_value=2, input_type=int]\n    For further information visit https://errors.pydantic.dev/2.9/v/bool_parsing",
     "output_type": "error",
     "traceback": [
      "\u001b[0;31m---------------------------------------------------------------------------\u001b[0m",
      "\u001b[0;31mValidationError\u001b[0m                           Traceback (most recent call last)",
      "Cell \u001b[0;32mIn[15], line 47\u001b[0m\n\u001b[1;32m     37\u001b[0m task2 \u001b[38;5;241m=\u001b[39m Task(\n\u001b[1;32m     38\u001b[0m   description\u001b[38;5;241m=\u001b[39m\u001b[38;5;124m\"\"\"\u001b[39m\u001b[38;5;124mUsing the insights provided, develop an engaging blog\u001b[39m\n\u001b[1;32m     39\u001b[0m \u001b[38;5;124m  post that highlights the most significant AI advancements.\u001b[39m\n\u001b[0;32m   (...)\u001b[0m\n\u001b[1;32m     43\u001b[0m   agent\u001b[38;5;241m=\u001b[39mwriter\n\u001b[1;32m     44\u001b[0m )\n\u001b[1;32m     46\u001b[0m \u001b[38;5;66;03m# Instantiate your crew with a sequential process\u001b[39;00m\n\u001b[0;32m---> 47\u001b[0m crew \u001b[38;5;241m=\u001b[39m \u001b[43mCrew\u001b[49m\u001b[43m(\u001b[49m\n\u001b[1;32m     48\u001b[0m \u001b[43m  \u001b[49m\u001b[43magents\u001b[49m\u001b[38;5;241;43m=\u001b[39;49m\u001b[43m[\u001b[49m\u001b[43mresearcher\u001b[49m\u001b[43m,\u001b[49m\u001b[43m \u001b[49m\u001b[43mwriter\u001b[49m\u001b[43m]\u001b[49m\u001b[43m,\u001b[49m\n\u001b[1;32m     49\u001b[0m \u001b[43m  \u001b[49m\u001b[43mtasks\u001b[49m\u001b[38;5;241;43m=\u001b[39;49m\u001b[43m[\u001b[49m\u001b[43mtask1\u001b[49m\u001b[43m,\u001b[49m\u001b[43m \u001b[49m\u001b[43mtask2\u001b[49m\u001b[43m]\u001b[49m\u001b[43m,\u001b[49m\n\u001b[1;32m     50\u001b[0m \u001b[43m  \u001b[49m\u001b[43mverbose\u001b[49m\u001b[38;5;241;43m=\u001b[39;49m\u001b[38;5;241;43m2\u001b[39;49m\u001b[43m,\u001b[49m\u001b[43m \u001b[49m\u001b[38;5;66;43;03m# You can set it to 1 or 2 to different logging levels\u001b[39;49;00m\n\u001b[1;32m     51\u001b[0m \u001b[43m  \u001b[49m\u001b[43mprocess\u001b[49m\u001b[43m \u001b[49m\u001b[38;5;241;43m=\u001b[39;49m\u001b[43m \u001b[49m\u001b[43mProcess\u001b[49m\u001b[38;5;241;43m.\u001b[39;49m\u001b[43msequential\u001b[49m\n\u001b[1;32m     52\u001b[0m \u001b[43m)\u001b[49m\n\u001b[1;32m     54\u001b[0m \u001b[38;5;66;03m# Get your crew to work!\u001b[39;00m\n\u001b[1;32m     55\u001b[0m result \u001b[38;5;241m=\u001b[39m crew\u001b[38;5;241m.\u001b[39mkickoff()\n",
      "File \u001b[0;32m~/titan/lib/python3.11/site-packages/pydantic/main.py:212\u001b[0m, in \u001b[0;36mBaseModel.__init__\u001b[0;34m(self, **data)\u001b[0m\n\u001b[1;32m    210\u001b[0m \u001b[38;5;66;03m# `__tracebackhide__` tells pytest and some other tools to omit this function from tracebacks\u001b[39;00m\n\u001b[1;32m    211\u001b[0m __tracebackhide__ \u001b[38;5;241m=\u001b[39m \u001b[38;5;28;01mTrue\u001b[39;00m\n\u001b[0;32m--> 212\u001b[0m validated_self \u001b[38;5;241m=\u001b[39m \u001b[38;5;28;43mself\u001b[39;49m\u001b[38;5;241;43m.\u001b[39;49m\u001b[43m__pydantic_validator__\u001b[49m\u001b[38;5;241;43m.\u001b[39;49m\u001b[43mvalidate_python\u001b[49m\u001b[43m(\u001b[49m\u001b[43mdata\u001b[49m\u001b[43m,\u001b[49m\u001b[43m \u001b[49m\u001b[43mself_instance\u001b[49m\u001b[38;5;241;43m=\u001b[39;49m\u001b[38;5;28;43mself\u001b[39;49m\u001b[43m)\u001b[49m\n\u001b[1;32m    213\u001b[0m \u001b[38;5;28;01mif\u001b[39;00m \u001b[38;5;28mself\u001b[39m \u001b[38;5;129;01mis\u001b[39;00m \u001b[38;5;129;01mnot\u001b[39;00m validated_self:\n\u001b[1;32m    214\u001b[0m     warnings\u001b[38;5;241m.\u001b[39mwarn(\n\u001b[1;32m    215\u001b[0m         \u001b[38;5;124m'\u001b[39m\u001b[38;5;124mA custom validator is returning a value other than `self`.\u001b[39m\u001b[38;5;130;01m\\n\u001b[39;00m\u001b[38;5;124m'\u001b[39m\n\u001b[1;32m    216\u001b[0m         \u001b[38;5;124m\"\u001b[39m\u001b[38;5;124mReturning anything other than `self` from a top level model validator isn\u001b[39m\u001b[38;5;124m'\u001b[39m\u001b[38;5;124mt supported when validating via `__init__`.\u001b[39m\u001b[38;5;130;01m\\n\u001b[39;00m\u001b[38;5;124m\"\u001b[39m\n\u001b[1;32m    217\u001b[0m         \u001b[38;5;124m'\u001b[39m\u001b[38;5;124mSee the `model_validator` docs (https://docs.pydantic.dev/latest/concepts/validators/#model-validators) for more details.\u001b[39m\u001b[38;5;124m'\u001b[39m,\n\u001b[1;32m    218\u001b[0m         category\u001b[38;5;241m=\u001b[39m\u001b[38;5;28;01mNone\u001b[39;00m,\n\u001b[1;32m    219\u001b[0m     )\n",
      "\u001b[0;31mValidationError\u001b[0m: 1 validation error for Crew\nverbose\n  Input should be a valid boolean, unable to interpret input [type=bool_parsing, input_value=2, input_type=int]\n    For further information visit https://errors.pydantic.dev/2.9/v/bool_parsing"
     ]
    }
   ],
   "source": [
    "from dotenv import load_dotenv\n",
    "load_dotenv()\n",
    "\n",
    "import os\n",
    "from crewai import Agent, Task, Crew, Process\n",
    "from crewai_tools import SerperDevTool\n",
    "\n",
    "# You can choose to use a local model through Ollama for example. See https://docs.crewai.com/how-to/LLM-Connections/ for more information.\n",
    "\n",
    "# os.environ[\"OPENAI_API_BASE\"] = 'http://localhost:11434/v1'\n",
    "# os.environ[\"OPENAI_MODEL_NAME\"] ='openhermes'  # Adjust based on available model\n",
    "# os.environ[\"OPENAI_API_KEY\"] ='sk-111111111111111111111111111111111111111111111111'\n",
    "\n",
    "# You can pass an optional llm attribute specifying what model you wanna use.\n",
    "# It can be a local model through Ollama / LM Studio or a remote\n",
    "# model like OpenAI, Mistral, Antrophic or others (https://docs.crewai.com/how-to/LLM-Connections/)\n",
    "# If you don't specify a model, the default is OpenAI gpt-4o\n",
    "#\n",
    "# import os\n",
    "# os.environ['OPENAI_MODEL_NAME'] = 'gpt-3.5-turbo'\n",
    "#\n",
    "# OR\n",
    "#\n",
    "# from langchain_openai import ChatOpenAI\n",
    "\n",
    "search_tool = SerperDevTool()\n",
    "\n",
    "# Define your agents with roles and goals\n",
    "researcher = Agent(\n",
    "  role='Senior Research Analyst',\n",
    "  goal='Uncover cutting-edge developments in AI and data science',\n",
    "  backstory=\"\"\"You work at a leading tech think tank.\n",
    "  Your expertise lies in identifying emerging trends.\n",
    "  You have a knack for dissecting complex data and presenting actionable insights.\"\"\",\n",
    "  verbose=True,\n",
    "  allow_delegation=False,\n",
    "  # You can pass an optional llm attribute specifying what model you wanna use.\n",
    "  # llm=ChatOpenAI(model_name=\"gpt-3.5\", temperature=0.7),\n",
    "  tools=[search_tool]\n",
    ")\n",
    "writer = Agent(\n",
    "  role='Tech Content Strategist',\n",
    "  goal='Craft compelling content on tech advancements',\n",
    "  backstory=\"\"\"You are a renowned Content Strategist, known for your insightful and engaging articles.\n",
    "  You transform complex concepts into compelling narratives.\"\"\",\n",
    "  verbose=True,\n",
    "  allow_delegation=True\n",
    ")\n",
    "\n",
    "# Create tasks for your agents\n",
    "task1 = Task(\n",
    "  description=\"\"\"Conduct a comprehensive analysis of the latest advancements in AI in 2024.\n",
    "  Identify key trends, breakthrough technologies, and potential industry impacts.\"\"\",\n",
    "  expected_output=\"Full analysis report in bullet points\",\n",
    "  agent=researcher\n",
    ")\n",
    "\n",
    "task2 = Task(\n",
    "  description=\"\"\"Using the insights provided, develop an engaging blog\n",
    "  post that highlights the most significant AI advancements.\n",
    "  Your post should be informative yet accessible, catering to a tech-savvy audience.\n",
    "  Make it sound cool, avoid complex words so it doesn't sound like AI.\"\"\",\n",
    "  expected_output=\"Full blog post of at least 4 paragraphs\",\n",
    "  agent=writer\n",
    ")\n",
    "\n",
    "# Instantiate your crew with a sequential process\n",
    "crew = Crew(\n",
    "  agents=[researcher, writer],\n",
    "  tasks=[task1, task2],\n",
    "  verbose=True,\n",
    "  process = Process.sequential\n",
    ")\n",
    "\n",
    "# Get your crew to work!\n",
    "result = crew.kickoff()\n",
    "\n",
    "print(\"######################\")\n",
    "print(result)\n",
    "\n"
   ]
  }
 ],
 "metadata": {
  "kernelspec": {
   "display_name": "titan",
   "language": "python",
   "name": "python3"
  },
  "language_info": {
   "codemirror_mode": {
    "name": "ipython",
    "version": 3
   },
   "file_extension": ".py",
   "mimetype": "text/x-python",
   "name": "python",
   "nbconvert_exporter": "python",
   "pygments_lexer": "ipython3",
   "version": "3.11.6"
  }
 },
 "nbformat": 4,
 "nbformat_minor": 2
}
