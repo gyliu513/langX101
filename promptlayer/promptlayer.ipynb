{
 "cells": [
  {
   "cell_type": "code",
   "execution_count": 1,
   "metadata": {},
   "outputs": [
    {
     "name": "stdout",
     "output_type": "stream",
     "text": [
      "Collecting promptlayer\n",
      "  Obtaining dependency information for promptlayer from https://files.pythonhosted.org/packages/c8/66/376dea51fac81b2ba7a04d102efd32527da0cd63acf42e4fa518f7f6c7bd/promptlayer-0.3.3-py3-none-any.whl.metadata\n",
      "  Downloading promptlayer-0.3.3-py3-none-any.whl.metadata (4.4 kB)\n",
      "Requirement already satisfied: requests<3.0.0,>=2.31.0 in /Users/guangyaliu/ycliu/lib/python3.10/site-packages (from promptlayer) (2.31.0)\n",
      "Requirement already satisfied: charset-normalizer<4,>=2 in /Users/guangyaliu/ycliu/lib/python3.10/site-packages (from requests<3.0.0,>=2.31.0->promptlayer) (3.3.0)\n",
      "Requirement already satisfied: idna<4,>=2.5 in /Users/guangyaliu/ycliu/lib/python3.10/site-packages (from requests<3.0.0,>=2.31.0->promptlayer) (3.4)\n",
      "Requirement already satisfied: urllib3<3,>=1.21.1 in /Users/guangyaliu/ycliu/lib/python3.10/site-packages (from requests<3.0.0,>=2.31.0->promptlayer) (1.26.17)\n",
      "Requirement already satisfied: certifi>=2017.4.17 in /Users/guangyaliu/ycliu/lib/python3.10/site-packages (from requests<3.0.0,>=2.31.0->promptlayer) (2023.7.22)\n",
      "Downloading promptlayer-0.3.3-py3-none-any.whl (15 kB)\n",
      "Installing collected packages: promptlayer\n",
      "Successfully installed promptlayer-0.3.3\n",
      "\n",
      "\u001b[1m[\u001b[0m\u001b[34;49mnotice\u001b[0m\u001b[1;39;49m]\u001b[0m\u001b[39;49m A new release of pip is available: \u001b[0m\u001b[31;49m23.2.1\u001b[0m\u001b[39;49m -> \u001b[0m\u001b[32;49m23.3\u001b[0m\n",
      "\u001b[1m[\u001b[0m\u001b[34;49mnotice\u001b[0m\u001b[1;39;49m]\u001b[0m\u001b[39;49m To update, run: \u001b[0m\u001b[32;49mpip install --upgrade pip\u001b[0m\n"
     ]
    }
   ],
   "source": [
    "!pip install promptlayer"
   ]
  },
  {
   "cell_type": "code",
   "execution_count": 2,
   "metadata": {},
   "outputs": [
    {
     "data": {
      "text/plain": [
       "True"
      ]
     },
     "execution_count": 2,
     "metadata": {},
     "output_type": "execute_result"
    }
   ],
   "source": [
    "from dotenv import load_dotenv\n",
    "import os\n",
    "load_dotenv()"
   ]
  },
  {
   "cell_type": "code",
   "execution_count": 3,
   "metadata": {},
   "outputs": [
    {
     "data": {
      "text/plain": [
       "<OpenAIObject text_completion id=cmpl-8AfrMfXNe9ULqo9Ttjy0KkFLUtCFV at 0x105664720> JSON: {\n",
       "  \"warning\": \"This model version is deprecated. Migrate before January 4, 2024 to avoid disruption of service. Learn more https://platform.openai.com/docs/deprecations\",\n",
       "  \"id\": \"cmpl-8AfrMfXNe9ULqo9Ttjy0KkFLUtCFV\",\n",
       "  \"object\": \"text_completion\",\n",
       "  \"created\": 1697554880,\n",
       "  \"model\": \"text-ada-001\",\n",
       "  \"choices\": [\n",
       "    {\n",
       "      \"text\": \"\\n\\nI am a student at Northwestern University.\",\n",
       "      \"index\": 0,\n",
       "      \"logprobs\": null,\n",
       "      \"finish_reason\": \"stop\"\n",
       "    }\n",
       "  ],\n",
       "  \"usage\": {\n",
       "    \"prompt_tokens\": 3,\n",
       "    \"completion_tokens\": 10,\n",
       "    \"total_tokens\": 13\n",
       "  }\n",
       "}"
      ]
     },
     "execution_count": 3,
     "metadata": {},
     "output_type": "execute_result"
    }
   ],
   "source": [
    "import promptlayer\n",
    "import os\n",
    "promptlayer.api_key = os.environ.get(\"PROMPTLAYER_API_KEY\")\n",
    "\n",
    "# Swap out your 'import openai'\n",
    "openai = promptlayer.openai\n",
    "openai.api_key = os.environ.get(\"OPENAI_API_KEY\")\n",
    "\n",
    "# Do something fun 🚀\n",
    "openai.Completion.create(\n",
    "  engine=\"text-ada-001\", \n",
    "  prompt=\"My name is\", \n",
    "  pl_tags=[\"name-guessing\", \"pipeline-2\"]\n",
    ")"
   ]
  }
 ],
 "metadata": {
  "kernelspec": {
   "display_name": "ycliu",
   "language": "python",
   "name": "python3"
  },
  "language_info": {
   "codemirror_mode": {
    "name": "ipython",
    "version": 3
   },
   "file_extension": ".py",
   "mimetype": "text/x-python",
   "name": "python",
   "nbconvert_exporter": "python",
   "pygments_lexer": "ipython3",
   "version": "3.10.0"
  }
 },
 "nbformat": 4,
 "nbformat_minor": 2
}
