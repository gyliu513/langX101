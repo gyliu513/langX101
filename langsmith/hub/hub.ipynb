{
 "cells": [
  {
   "cell_type": "code",
   "execution_count": 1,
   "metadata": {},
   "outputs": [
    {
     "name": "stdout",
     "output_type": "stream",
     "text": [
      "Requirement already satisfied: langchain in /Users/gyliu/py311/lib/python3.11/site-packages (0.1.1)\n",
      "Collecting langchain\n",
      "  Obtaining dependency information for langchain from https://files.pythonhosted.org/packages/87/8b/d859c3125fc27e678f7da3625894d3d84e6599ef85f1559c1fc5b9c913ad/langchain-0.1.8-py3-none-any.whl.metadata\n",
      "  Downloading langchain-0.1.8-py3-none-any.whl.metadata (13 kB)\n",
      "Collecting langchainhub\n",
      "  Obtaining dependency information for langchainhub from https://files.pythonhosted.org/packages/9c/99/4306b825b9462c824fd6d8dcb959309fb5e654c0d7b6473c5379388a82e9/langchainhub-0.1.14-py3-none-any.whl.metadata\n",
      "  Downloading langchainhub-0.1.14-py3-none-any.whl.metadata (478 bytes)\n",
      "Requirement already satisfied: PyYAML>=5.3 in /Users/gyliu/py311/lib/python3.11/site-packages (from langchain) (6.0.1)\n",
      "Requirement already satisfied: SQLAlchemy<3,>=1.4 in /Users/gyliu/py311/lib/python3.11/site-packages (from langchain) (2.0.25)\n",
      "Requirement already satisfied: aiohttp<4.0.0,>=3.8.3 in /Users/gyliu/py311/lib/python3.11/site-packages (from langchain) (3.9.1)\n",
      "Requirement already satisfied: dataclasses-json<0.7,>=0.5.7 in /Users/gyliu/py311/lib/python3.11/site-packages (from langchain) (0.6.3)\n",
      "Requirement already satisfied: jsonpatch<2.0,>=1.33 in /Users/gyliu/py311/lib/python3.11/site-packages (from langchain) (1.33)\n",
      "Collecting langchain-community<0.1,>=0.0.21 (from langchain)\n",
      "  Obtaining dependency information for langchain-community<0.1,>=0.0.21 from https://files.pythonhosted.org/packages/2f/39/e4998914febe29c91953ab8c50fe793ca6e2780f4744e92a83ad261bf637/langchain_community-0.0.21-py3-none-any.whl.metadata\n",
      "  Downloading langchain_community-0.0.21-py3-none-any.whl.metadata (8.1 kB)\n",
      "Collecting langchain-core<0.2,>=0.1.24 (from langchain)\n",
      "  Obtaining dependency information for langchain-core<0.2,>=0.1.24 from https://files.pythonhosted.org/packages/a4/cc/ff9b7afd637d44a3e33d14d37b6fabd80638702aa0c0afe6f47d3b28cbfd/langchain_core-0.1.24-py3-none-any.whl.metadata\n",
      "  Downloading langchain_core-0.1.24-py3-none-any.whl.metadata (6.0 kB)\n",
      "Requirement already satisfied: langsmith<0.2.0,>=0.1.0 in /Users/gyliu/py311/lib/python3.11/site-packages (from langchain) (0.1.2)\n",
      "Requirement already satisfied: numpy<2,>=1 in /Users/gyliu/py311/lib/python3.11/site-packages (from langchain) (1.24.4)\n",
      "Requirement already satisfied: pydantic<3,>=1 in /Users/gyliu/py311/lib/python3.11/site-packages (from langchain) (2.5.3)\n",
      "Requirement already satisfied: requests<3,>=2 in /Users/gyliu/py311/lib/python3.11/site-packages (from langchain) (2.31.0)\n",
      "Requirement already satisfied: tenacity<9.0.0,>=8.1.0 in /Users/gyliu/py311/lib/python3.11/site-packages (from langchain) (8.2.3)\n",
      "Collecting types-requests<3.0.0.0,>=2.31.0.2 (from langchainhub)\n",
      "  Obtaining dependency information for types-requests<3.0.0.0,>=2.31.0.2 from https://files.pythonhosted.org/packages/ce/ca/82c7f75616c524856488cece6b37e459de626cad49b2a24a0b571c20be06/types_requests-2.31.0.20240218-py3-none-any.whl.metadata\n",
      "  Downloading types_requests-2.31.0.20240218-py3-none-any.whl.metadata (1.8 kB)\n",
      "Requirement already satisfied: attrs>=17.3.0 in /Users/gyliu/py311/lib/python3.11/site-packages (from aiohttp<4.0.0,>=3.8.3->langchain) (23.2.0)\n",
      "Requirement already satisfied: multidict<7.0,>=4.5 in /Users/gyliu/py311/lib/python3.11/site-packages (from aiohttp<4.0.0,>=3.8.3->langchain) (6.0.4)\n",
      "Requirement already satisfied: yarl<2.0,>=1.0 in /Users/gyliu/py311/lib/python3.11/site-packages (from aiohttp<4.0.0,>=3.8.3->langchain) (1.9.4)\n",
      "Requirement already satisfied: frozenlist>=1.1.1 in /Users/gyliu/py311/lib/python3.11/site-packages (from aiohttp<4.0.0,>=3.8.3->langchain) (1.4.1)\n",
      "Requirement already satisfied: aiosignal>=1.1.2 in /Users/gyliu/py311/lib/python3.11/site-packages (from aiohttp<4.0.0,>=3.8.3->langchain) (1.3.1)\n",
      "Requirement already satisfied: marshmallow<4.0.0,>=3.18.0 in /Users/gyliu/py311/lib/python3.11/site-packages (from dataclasses-json<0.7,>=0.5.7->langchain) (3.20.2)\n",
      "Requirement already satisfied: typing-inspect<1,>=0.4.0 in /Users/gyliu/py311/lib/python3.11/site-packages (from dataclasses-json<0.7,>=0.5.7->langchain) (0.9.0)\n",
      "Requirement already satisfied: jsonpointer>=1.9 in /Users/gyliu/py311/lib/python3.11/site-packages (from jsonpatch<2.0,>=1.33->langchain) (2.4)\n",
      "Requirement already satisfied: anyio<5,>=3 in /Users/gyliu/py311/lib/python3.11/site-packages (from langchain-core<0.2,>=0.1.24->langchain) (4.2.0)\n",
      "Requirement already satisfied: packaging<24.0,>=23.2 in /Users/gyliu/py311/lib/python3.11/site-packages (from langchain-core<0.2,>=0.1.24->langchain) (23.2)\n",
      "Requirement already satisfied: annotated-types>=0.4.0 in /Users/gyliu/py311/lib/python3.11/site-packages (from pydantic<3,>=1->langchain) (0.6.0)\n",
      "Requirement already satisfied: pydantic-core==2.14.6 in /Users/gyliu/py311/lib/python3.11/site-packages (from pydantic<3,>=1->langchain) (2.14.6)\n",
      "Requirement already satisfied: typing-extensions>=4.6.1 in /Users/gyliu/py311/lib/python3.11/site-packages (from pydantic<3,>=1->langchain) (4.9.0)\n",
      "Requirement already satisfied: charset-normalizer<4,>=2 in /Users/gyliu/py311/lib/python3.11/site-packages (from requests<3,>=2->langchain) (3.3.2)\n",
      "Requirement already satisfied: idna<4,>=2.5 in /Users/gyliu/py311/lib/python3.11/site-packages (from requests<3,>=2->langchain) (3.6)\n",
      "Requirement already satisfied: urllib3<3,>=1.21.1 in /Users/gyliu/py311/lib/python3.11/site-packages (from requests<3,>=2->langchain) (1.26.18)\n",
      "Requirement already satisfied: certifi>=2017.4.17 in /Users/gyliu/py311/lib/python3.11/site-packages (from requests<3,>=2->langchain) (2023.11.17)\n",
      "Collecting urllib3<3,>=1.21.1 (from requests<3,>=2->langchain)\n",
      "  Obtaining dependency information for urllib3<3,>=1.21.1 from https://files.pythonhosted.org/packages/a2/73/a68704750a7679d0b6d3ad7aa8d4da8e14e151ae82e6fee774e6e0d05ec8/urllib3-2.2.1-py3-none-any.whl.metadata\n",
      "  Downloading urllib3-2.2.1-py3-none-any.whl.metadata (6.4 kB)\n",
      "Requirement already satisfied: sniffio>=1.1 in /Users/gyliu/py311/lib/python3.11/site-packages (from anyio<5,>=3->langchain-core<0.2,>=0.1.24->langchain) (1.3.0)\n",
      "Requirement already satisfied: mypy-extensions>=0.3.0 in /Users/gyliu/py311/lib/python3.11/site-packages (from typing-inspect<1,>=0.4.0->dataclasses-json<0.7,>=0.5.7->langchain) (1.0.0)\n",
      "Downloading langchain-0.1.8-py3-none-any.whl (816 kB)\n",
      "\u001b[2K   \u001b[90m━━━━━━━━━━━━━━━━━━━━━━━━━━━━━━━━━━━━━━━━\u001b[0m \u001b[32m816.1/816.1 kB\u001b[0m \u001b[31m2.8 MB/s\u001b[0m eta \u001b[36m0:00:00\u001b[0ma \u001b[36m0:00:01\u001b[0mm\n",
      "\u001b[?25hDownloading langchainhub-0.1.14-py3-none-any.whl (3.4 kB)\n",
      "Downloading langchain_community-0.0.21-py3-none-any.whl (1.7 MB)\n",
      "\u001b[2K   \u001b[90m━━━━━━━━━━━━━━━━━━━━━━━━━━━━━━━━━━━━━━━━\u001b[0m \u001b[32m1.7/1.7 MB\u001b[0m \u001b[31m12.7 MB/s\u001b[0m eta \u001b[36m0:00:00\u001b[0ma \u001b[36m0:00:01\u001b[0m\n",
      "\u001b[?25hDownloading langchain_core-0.1.24-py3-none-any.whl (241 kB)\n",
      "\u001b[2K   \u001b[90m━━━━━━━━━━━━━━━━━━━━━━━━━━━━━━━━━━━━━━━━\u001b[0m \u001b[32m241.3/241.3 kB\u001b[0m \u001b[31m9.7 MB/s\u001b[0m eta \u001b[36m0:00:00\u001b[0m\n",
      "\u001b[?25hDownloading types_requests-2.31.0.20240218-py3-none-any.whl (14 kB)\n",
      "Downloading urllib3-2.2.1-py3-none-any.whl (121 kB)\n",
      "\u001b[2K   \u001b[90m━━━━━━━━━━━━━━━━━━━━━━━━━━━━━━━━━━━━━━━━\u001b[0m \u001b[32m121.1/121.1 kB\u001b[0m \u001b[31m15.3 MB/s\u001b[0m eta \u001b[36m0:00:00\u001b[0m\n",
      "\u001b[?25hInstalling collected packages: urllib3, types-requests, langchainhub, langchain-core, langchain-community, langchain\n",
      "  Attempting uninstall: urllib3\n",
      "    Found existing installation: urllib3 1.26.18\n",
      "    Uninstalling urllib3-1.26.18:\n",
      "      Successfully uninstalled urllib3-1.26.18\n",
      "  Attempting uninstall: langchain-core\n",
      "    Found existing installation: langchain-core 0.1.17\n",
      "    Uninstalling langchain-core-0.1.17:\n",
      "      Successfully uninstalled langchain-core-0.1.17\n",
      "  Attempting uninstall: langchain-community\n",
      "    Found existing installation: langchain-community 0.0.13\n",
      "    Uninstalling langchain-community-0.0.13:\n",
      "      Successfully uninstalled langchain-community-0.0.13\n",
      "  Attempting uninstall: langchain\n",
      "    Found existing installation: langchain 0.1.1\n",
      "    Uninstalling langchain-0.1.1:\n",
      "      Successfully uninstalled langchain-0.1.1\n",
      "\u001b[31mERROR: pip's dependency resolver does not currently take into account all the packages that are installed. This behaviour is the source of the following dependency conflicts.\n",
      "newrelic-telemetry-sdk 0.4.3 requires urllib3<2,>=1.7, but you have urllib3 2.2.1 which is incompatible.\n",
      "llama-index 0.8.62 requires dataclasses-json<0.6.0,>=0.5.7, but you have dataclasses-json 0.6.3 which is incompatible.\n",
      "llama-index 0.8.62 requires openai<1, but you have openai 1.10.0 which is incompatible.\n",
      "llama-index 0.8.62 requires urllib3<2, but you have urllib3 2.2.1 which is incompatible.\n",
      "botocore 1.34.22 requires urllib3<2.1,>=1.25.4; python_version >= \"3.10\", but you have urllib3 2.2.1 which is incompatible.\n",
      "nr-openai-observability 0.3.1 requires openai<0.30,>=0.8, but you have openai 1.10.0 which is incompatible.\n",
      "torchvision 0.16.1 requires torch==2.1.1, but you have torch 2.1.2 which is incompatible.\n",
      "langfuse 2.5.0 requires httpx<0.26.0,>=0.15.4, but you have httpx 0.26.0 which is incompatible.\n",
      "langfuse 2.5.0 requires wrapt==1.14, but you have wrapt 1.16.0 which is incompatible.\n",
      "ibm-generative-ai 0.6.0 requires urllib3<2, but you have urllib3 2.2.1 which is incompatible.\n",
      "ibm-cos-sdk-core 2.13.2 requires urllib3<1.27,>=1.26.16, but you have urllib3 2.2.1 which is incompatible.\n",
      "langchain-cli 0.0.18 requires uvicorn<0.24.0,>=0.23.2, but you have uvicorn 0.26.0 which is incompatible.\n",
      "gcsfs 2023.12.2.post1 requires fsspec==2023.12.2, but you have fsspec 2023.10.0 which is incompatible.\u001b[0m\u001b[31m\n",
      "\u001b[0mSuccessfully installed langchain-0.1.8 langchain-community-0.0.21 langchain-core-0.1.24 langchainhub-0.1.14 types-requests-2.31.0.20240218 urllib3-2.2.1\n",
      "\n",
      "\u001b[1m[\u001b[0m\u001b[34;49mnotice\u001b[0m\u001b[1;39;49m]\u001b[0m\u001b[39;49m A new release of pip is available: \u001b[0m\u001b[31;49m23.2.1\u001b[0m\u001b[39;49m -> \u001b[0m\u001b[32;49m24.0\u001b[0m\n",
      "\u001b[1m[\u001b[0m\u001b[34;49mnotice\u001b[0m\u001b[1;39;49m]\u001b[0m\u001b[39;49m To update, run: \u001b[0m\u001b[32;49mpip install --upgrade pip\u001b[0m\n"
     ]
    }
   ],
   "source": [
    "!pip install -U langchain langchainhub"
   ]
  },
  {
   "cell_type": "code",
   "execution_count": 3,
   "metadata": {},
   "outputs": [
    {
     "data": {
      "text/plain": [
       "AIMessage(content='OpenAI does not have a traditional CEO or leader in the same way that many other organizations do. Instead, it operates with a team of researchers, engineers, and leaders who work collaboratively to advance AI research and development. If you have any other questions about OpenAI or AI in general, feel free to ask!')"
      ]
     },
     "execution_count": 3,
     "metadata": {},
     "output_type": "execute_result"
    }
   ],
   "source": [
    "from dotenv import load_dotenv\n",
    "load_dotenv()\n",
    "\n",
    "from langchain import hub\n",
    "\n",
    "# pull a chat prompt\n",
    "prompt = hub.pull(\"gyliu513/hello-world\")\n",
    "\n",
    "# create a model to use it with\n",
    "from langchain.chat_models import ChatOpenAI\n",
    "model = ChatOpenAI()\n",
    "\n",
    "# use it in a runnable\n",
    "runnable = prompt | model\n",
    "runnable.invoke({\n",
    "\t\"profession\": \"OpenAI\",\n",
    "\t\"question\": \"Who is the leader for OpenAI?\",\n",
    "})"
   ]
  }
 ],
 "metadata": {
  "kernelspec": {
   "display_name": "py311",
   "language": "python",
   "name": "python3"
  },
  "language_info": {
   "codemirror_mode": {
    "name": "ipython",
    "version": 3
   },
   "file_extension": ".py",
   "mimetype": "text/x-python",
   "name": "python",
   "nbconvert_exporter": "python",
   "pygments_lexer": "ipython3",
   "version": "3.11.6"
  }
 },
 "nbformat": 4,
 "nbformat_minor": 2
}
