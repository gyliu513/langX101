{
 "cells": [
  {
   "cell_type": "code",
   "execution_count": 1,
   "metadata": {},
   "outputs": [
    {
     "name": "stdout",
     "output_type": "stream",
     "text": [
      "pk-lf-631b983e-b9d9-4eb9-873e-5e7a3cbfd772 sk-lf-7b566567-3011-4092-8fee-18cd47d4c65a http://localhost:3000\n"
     ]
    }
   ],
   "source": [
    "\n",
    "from langfuse.callback import CallbackHandler\n",
    "from dotenv import load_dotenv\n",
    "import os\n",
    "load_dotenv()\n",
    "\n",
    "public_key = os.getenv(\"ENV_PUBLIC_KEY\", None)\n",
    "secret_key = os.getenv(\"ENV_SECRET_KEY\", None)\n",
    "env_host = os.getenv(\"ENV_HOST\", None)\n",
    "print(public_key, secret_key, env_host)"
   ]
  },
  {
   "cell_type": "code",
   "execution_count": 2,
   "metadata": {},
   "outputs": [],
   "source": [
    "from langfuse import Langfuse\n",
    " \n",
    "langfuse = Langfuse(public_key, secret_key, env_host, debug=True)"
   ]
  },
  {
   "cell_type": "code",
   "execution_count": 3,
   "metadata": {},
   "outputs": [
    {
     "data": {
      "text/plain": [
       "Dataset(id='clnkmz9wg000ao709n7edh6n3', name='gyliu-ds', status=<DatasetStatus.ACTIVE: 'ACTIVE'>, project_id='clnkiwnyi0002o709jg28gtcv', created_at=datetime.datetime(2023, 10, 10, 18, 9, 20, 609000, tzinfo=datetime.timezone.utc), updated_at=datetime.datetime(2023, 10, 10, 18, 9, 20, 609000, tzinfo=datetime.timezone.utc), items=[], runs=[])"
      ]
     },
     "execution_count": 3,
     "metadata": {},
     "output_type": "execute_result"
    }
   ],
   "source": [
    "from langfuse.model import CreateDatasetRequest\n",
    " \n",
    "langfuse.create_dataset(CreateDatasetRequest(name=\"gyliu-ds\"))"
   ]
  },
  {
   "cell_type": "code",
   "execution_count": 4,
   "metadata": {},
   "outputs": [
    {
     "name": "stderr",
     "output_type": "stream",
     "text": [
      "ERROR:langfuse:1 validation error for ParsingModel[str]\n",
      "__root__\n",
      "  str type expected (type=type_error.str)\n",
      "Traceback (most recent call last):\n",
      "  File \"/Users/guangyaliu/ycliu/lib/python3.10/site-packages/langfuse/client.py\", line 143, in create_dataset_item\n",
      "    return self.client.dataset_items.create(request=body)\n",
      "  File \"/Users/guangyaliu/ycliu/lib/python3.10/site-packages/langfuse/api/resources/dataset_items/client.py\", line 68, in create\n",
      "    raise NotFoundError(pydantic.parse_obj_as(str, _response.json()))  # type: ignore\n",
      "  File \"pydantic/tools.py\", line 38, in pydantic.tools.parse_obj_as\n",
      "  File \"pydantic/main.py\", line 341, in pydantic.main.BaseModel.__init__\n",
      "pydantic.error_wrappers.ValidationError: 1 validation error for ParsingModel[str]\n",
      "__root__\n",
      "  str type expected (type=type_error.str)\n"
     ]
    },
    {
     "ename": "ValidationError",
     "evalue": "1 validation error for ParsingModel[str]\n__root__\n  str type expected (type=type_error.str)",
     "output_type": "error",
     "traceback": [
      "\u001b[0;31m---------------------------------------------------------------------------\u001b[0m",
      "\u001b[0;31mValidationError\u001b[0m                           Traceback (most recent call last)",
      "\u001b[1;32m/Users/guangyaliu/go/src/github.com/gyliu513/langX101/langfuse/langfuse-dataset.ipynb Cell 4\u001b[0m line \u001b[0;36m3\n\u001b[1;32m      <a href='vscode-notebook-cell:/Users/guangyaliu/go/src/github.com/gyliu513/langX101/langfuse/langfuse-dataset.ipynb#W3sZmlsZQ%3D%3D?line=0'>1</a>\u001b[0m \u001b[39mfrom\u001b[39;00m \u001b[39mlangfuse\u001b[39;00m\u001b[39m.\u001b[39;00m\u001b[39mmodel\u001b[39;00m \u001b[39mimport\u001b[39;00m CreateDatasetItemRequest\n\u001b[0;32m----> <a href='vscode-notebook-cell:/Users/guangyaliu/go/src/github.com/gyliu513/langX101/langfuse/langfuse-dataset.ipynb#W3sZmlsZQ%3D%3D?line=2'>3</a>\u001b[0m langfuse\u001b[39m.\u001b[39;49mcreate_dataset_item(\n\u001b[1;32m      <a href='vscode-notebook-cell:/Users/guangyaliu/go/src/github.com/gyliu513/langX101/langfuse/langfuse-dataset.ipynb#W3sZmlsZQ%3D%3D?line=3'>4</a>\u001b[0m     CreateDatasetItemRequest(\n\u001b[1;32m      <a href='vscode-notebook-cell:/Users/guangyaliu/go/src/github.com/gyliu513/langX101/langfuse/langfuse-dataset.ipynb#W3sZmlsZQ%3D%3D?line=4'>5</a>\u001b[0m         dataset_name\u001b[39m=\u001b[39;49m\u001b[39m\"\u001b[39;49m\u001b[39m<dataset_name>\u001b[39;49m\u001b[39m\"\u001b[39;49m,\n\u001b[1;32m      <a href='vscode-notebook-cell:/Users/guangyaliu/go/src/github.com/gyliu513/langX101/langfuse/langfuse-dataset.ipynb#W3sZmlsZQ%3D%3D?line=5'>6</a>\u001b[0m         \u001b[39m# any python object or value\u001b[39;49;00m\n\u001b[1;32m      <a href='vscode-notebook-cell:/Users/guangyaliu/go/src/github.com/gyliu513/langX101/langfuse/langfuse-dataset.ipynb#W3sZmlsZQ%3D%3D?line=6'>7</a>\u001b[0m         \u001b[39minput\u001b[39;49m\u001b[39m=\u001b[39;49m{\n\u001b[1;32m      <a href='vscode-notebook-cell:/Users/guangyaliu/go/src/github.com/gyliu513/langX101/langfuse/langfuse-dataset.ipynb#W3sZmlsZQ%3D%3D?line=7'>8</a>\u001b[0m             \u001b[39m\"\u001b[39;49m\u001b[39mtext\u001b[39;49m\u001b[39m\"\u001b[39;49m: \u001b[39m\"\u001b[39;49m\u001b[39mhello world\u001b[39;49m\u001b[39m\"\u001b[39;49m\n\u001b[1;32m      <a href='vscode-notebook-cell:/Users/guangyaliu/go/src/github.com/gyliu513/langX101/langfuse/langfuse-dataset.ipynb#W3sZmlsZQ%3D%3D?line=8'>9</a>\u001b[0m         },\n\u001b[1;32m     <a href='vscode-notebook-cell:/Users/guangyaliu/go/src/github.com/gyliu513/langX101/langfuse/langfuse-dataset.ipynb#W3sZmlsZQ%3D%3D?line=9'>10</a>\u001b[0m         \u001b[39m# any python object or value, optional\u001b[39;49;00m\n\u001b[1;32m     <a href='vscode-notebook-cell:/Users/guangyaliu/go/src/github.com/gyliu513/langX101/langfuse/langfuse-dataset.ipynb#W3sZmlsZQ%3D%3D?line=10'>11</a>\u001b[0m         expected_output\u001b[39m=\u001b[39;49m{\n\u001b[1;32m     <a href='vscode-notebook-cell:/Users/guangyaliu/go/src/github.com/gyliu513/langX101/langfuse/langfuse-dataset.ipynb#W3sZmlsZQ%3D%3D?line=11'>12</a>\u001b[0m             \u001b[39m\"\u001b[39;49m\u001b[39mtext\u001b[39;49m\u001b[39m\"\u001b[39;49m: \u001b[39m\"\u001b[39;49m\u001b[39mhello world\u001b[39;49m\u001b[39m\"\u001b[39;49m\n\u001b[1;32m     <a href='vscode-notebook-cell:/Users/guangyaliu/go/src/github.com/gyliu513/langX101/langfuse/langfuse-dataset.ipynb#W3sZmlsZQ%3D%3D?line=12'>13</a>\u001b[0m         }\n\u001b[1;32m     <a href='vscode-notebook-cell:/Users/guangyaliu/go/src/github.com/gyliu513/langX101/langfuse/langfuse-dataset.ipynb#W3sZmlsZQ%3D%3D?line=13'>14</a>\u001b[0m     )\n\u001b[1;32m     <a href='vscode-notebook-cell:/Users/guangyaliu/go/src/github.com/gyliu513/langX101/langfuse/langfuse-dataset.ipynb#W3sZmlsZQ%3D%3D?line=14'>15</a>\u001b[0m )\n",
      "File \u001b[0;32m~/ycliu/lib/python3.10/site-packages/langfuse/client.py:146\u001b[0m, in \u001b[0;36mLangfuse.create_dataset_item\u001b[0;34m(self, body)\u001b[0m\n\u001b[1;32m    144\u001b[0m \u001b[39mexcept\u001b[39;00m \u001b[39mException\u001b[39;00m \u001b[39mas\u001b[39;00m e:\n\u001b[1;32m    145\u001b[0m     \u001b[39mself\u001b[39m\u001b[39m.\u001b[39mlog\u001b[39m.\u001b[39mexception(e)\n\u001b[0;32m--> 146\u001b[0m     \u001b[39mraise\u001b[39;00m e\n",
      "File \u001b[0;32m~/ycliu/lib/python3.10/site-packages/langfuse/client.py:143\u001b[0m, in \u001b[0;36mLangfuse.create_dataset_item\u001b[0;34m(self, body)\u001b[0m\n\u001b[1;32m    141\u001b[0m \u001b[39mtry\u001b[39;00m:\n\u001b[1;32m    142\u001b[0m     \u001b[39mself\u001b[39m\u001b[39m.\u001b[39mlog\u001b[39m.\u001b[39mdebug(\u001b[39mf\u001b[39m\u001b[39m\"\u001b[39m\u001b[39mCreating dataset item \u001b[39m\u001b[39m{\u001b[39;00mbody\u001b[39m}\u001b[39;00m\u001b[39m\"\u001b[39m)\n\u001b[0;32m--> 143\u001b[0m     \u001b[39mreturn\u001b[39;00m \u001b[39mself\u001b[39;49m\u001b[39m.\u001b[39;49mclient\u001b[39m.\u001b[39;49mdataset_items\u001b[39m.\u001b[39;49mcreate(request\u001b[39m=\u001b[39;49mbody)\n\u001b[1;32m    144\u001b[0m \u001b[39mexcept\u001b[39;00m \u001b[39mException\u001b[39;00m \u001b[39mas\u001b[39;00m e:\n\u001b[1;32m    145\u001b[0m     \u001b[39mself\u001b[39m\u001b[39m.\u001b[39mlog\u001b[39m.\u001b[39mexception(e)\n",
      "File \u001b[0;32m~/ycliu/lib/python3.10/site-packages/langfuse/api/resources/dataset_items/client.py:68\u001b[0m, in \u001b[0;36mDatasetItemsClient.create\u001b[0;34m(self, request)\u001b[0m\n\u001b[1;32m     66\u001b[0m     \u001b[39mraise\u001b[39;00m MethodNotAllowedError(pydantic\u001b[39m.\u001b[39mparse_obj_as(\u001b[39mstr\u001b[39m, _response\u001b[39m.\u001b[39mjson()))  \u001b[39m# type: ignore\u001b[39;00m\n\u001b[1;32m     67\u001b[0m \u001b[39mif\u001b[39;00m _response\u001b[39m.\u001b[39mstatus_code \u001b[39m==\u001b[39m \u001b[39m404\u001b[39m:\n\u001b[0;32m---> 68\u001b[0m     \u001b[39mraise\u001b[39;00m NotFoundError(pydantic\u001b[39m.\u001b[39;49mparse_obj_as(\u001b[39mstr\u001b[39;49m, _response\u001b[39m.\u001b[39;49mjson()))  \u001b[39m# type: ignore\u001b[39;00m\n\u001b[1;32m     69\u001b[0m \u001b[39mtry\u001b[39;00m:\n\u001b[1;32m     70\u001b[0m     _response_json \u001b[39m=\u001b[39m _response\u001b[39m.\u001b[39mjson()\n",
      "File \u001b[0;32m~/ycliu/lib/python3.10/site-packages/pydantic/tools.py:38\u001b[0m, in \u001b[0;36mpydantic.tools.parse_obj_as\u001b[0;34m()\u001b[0m\n",
      "File \u001b[0;32m~/ycliu/lib/python3.10/site-packages/pydantic/main.py:341\u001b[0m, in \u001b[0;36mpydantic.main.BaseModel.__init__\u001b[0;34m()\u001b[0m\n",
      "\u001b[0;31mValidationError\u001b[0m: 1 validation error for ParsingModel[str]\n__root__\n  str type expected (type=type_error.str)"
     ]
    }
   ],
   "source": [
    "from langfuse.model import CreateDatasetItemRequest\n",
    " \n",
    "langfuse.create_dataset_item(\n",
    "    CreateDatasetItemRequest(\n",
    "        dataset_name=\"gyliu-ds\",\n",
    "        # any python object or value\n",
    "        input={\n",
    "            \"text\": \"hello world\"\n",
    "        },\n",
    "        # any python object or value, optional\n",
    "        expected_output={\n",
    "            \"text\": \"hello world\"\n",
    "        }\n",
    "    )\n",
    ")"
   ]
  }
 ],
 "metadata": {
  "kernelspec": {
   "display_name": "ycliu",
   "language": "python",
   "name": "python3"
  },
  "language_info": {
   "codemirror_mode": {
    "name": "ipython",
    "version": 3
   },
   "file_extension": ".py",
   "mimetype": "text/x-python",
   "name": "python",
   "nbconvert_exporter": "python",
   "pygments_lexer": "ipython3",
   "version": "3.10.0"
  }
 },
 "nbformat": 4,
 "nbformat_minor": 2
}
