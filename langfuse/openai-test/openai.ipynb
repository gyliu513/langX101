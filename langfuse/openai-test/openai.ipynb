{
 "cells": [
  {
   "cell_type": "code",
   "execution_count": 2,
   "metadata": {},
   "outputs": [
    {
     "name": "stdout",
     "output_type": "stream",
     "text": [
      "Requirement already satisfied: langfuse in /Users/guangyaliu/ycliu/lib/python3.10/site-packages (1.1.2)\n",
      "Requirement already satisfied: openai in /Users/guangyaliu/ycliu/lib/python3.10/site-packages (0.28.1)\n",
      "Requirement already satisfied: attrs>=21.3.0 in /Users/guangyaliu/ycliu/lib/python3.10/site-packages (from langfuse) (23.1.0)\n",
      "Requirement already satisfied: backoff<3.0.0,>=2.2.1 in /Users/guangyaliu/ycliu/lib/python3.10/site-packages (from langfuse) (2.2.1)\n",
      "Requirement already satisfied: httpx<0.25.0,>=0.15.4 in /Users/guangyaliu/ycliu/lib/python3.10/site-packages (from langfuse) (0.24.1)\n",
      "Requirement already satisfied: langchain<0.0.321,>=0.0.309 in /Users/guangyaliu/ycliu/lib/python3.10/site-packages (from langfuse) (0.0.317)\n",
      "Requirement already satisfied: pydantic<2.0,>=1.10.7 in /Users/guangyaliu/ycliu/lib/python3.10/site-packages (from langfuse) (1.10.13)\n",
      "Requirement already satisfied: python-dateutil<3.0,>=2.8.0 in /Users/guangyaliu/ycliu/lib/python3.10/site-packages (from langfuse) (2.8.2)\n",
      "Requirement already satisfied: pytz<2024.0,>=2023.3 in /Users/guangyaliu/ycliu/lib/python3.10/site-packages (from langfuse) (2023.3.post1)\n",
      "Requirement already satisfied: requests>=2.20 in /Users/guangyaliu/ycliu/lib/python3.10/site-packages (from openai) (2.31.0)\n",
      "Requirement already satisfied: tqdm in /Users/guangyaliu/ycliu/lib/python3.10/site-packages (from openai) (4.66.1)\n",
      "Requirement already satisfied: aiohttp in /Users/guangyaliu/ycliu/lib/python3.10/site-packages (from openai) (3.8.5)\n",
      "Requirement already satisfied: certifi in /Users/guangyaliu/ycliu/lib/python3.10/site-packages (from httpx<0.25.0,>=0.15.4->langfuse) (2023.7.22)\n",
      "Requirement already satisfied: httpcore<0.18.0,>=0.15.0 in /Users/guangyaliu/ycliu/lib/python3.10/site-packages (from httpx<0.25.0,>=0.15.4->langfuse) (0.17.3)\n",
      "Requirement already satisfied: idna in /Users/guangyaliu/ycliu/lib/python3.10/site-packages (from httpx<0.25.0,>=0.15.4->langfuse) (3.4)\n",
      "Requirement already satisfied: sniffio in /Users/guangyaliu/ycliu/lib/python3.10/site-packages (from httpx<0.25.0,>=0.15.4->langfuse) (1.3.0)\n",
      "Requirement already satisfied: PyYAML>=5.3 in /Users/guangyaliu/ycliu/lib/python3.10/site-packages (from langchain<0.0.321,>=0.0.309->langfuse) (6.0.1)\n",
      "Requirement already satisfied: SQLAlchemy<3,>=1.4 in /Users/guangyaliu/ycliu/lib/python3.10/site-packages (from langchain<0.0.321,>=0.0.309->langfuse) (2.0.21)\n",
      "Requirement already satisfied: anyio<4.0 in /Users/guangyaliu/ycliu/lib/python3.10/site-packages (from langchain<0.0.321,>=0.0.309->langfuse) (3.7.1)\n",
      "Requirement already satisfied: async-timeout<5.0.0,>=4.0.0 in /Users/guangyaliu/ycliu/lib/python3.10/site-packages (from langchain<0.0.321,>=0.0.309->langfuse) (4.0.3)\n",
      "Requirement already satisfied: dataclasses-json<0.7,>=0.5.7 in /Users/guangyaliu/ycliu/lib/python3.10/site-packages (from langchain<0.0.321,>=0.0.309->langfuse) (0.6.1)\n",
      "Requirement already satisfied: jsonpatch<2.0,>=1.33 in /Users/guangyaliu/ycliu/lib/python3.10/site-packages (from langchain<0.0.321,>=0.0.309->langfuse) (1.33)\n",
      "Requirement already satisfied: langsmith<0.1.0,>=0.0.43 in /Users/guangyaliu/ycliu/lib/python3.10/site-packages (from langchain<0.0.321,>=0.0.309->langfuse) (0.0.51)\n",
      "Requirement already satisfied: numpy<2,>=1 in /Users/guangyaliu/ycliu/lib/python3.10/site-packages (from langchain<0.0.321,>=0.0.309->langfuse) (1.24.4)\n",
      "Requirement already satisfied: tenacity<9.0.0,>=8.1.0 in /Users/guangyaliu/ycliu/lib/python3.10/site-packages (from langchain<0.0.321,>=0.0.309->langfuse) (8.2.3)\n",
      "Requirement already satisfied: charset-normalizer<4.0,>=2.0 in /Users/guangyaliu/ycliu/lib/python3.10/site-packages (from aiohttp->openai) (3.3.0)\n",
      "Requirement already satisfied: multidict<7.0,>=4.5 in /Users/guangyaliu/ycliu/lib/python3.10/site-packages (from aiohttp->openai) (6.0.4)\n",
      "Requirement already satisfied: yarl<2.0,>=1.0 in /Users/guangyaliu/ycliu/lib/python3.10/site-packages (from aiohttp->openai) (1.9.2)\n",
      "Requirement already satisfied: frozenlist>=1.1.1 in /Users/guangyaliu/ycliu/lib/python3.10/site-packages (from aiohttp->openai) (1.4.0)\n",
      "Requirement already satisfied: aiosignal>=1.1.2 in /Users/guangyaliu/ycliu/lib/python3.10/site-packages (from aiohttp->openai) (1.3.1)\n",
      "Requirement already satisfied: typing-extensions>=4.2.0 in /Users/guangyaliu/ycliu/lib/python3.10/site-packages (from pydantic<2.0,>=1.10.7->langfuse) (4.8.0)\n",
      "Requirement already satisfied: six>=1.5 in /Users/guangyaliu/ycliu/lib/python3.10/site-packages (from python-dateutil<3.0,>=2.8.0->langfuse) (1.16.0)\n",
      "Requirement already satisfied: urllib3<3,>=1.21.1 in /Users/guangyaliu/ycliu/lib/python3.10/site-packages (from requests>=2.20->openai) (2.0.6)\n",
      "Requirement already satisfied: exceptiongroup in /Users/guangyaliu/ycliu/lib/python3.10/site-packages (from anyio<4.0->langchain<0.0.321,>=0.0.309->langfuse) (1.1.3)\n",
      "Requirement already satisfied: marshmallow<4.0.0,>=3.18.0 in /Users/guangyaliu/ycliu/lib/python3.10/site-packages (from dataclasses-json<0.7,>=0.5.7->langchain<0.0.321,>=0.0.309->langfuse) (3.20.1)\n",
      "Requirement already satisfied: typing-inspect<1,>=0.4.0 in /Users/guangyaliu/ycliu/lib/python3.10/site-packages (from dataclasses-json<0.7,>=0.5.7->langchain<0.0.321,>=0.0.309->langfuse) (0.9.0)\n",
      "Requirement already satisfied: h11<0.15,>=0.13 in /Users/guangyaliu/ycliu/lib/python3.10/site-packages (from httpcore<0.18.0,>=0.15.0->httpx<0.25.0,>=0.15.4->langfuse) (0.14.0)\n",
      "Requirement already satisfied: jsonpointer>=1.9 in /Users/guangyaliu/ycliu/lib/python3.10/site-packages (from jsonpatch<2.0,>=1.33->langchain<0.0.321,>=0.0.309->langfuse) (2.4)\n",
      "Requirement already satisfied: greenlet!=0.4.17 in /Users/guangyaliu/ycliu/lib/python3.10/site-packages (from SQLAlchemy<3,>=1.4->langchain<0.0.321,>=0.0.309->langfuse) (3.0.0)\n",
      "Requirement already satisfied: packaging>=17.0 in /Users/guangyaliu/ycliu/lib/python3.10/site-packages (from marshmallow<4.0.0,>=3.18.0->dataclasses-json<0.7,>=0.5.7->langchain<0.0.321,>=0.0.309->langfuse) (23.2)\n",
      "Requirement already satisfied: mypy-extensions>=0.3.0 in /Users/guangyaliu/ycliu/lib/python3.10/site-packages (from typing-inspect<1,>=0.4.0->dataclasses-json<0.7,>=0.5.7->langchain<0.0.321,>=0.0.309->langfuse) (1.0.0)\n",
      "\n",
      "\u001b[1m[\u001b[0m\u001b[34;49mnotice\u001b[0m\u001b[1;39;49m]\u001b[0m\u001b[39;49m A new release of pip is available: \u001b[0m\u001b[31;49m23.2.1\u001b[0m\u001b[39;49m -> \u001b[0m\u001b[32;49m23.3.1\u001b[0m\n",
      "\u001b[1m[\u001b[0m\u001b[34;49mnotice\u001b[0m\u001b[1;39;49m]\u001b[0m\u001b[39;49m To update, run: \u001b[0m\u001b[32;49mpip install --upgrade pip\u001b[0m\n"
     ]
    }
   ],
   "source": [
    "!pip install langfuse openai --upgrade"
   ]
  },
  {
   "cell_type": "code",
   "execution_count": 3,
   "metadata": {},
   "outputs": [
    {
     "data": {
      "text/plain": [
       "True"
      ]
     },
     "execution_count": 3,
     "metadata": {},
     "output_type": "execute_result"
    }
   ],
   "source": [
    "from dotenv import load_dotenv\n",
    "import os\n",
    "load_dotenv()"
   ]
  },
  {
   "cell_type": "code",
   "execution_count": 4,
   "metadata": {},
   "outputs": [],
   "source": [
    "from langfuse.openai import openai\n",
    "\n",
    "completion = openai.ChatCompletion.create(\n",
    "  name=\"test-chat-openai\",\n",
    "  model=\"gpt-3.5-turbo\",\n",
    "  messages=[\n",
    "      {\"role\": \"system\", \"content\": \"You are a very accurate calculator. You output only the result of the calculation.\"},\n",
    "      {\"role\": \"user\", \"content\": \"1 + 1 = \"}],\n",
    "  temperature=0,\n",
    "  metadata={\"someMetadataKey\": \"someValue\"},\n",
    ")"
   ]
  },
  {
   "cell_type": "code",
   "execution_count": 5,
   "metadata": {},
   "outputs": [
    {
     "name": "stdout",
     "output_type": "stream",
     "text": [
      "zsh:1: no matches found: pydantic==1.*\n"
     ]
    }
   ],
   "source": [
    "!pip install pydantic==1.* --upgrade"
   ]
  },
  {
   "cell_type": "code",
   "execution_count": 6,
   "metadata": {},
   "outputs": [],
   "source": [
    "from typing import List\n",
    "from pydantic import BaseModel\n",
    " \n",
    "class StepByStepAIResponse(BaseModel):\n",
    "    title: str\n",
    "    steps: List[str]\n",
    "schema = StepByStepAIResponse.schema() # returns a dict like JSON schema"
   ]
  },
  {
   "cell_type": "code",
   "execution_count": 7,
   "metadata": {},
   "outputs": [],
   "source": [
    "import json\n",
    "response = openai.ChatCompletion.create(\n",
    "    name=\"test-function\",\n",
    "    model=\"gpt-3.5-turbo-0613\",\n",
    "    messages=[\n",
    "       {\"role\": \"user\", \"content\": \"Explain how to assemble a PC\"}\n",
    "    ],\n",
    "    functions=[\n",
    "        {\n",
    "          \"name\": \"get_answer_for_user_query\",\n",
    "          \"description\": \"Get user answer in series of steps\",\n",
    "          \"parameters\": StepByStepAIResponse.schema()\n",
    "        }\n",
    "    ],\n",
    "    function_call={\"name\": \"get_answer_for_user_query\"}\n",
    ")\n",
    " \n",
    "output = json.loads(response.choices[0][\"message\"][\"function_call\"][\"arguments\"])"
   ]
  },
  {
   "cell_type": "code",
   "execution_count": 8,
   "metadata": {},
   "outputs": [],
   "source": [
    "from uuid import uuid4\n",
    "trace_id = str(uuid4())"
   ]
  },
  {
   "cell_type": "code",
   "execution_count": 9,
   "metadata": {},
   "outputs": [],
   "source": [
    "country = openai.ChatCompletion.create(\n",
    "  name=\"random-country\",\n",
    "  model=\"gpt-3.5-turbo\",\n",
    "  messages=[\n",
    "      {\"role\": \"user\", \"content\": \"Pick a random country\"}],\n",
    "  temperature=1,\n",
    "  trace_id=trace_id\n",
    ")[\"choices\"][0][\"message\"][\"content\"]\n",
    " \n",
    "capital = openai.ChatCompletion.create(\n",
    "  name=\"geography-teacher\",\n",
    "  model=\"gpt-3.5-turbo\",\n",
    "  messages=[\n",
    "      {\"role\": \"system\", \"content\": \"You are a Geography teacher helping students learn the capitals of countries. Output only the capital when being asked.\"},\n",
    "      {\"role\": \"user\", \"content\": country}],\n",
    "  temperature=0,\n",
    "  trace_id=trace_id\n",
    ")[\"choices\"][0][\"message\"][\"content\"]\n",
    " \n",
    "poem = openai.ChatCompletion.create(\n",
    "  name=\"poet\",\n",
    "  model=\"gpt-3.5-turbo\",\n",
    "  messages=[\n",
    "      {\"role\": \"system\", \"content\": \"You are a poet. Create a poem about a city.\"},\n",
    "      {\"role\": \"user\", \"content\": capital}],\n",
    "  temperature=1,\n",
    "  max_tokens=200,\n",
    "  trace_id=trace_id\n",
    ")[\"choices\"][0][\"message\"][\"content\"]"
   ]
  },
  {
   "cell_type": "code",
   "execution_count": 10,
   "metadata": {},
   "outputs": [],
   "source": [
    "from langfuse import Langfuse\n",
    "from langfuse.model import InitialScore\n",
    " \n",
    "langfuse = Langfuse()\n",
    " \n",
    "langfuse.score(InitialScore(\n",
    "    traceId=trace_id,\n",
    "    name=\"my-score-name\",\n",
    "    value=1\n",
    "));"
   ]
  }
 ],
 "metadata": {
  "kernelspec": {
   "display_name": "ycliu",
   "language": "python",
   "name": "python3"
  },
  "language_info": {
   "codemirror_mode": {
    "name": "ipython",
    "version": 3
   },
   "file_extension": ".py",
   "mimetype": "text/x-python",
   "name": "python",
   "nbconvert_exporter": "python",
   "pygments_lexer": "ipython3",
   "version": "3.10.0"
  }
 },
 "nbformat": 4,
 "nbformat_minor": 2
}
