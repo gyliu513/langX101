{
 "cells": [
  {
   "cell_type": "code",
   "execution_count": 1,
   "metadata": {},
   "outputs": [
    {
     "name": "stdout",
     "output_type": "stream",
     "text": [
      "Requirement already satisfied: langfuse in /Users/guangyaliu/ycliu/lib/python3.10/site-packages (1.1.6)\n",
      "Collecting langfuse\n",
      "  Obtaining dependency information for langfuse from https://files.pythonhosted.org/packages/35/b6/0a4a5a3914f2648176bf4af4959d27c79389eada49c2111946d30e9a5d5f/langfuse-1.1.9-py3-none-any.whl.metadata\n",
      "  Downloading langfuse-1.1.9-py3-none-any.whl.metadata (3.1 kB)\n",
      "Requirement already satisfied: openai in /Users/guangyaliu/ycliu/lib/python3.10/site-packages (0.27.10)\n",
      "Collecting openai\n",
      "  Obtaining dependency information for openai from https://files.pythonhosted.org/packages/1e/9f/385c25502f437686e4aa715969e5eaf5c2cb5e5ffa7c5cdd52f3c6ae967a/openai-0.28.1-py3-none-any.whl.metadata\n",
      "  Using cached openai-0.28.1-py3-none-any.whl.metadata (11 kB)\n",
      "Requirement already satisfied: langchain in /Users/guangyaliu/ycliu/lib/python3.10/site-packages (0.0.312)\n",
      "Collecting langchain\n",
      "  Obtaining dependency information for langchain from https://files.pythonhosted.org/packages/42/4e/86204994aeb2e4ac367a7fade896b13532eae2430299052eb2c80ca35d2c/langchain-0.0.329-py3-none-any.whl.metadata\n",
      "  Downloading langchain-0.0.329-py3-none-any.whl.metadata (16 kB)\n",
      "Requirement already satisfied: attrs>=21.3.0 in /Users/guangyaliu/ycliu/lib/python3.10/site-packages (from langfuse) (23.1.0)\n",
      "Requirement already satisfied: backoff<3.0.0,>=2.2.1 in /Users/guangyaliu/ycliu/lib/python3.10/site-packages (from langfuse) (2.2.1)\n",
      "Requirement already satisfied: httpx<0.25.0,>=0.15.4 in /Users/guangyaliu/ycliu/lib/python3.10/site-packages (from langfuse) (0.24.1)\n",
      "  Obtaining dependency information for langchain from https://files.pythonhosted.org/packages/f8/f9/66b03ceac5e7ac45392d3ab207e029ec4d13296cff5b04d58319992349c3/langchain-0.0.327-py3-none-any.whl.metadata\n",
      "  Using cached langchain-0.0.327-py3-none-any.whl.metadata (16 kB)\n",
      "Requirement already satisfied: pydantic<3.0,>=1.10.7 in /Users/guangyaliu/ycliu/lib/python3.10/site-packages (from langfuse) (1.10.13)\n",
      "Requirement already satisfied: python-dateutil<3.0,>=2.8.0 in /Users/guangyaliu/ycliu/lib/python3.10/site-packages (from langfuse) (2.8.2)\n",
      "Requirement already satisfied: pytz<2024.0,>=2023.3 in /Users/guangyaliu/ycliu/lib/python3.10/site-packages (from langfuse) (2023.3.post1)\n",
      "Requirement already satisfied: requests>=2.20 in /Users/guangyaliu/ycliu/lib/python3.10/site-packages (from openai) (2.31.0)\n",
      "Requirement already satisfied: tqdm in /Users/guangyaliu/ycliu/lib/python3.10/site-packages (from openai) (4.66.1)\n",
      "Requirement already satisfied: aiohttp in /Users/guangyaliu/ycliu/lib/python3.10/site-packages (from openai) (3.8.6)\n",
      "Requirement already satisfied: PyYAML>=5.3 in /Users/guangyaliu/ycliu/lib/python3.10/site-packages (from langchain) (6.0.1)\n",
      "Requirement already satisfied: SQLAlchemy<3,>=1.4 in /Users/guangyaliu/ycliu/lib/python3.10/site-packages (from langchain) (1.4.41)\n",
      "Requirement already satisfied: anyio<4.0 in /Users/guangyaliu/ycliu/lib/python3.10/site-packages (from langchain) (3.7.1)\n",
      "Requirement already satisfied: async-timeout<5.0.0,>=4.0.0 in /Users/guangyaliu/ycliu/lib/python3.10/site-packages (from langchain) (4.0.3)\n",
      "Requirement already satisfied: dataclasses-json<0.7,>=0.5.7 in /Users/guangyaliu/ycliu/lib/python3.10/site-packages (from langchain) (0.5.14)\n",
      "Requirement already satisfied: jsonpatch<2.0,>=1.33 in /Users/guangyaliu/ycliu/lib/python3.10/site-packages (from langchain) (1.33)\n",
      "Requirement already satisfied: langsmith<0.1.0,>=0.0.52 in /Users/guangyaliu/ycliu/lib/python3.10/site-packages (from langchain) (0.0.52)\n",
      "Requirement already satisfied: numpy<2,>=1 in /Users/guangyaliu/ycliu/lib/python3.10/site-packages (from langchain) (1.24.4)\n",
      "Requirement already satisfied: tenacity<9.0.0,>=8.1.0 in /Users/guangyaliu/ycliu/lib/python3.10/site-packages (from langchain) (8.2.3)\n",
      "Requirement already satisfied: charset-normalizer<4.0,>=2.0 in /Users/guangyaliu/ycliu/lib/python3.10/site-packages (from aiohttp->openai) (3.3.1)\n",
      "Requirement already satisfied: multidict<7.0,>=4.5 in /Users/guangyaliu/ycliu/lib/python3.10/site-packages (from aiohttp->openai) (6.0.4)\n",
      "Requirement already satisfied: yarl<2.0,>=1.0 in /Users/guangyaliu/ycliu/lib/python3.10/site-packages (from aiohttp->openai) (1.9.2)\n",
      "Requirement already satisfied: frozenlist>=1.1.1 in /Users/guangyaliu/ycliu/lib/python3.10/site-packages (from aiohttp->openai) (1.4.0)\n",
      "Requirement already satisfied: aiosignal>=1.1.2 in /Users/guangyaliu/ycliu/lib/python3.10/site-packages (from aiohttp->openai) (1.3.1)\n",
      "Requirement already satisfied: idna>=2.8 in /Users/guangyaliu/ycliu/lib/python3.10/site-packages (from anyio<4.0->langchain) (3.4)\n",
      "Requirement already satisfied: sniffio>=1.1 in /Users/guangyaliu/ycliu/lib/python3.10/site-packages (from anyio<4.0->langchain) (1.3.0)\n",
      "Requirement already satisfied: exceptiongroup in /Users/guangyaliu/ycliu/lib/python3.10/site-packages (from anyio<4.0->langchain) (1.1.3)\n",
      "Requirement already satisfied: marshmallow<4.0.0,>=3.18.0 in /Users/guangyaliu/ycliu/lib/python3.10/site-packages (from dataclasses-json<0.7,>=0.5.7->langchain) (3.20.1)\n",
      "Requirement already satisfied: typing-inspect<1,>=0.4.0 in /Users/guangyaliu/ycliu/lib/python3.10/site-packages (from dataclasses-json<0.7,>=0.5.7->langchain) (0.9.0)\n",
      "Requirement already satisfied: certifi in /Users/guangyaliu/ycliu/lib/python3.10/site-packages (from httpx<0.25.0,>=0.15.4->langfuse) (2023.7.22)\n",
      "Requirement already satisfied: httpcore<0.18.0,>=0.15.0 in /Users/guangyaliu/ycliu/lib/python3.10/site-packages (from httpx<0.25.0,>=0.15.4->langfuse) (0.17.3)\n",
      "Requirement already satisfied: jsonpointer>=1.9 in /Users/guangyaliu/ycliu/lib/python3.10/site-packages (from jsonpatch<2.0,>=1.33->langchain) (2.4)\n",
      "Requirement already satisfied: typing-extensions>=4.2.0 in /Users/guangyaliu/ycliu/lib/python3.10/site-packages (from pydantic<3.0,>=1.10.7->langfuse) (4.8.0)\n",
      "Requirement already satisfied: six>=1.5 in /Users/guangyaliu/ycliu/lib/python3.10/site-packages (from python-dateutil<3.0,>=2.8.0->langfuse) (1.16.0)\n",
      "Requirement already satisfied: urllib3<3,>=1.21.1 in /Users/guangyaliu/ycliu/lib/python3.10/site-packages (from requests>=2.20->openai) (1.26.18)\n",
      "Requirement already satisfied: greenlet!=0.4.17 in /Users/guangyaliu/ycliu/lib/python3.10/site-packages (from SQLAlchemy<3,>=1.4->langchain) (3.0.1)\n",
      "Requirement already satisfied: h11<0.15,>=0.13 in /Users/guangyaliu/ycliu/lib/python3.10/site-packages (from httpcore<0.18.0,>=0.15.0->httpx<0.25.0,>=0.15.4->langfuse) (0.14.0)\n",
      "Requirement already satisfied: packaging>=17.0 in /Users/guangyaliu/ycliu/lib/python3.10/site-packages (from marshmallow<4.0.0,>=3.18.0->dataclasses-json<0.7,>=0.5.7->langchain) (23.2)\n",
      "Requirement already satisfied: mypy-extensions>=0.3.0 in /Users/guangyaliu/ycliu/lib/python3.10/site-packages (from typing-inspect<1,>=0.4.0->dataclasses-json<0.7,>=0.5.7->langchain) (1.0.0)\n",
      "Downloading langfuse-1.1.9-py3-none-any.whl (62 kB)\n",
      "\u001b[2K   \u001b[90m━━━━━━━━━━━━━━━━━━━━━━━━━━━━━━━━━━━━━━━━\u001b[0m \u001b[32m62.2/62.2 kB\u001b[0m \u001b[31m494.9 kB/s\u001b[0m eta \u001b[36m0:00:00\u001b[0m\u001b[36m0:00:01\u001b[0m\n",
      "\u001b[?25hUsing cached openai-0.28.1-py3-none-any.whl (76 kB)\n",
      "Using cached langchain-0.0.327-py3-none-any.whl (2.0 MB)\n",
      "Installing collected packages: openai, langchain, langfuse\n",
      "  Attempting uninstall: openai\n",
      "    Found existing installation: openai 0.27.10\n",
      "    Uninstalling openai-0.27.10:\n",
      "      Successfully uninstalled openai-0.27.10\n",
      "  Attempting uninstall: langchain\n",
      "    Found existing installation: langchain 0.0.312\n",
      "    Uninstalling langchain-0.0.312:\n",
      "      Successfully uninstalled langchain-0.0.312\n",
      "  Attempting uninstall: langfuse\n",
      "    Found existing installation: langfuse 1.1.6\n",
      "    Uninstalling langfuse-1.1.6:\n",
      "      Successfully uninstalled langfuse-1.1.6\n",
      "\u001b[31mERROR: pip's dependency resolver does not currently take into account all the packages that are installed. This behaviour is the source of the following dependency conflicts.\n",
      "embedchain 0.0.72 requires chromadb<0.5.0,>=0.4.8, but you have chromadb 0.3.26 which is incompatible.\n",
      "embedchain 0.0.72 requires langchain<0.0.280,>=0.0.279, but you have langchain 0.0.327 which is incompatible.\n",
      "embedchain 0.0.72 requires openai<0.28.0,>=0.27.5, but you have openai 0.28.1 which is incompatible.\n",
      "embedchain 0.0.72 requires tiktoken<0.5.0,>=0.4.0, but you have tiktoken 0.5.1 which is incompatible.\n",
      "helicone 1.0.12 requires openai<0.28.0,>=0.27.0, but you have openai 0.28.1 which is incompatible.\n",
      "langflow 0.5.5 requires langchain<0.0.313,>=0.0.312, but you have langchain 0.0.327 which is incompatible.\n",
      "langflow 0.5.5 requires openai<0.28.0,>=0.27.8, but you have openai 0.28.1 which is incompatible.\u001b[0m\u001b[31m\n",
      "\u001b[0mSuccessfully installed langchain-0.0.327 langfuse-1.1.9 openai-0.28.1\n",
      "\n",
      "\u001b[1m[\u001b[0m\u001b[34;49mnotice\u001b[0m\u001b[1;39;49m]\u001b[0m\u001b[39;49m A new release of pip is available: \u001b[0m\u001b[31;49m23.2.1\u001b[0m\u001b[39;49m -> \u001b[0m\u001b[32;49m23.3.1\u001b[0m\n",
      "\u001b[1m[\u001b[0m\u001b[34;49mnotice\u001b[0m\u001b[1;39;49m]\u001b[0m\u001b[39;49m To update, run: \u001b[0m\u001b[32;49mpip install --upgrade pip\u001b[0m\n"
     ]
    }
   ],
   "source": [
    "!pip install langfuse openai langchain --upgrade"
   ]
  },
  {
   "cell_type": "code",
   "execution_count": 2,
   "metadata": {},
   "outputs": [],
   "source": [
    "from dotenv import load_dotenv\n",
    "load_dotenv()\n",
    "\n",
    "from langfuse import Langfuse\n",
    " \n",
    "langfuse = Langfuse()"
   ]
  },
  {
   "cell_type": "code",
   "execution_count": 3,
   "metadata": {},
   "outputs": [
    {
     "data": {
      "text/plain": [
       "Dataset(id='clohk78do0001u03a7dvu5e5a', name='capital_cities', status=<DatasetStatus.ACTIVE: 'ACTIVE'>, project_id='clohajzh20013ns3b9s3mh9wk', created_at=datetime.datetime(2023, 11, 2, 19, 7, 56, 844000, tzinfo=datetime.timezone.utc), updated_at=datetime.datetime(2023, 11, 2, 19, 7, 56, 844000, tzinfo=datetime.timezone.utc), items=[], runs=[])"
      ]
     },
     "execution_count": 3,
     "metadata": {},
     "output_type": "execute_result"
    }
   ],
   "source": [
    "from langfuse.model import CreateDatasetRequest\n",
    " \n",
    "langfuse.create_dataset(CreateDatasetRequest(name=\"capital_cities\"))"
   ]
  },
  {
   "cell_type": "code",
   "execution_count": 4,
   "metadata": {},
   "outputs": [],
   "source": [
    "# example items, could also be json instead of strings\n",
    "local_items = [\n",
    "    {\"input\": {\"country\": \"Italy\"}, \"expected_output\": \"Rome\"},\n",
    "    {\"input\": {\"country\": \"Spain\"}, \"expected_output\": \"Madrid\"},\n",
    "    {\"input\": {\"country\": \"Brazil\"}, \"expected_output\": \"Brasília\"},\n",
    "    {\"input\": {\"country\": \"Japan\"}, \"expected_output\": \"Tokyo\"},\n",
    "    {\"input\": {\"country\": \"India\"}, \"expected_output\": \"New Delhi\"},\n",
    "    {\"input\": {\"country\": \"Canada\"}, \"expected_output\": \"Ottawa\"},\n",
    "    {\"input\": {\"country\": \"South Korea\"}, \"expected_output\": \"Seoul\"},\n",
    "    {\"input\": {\"country\": \"Argentina\"}, \"expected_output\": \"Buenos Aires\"},\n",
    "    {\"input\": {\"country\": \"South Africa\"}, \"expected_output\": \"Pretoria\"},\n",
    "    {\"input\": {\"country\": \"Egypt\"}, \"expected_output\": \"Cairo\"},\n",
    "]"
   ]
  },
  {
   "cell_type": "code",
   "execution_count": 5,
   "metadata": {},
   "outputs": [],
   "source": [
    "from langfuse.model import CreateDatasetItemRequest\n",
    " \n",
    "# Upload to Langfuse\n",
    "for item in local_items:\n",
    "  langfuse.create_dataset_item(\n",
    "    CreateDatasetItemRequest(\n",
    "        dataset_name=\"capital_cities\",\n",
    "        # any python object or value\n",
    "        input=item[\"input\"],\n",
    "        # any python object or value, optional\n",
    "        expected_output=item[\"expected_output\"]\n",
    "    )\n",
    ")"
   ]
  },
  {
   "cell_type": "code",
   "execution_count": 6,
   "metadata": {},
   "outputs": [],
   "source": [
    "# we use a very simple eval here, you can use any eval library\n",
    "def simple_evaluation(output, expected_output):\n",
    "  return output == expected_output"
   ]
  },
  {
   "cell_type": "code",
   "execution_count": 13,
   "metadata": {},
   "outputs": [],
   "source": [
    "from datetime import datetime\n",
    "from langfuse.client import InitialGeneration\n",
    " \n",
    "def run_my_custom_llm_app(input, system_prompt):\n",
    "  messages = [\n",
    "      {\"role\":\"system\", \"content\": system_prompt},\n",
    "      {\"role\":\"user\", \"content\": input[\"country\"]}\n",
    "  ]\n",
    " \n",
    "  generationStartTime = datetime.now()\n",
    " \n",
    "  openai_completion = openai.ChatCompletion.create(\n",
    "      model=\"gpt-3.5-turbo\",\n",
    "      messages=messages\n",
    "  ).choices[0].message.content\n",
    " \n",
    "  langfuse_generation = langfuse.generation(InitialGeneration(\n",
    "      name=\"guess-countries\",\n",
    "      prompt=messages,\n",
    "      completion=openai_completion,\n",
    "      model=\"gpt-3.5-turbo\",\n",
    "      startTime=generationStartTime,\n",
    "      endTime=datetime.now()\n",
    "  ))\n",
    " \n",
    "  return openai_completion, langfuse_generation"
   ]
  },
  {
   "cell_type": "code",
   "execution_count": 14,
   "metadata": {},
   "outputs": [],
   "source": [
    "from langfuse.client import CreateScore\n",
    " \n",
    "def run_experiment(experiment_name, system_prompt):\n",
    "  dataset = langfuse.get_dataset(\"capital_cities\")\n",
    " \n",
    "  for item in dataset.items:\n",
    "    completion, langfuse_generation = run_my_custom_llm_app(item.input, system_prompt)\n",
    " \n",
    "    item.link(langfuse_generation, experiment_name) # pas the observation/generation object or the id\n",
    " \n",
    "    langfuse_generation.score(CreateScore(\n",
    "      name=\"exact_match\",\n",
    "      value=simple_evaluation(completion, item.expected_output)\n",
    "    ))"
   ]
  },
  {
   "cell_type": "code",
   "execution_count": 15,
   "metadata": {},
   "outputs": [
    {
     "ename": "RateLimitError",
     "evalue": "Rate limit reached for gpt-3.5-turbo in organization org-hlc7lWO9D9K29sQNyGlPfR55 on requests per min. Limit: 3 / min. Please try again in 20s. Visit https://platform.openai.com/account/rate-limits to learn more. You can increase your rate limit by adding a payment method to your account at https://platform.openai.com/account/billing.",
     "output_type": "error",
     "traceback": [
      "\u001b[0;31m---------------------------------------------------------------------------\u001b[0m",
      "\u001b[0;31mRateLimitError\u001b[0m                            Traceback (most recent call last)",
      "\u001b[1;32m/Users/guangyaliu/go/src/github.com/gyliu513/langX101/langfuse/local/dataset-local.ipynb Cell 9\u001b[0m line \u001b[0;36m1\n\u001b[0;32m----> <a href='vscode-notebook-cell:/Users/guangyaliu/go/src/github.com/gyliu513/langX101/langfuse/local/dataset-local.ipynb#X11sZmlsZQ%3D%3D?line=0'>1</a>\u001b[0m run_experiment(\n\u001b[1;32m      <a href='vscode-notebook-cell:/Users/guangyaliu/go/src/github.com/gyliu513/langX101/langfuse/local/dataset-local.ipynb#X11sZmlsZQ%3D%3D?line=1'>2</a>\u001b[0m     \u001b[39m\"\u001b[39;49m\u001b[39mfamous_city\u001b[39;49m\u001b[39m\"\u001b[39;49m,\n\u001b[1;32m      <a href='vscode-notebook-cell:/Users/guangyaliu/go/src/github.com/gyliu513/langX101/langfuse/local/dataset-local.ipynb#X11sZmlsZQ%3D%3D?line=2'>3</a>\u001b[0m     \u001b[39m\"\u001b[39;49m\u001b[39mThe user will input countries, respond with the mst famous city in this country\u001b[39;49m\u001b[39m\"\u001b[39;49m\n\u001b[1;32m      <a href='vscode-notebook-cell:/Users/guangyaliu/go/src/github.com/gyliu513/langX101/langfuse/local/dataset-local.ipynb#X11sZmlsZQ%3D%3D?line=3'>4</a>\u001b[0m )\n\u001b[1;32m      <a href='vscode-notebook-cell:/Users/guangyaliu/go/src/github.com/gyliu513/langX101/langfuse/local/dataset-local.ipynb#X11sZmlsZQ%3D%3D?line=4'>5</a>\u001b[0m run_experiment(\n\u001b[1;32m      <a href='vscode-notebook-cell:/Users/guangyaliu/go/src/github.com/gyliu513/langX101/langfuse/local/dataset-local.ipynb#X11sZmlsZQ%3D%3D?line=5'>6</a>\u001b[0m     \u001b[39m\"\u001b[39m\u001b[39mdirectly_ask\u001b[39m\u001b[39m\"\u001b[39m,\n\u001b[1;32m      <a href='vscode-notebook-cell:/Users/guangyaliu/go/src/github.com/gyliu513/langX101/langfuse/local/dataset-local.ipynb#X11sZmlsZQ%3D%3D?line=6'>7</a>\u001b[0m     \u001b[39m\"\u001b[39m\u001b[39mWhat is the capital of the following country?\u001b[39m\u001b[39m\"\u001b[39m\n\u001b[1;32m      <a href='vscode-notebook-cell:/Users/guangyaliu/go/src/github.com/gyliu513/langX101/langfuse/local/dataset-local.ipynb#X11sZmlsZQ%3D%3D?line=7'>8</a>\u001b[0m )\n\u001b[1;32m      <a href='vscode-notebook-cell:/Users/guangyaliu/go/src/github.com/gyliu513/langX101/langfuse/local/dataset-local.ipynb#X11sZmlsZQ%3D%3D?line=8'>9</a>\u001b[0m run_experiment(\n\u001b[1;32m     <a href='vscode-notebook-cell:/Users/guangyaliu/go/src/github.com/gyliu513/langX101/langfuse/local/dataset-local.ipynb#X11sZmlsZQ%3D%3D?line=9'>10</a>\u001b[0m     \u001b[39m\"\u001b[39m\u001b[39masking_specifically\u001b[39m\u001b[39m\"\u001b[39m,\n\u001b[1;32m     <a href='vscode-notebook-cell:/Users/guangyaliu/go/src/github.com/gyliu513/langX101/langfuse/local/dataset-local.ipynb#X11sZmlsZQ%3D%3D?line=10'>11</a>\u001b[0m     \u001b[39m\"\u001b[39m\u001b[39mThe user will input countries, respond with only the name of the capital\u001b[39m\u001b[39m\"\u001b[39m\n\u001b[1;32m     <a href='vscode-notebook-cell:/Users/guangyaliu/go/src/github.com/gyliu513/langX101/langfuse/local/dataset-local.ipynb#X11sZmlsZQ%3D%3D?line=11'>12</a>\u001b[0m )\n",
      "\u001b[1;32m/Users/guangyaliu/go/src/github.com/gyliu513/langX101/langfuse/local/dataset-local.ipynb Cell 9\u001b[0m line \u001b[0;36m7\n\u001b[1;32m      <a href='vscode-notebook-cell:/Users/guangyaliu/go/src/github.com/gyliu513/langX101/langfuse/local/dataset-local.ipynb#X11sZmlsZQ%3D%3D?line=3'>4</a>\u001b[0m dataset \u001b[39m=\u001b[39m langfuse\u001b[39m.\u001b[39mget_dataset(\u001b[39m\"\u001b[39m\u001b[39mcapital_cities\u001b[39m\u001b[39m\"\u001b[39m)\n\u001b[1;32m      <a href='vscode-notebook-cell:/Users/guangyaliu/go/src/github.com/gyliu513/langX101/langfuse/local/dataset-local.ipynb#X11sZmlsZQ%3D%3D?line=5'>6</a>\u001b[0m \u001b[39mfor\u001b[39;00m item \u001b[39min\u001b[39;00m dataset\u001b[39m.\u001b[39mitems:\n\u001b[0;32m----> <a href='vscode-notebook-cell:/Users/guangyaliu/go/src/github.com/gyliu513/langX101/langfuse/local/dataset-local.ipynb#X11sZmlsZQ%3D%3D?line=6'>7</a>\u001b[0m   completion, langfuse_generation \u001b[39m=\u001b[39m run_my_custom_llm_app(item\u001b[39m.\u001b[39;49minput, system_prompt)\n\u001b[1;32m      <a href='vscode-notebook-cell:/Users/guangyaliu/go/src/github.com/gyliu513/langX101/langfuse/local/dataset-local.ipynb#X11sZmlsZQ%3D%3D?line=8'>9</a>\u001b[0m   item\u001b[39m.\u001b[39mlink(langfuse_generation, experiment_name) \u001b[39m# pas the observation/generation object or the id\u001b[39;00m\n\u001b[1;32m     <a href='vscode-notebook-cell:/Users/guangyaliu/go/src/github.com/gyliu513/langX101/langfuse/local/dataset-local.ipynb#X11sZmlsZQ%3D%3D?line=10'>11</a>\u001b[0m   langfuse_generation\u001b[39m.\u001b[39mscore(CreateScore(\n\u001b[1;32m     <a href='vscode-notebook-cell:/Users/guangyaliu/go/src/github.com/gyliu513/langX101/langfuse/local/dataset-local.ipynb#X11sZmlsZQ%3D%3D?line=11'>12</a>\u001b[0m     name\u001b[39m=\u001b[39m\u001b[39m\"\u001b[39m\u001b[39mexact_match\u001b[39m\u001b[39m\"\u001b[39m,\n\u001b[1;32m     <a href='vscode-notebook-cell:/Users/guangyaliu/go/src/github.com/gyliu513/langX101/langfuse/local/dataset-local.ipynb#X11sZmlsZQ%3D%3D?line=12'>13</a>\u001b[0m     value\u001b[39m=\u001b[39msimple_evaluation(completion, item\u001b[39m.\u001b[39mexpected_output)\n\u001b[1;32m     <a href='vscode-notebook-cell:/Users/guangyaliu/go/src/github.com/gyliu513/langX101/langfuse/local/dataset-local.ipynb#X11sZmlsZQ%3D%3D?line=13'>14</a>\u001b[0m   ))\n",
      "\u001b[1;32m/Users/guangyaliu/go/src/github.com/gyliu513/langX101/langfuse/local/dataset-local.ipynb Cell 9\u001b[0m line \u001b[0;36m1\n\u001b[1;32m      <a href='vscode-notebook-cell:/Users/guangyaliu/go/src/github.com/gyliu513/langX101/langfuse/local/dataset-local.ipynb#X11sZmlsZQ%3D%3D?line=4'>5</a>\u001b[0m messages \u001b[39m=\u001b[39m [\n\u001b[1;32m      <a href='vscode-notebook-cell:/Users/guangyaliu/go/src/github.com/gyliu513/langX101/langfuse/local/dataset-local.ipynb#X11sZmlsZQ%3D%3D?line=5'>6</a>\u001b[0m     {\u001b[39m\"\u001b[39m\u001b[39mrole\u001b[39m\u001b[39m\"\u001b[39m:\u001b[39m\"\u001b[39m\u001b[39msystem\u001b[39m\u001b[39m\"\u001b[39m, \u001b[39m\"\u001b[39m\u001b[39mcontent\u001b[39m\u001b[39m\"\u001b[39m: system_prompt},\n\u001b[1;32m      <a href='vscode-notebook-cell:/Users/guangyaliu/go/src/github.com/gyliu513/langX101/langfuse/local/dataset-local.ipynb#X11sZmlsZQ%3D%3D?line=6'>7</a>\u001b[0m     {\u001b[39m\"\u001b[39m\u001b[39mrole\u001b[39m\u001b[39m\"\u001b[39m:\u001b[39m\"\u001b[39m\u001b[39muser\u001b[39m\u001b[39m\"\u001b[39m, \u001b[39m\"\u001b[39m\u001b[39mcontent\u001b[39m\u001b[39m\"\u001b[39m: \u001b[39minput\u001b[39m[\u001b[39m\"\u001b[39m\u001b[39mcountry\u001b[39m\u001b[39m\"\u001b[39m]}\n\u001b[1;32m      <a href='vscode-notebook-cell:/Users/guangyaliu/go/src/github.com/gyliu513/langX101/langfuse/local/dataset-local.ipynb#X11sZmlsZQ%3D%3D?line=7'>8</a>\u001b[0m ]\n\u001b[1;32m     <a href='vscode-notebook-cell:/Users/guangyaliu/go/src/github.com/gyliu513/langX101/langfuse/local/dataset-local.ipynb#X11sZmlsZQ%3D%3D?line=9'>10</a>\u001b[0m generationStartTime \u001b[39m=\u001b[39m datetime\u001b[39m.\u001b[39mnow()\n\u001b[0;32m---> <a href='vscode-notebook-cell:/Users/guangyaliu/go/src/github.com/gyliu513/langX101/langfuse/local/dataset-local.ipynb#X11sZmlsZQ%3D%3D?line=11'>12</a>\u001b[0m openai_completion \u001b[39m=\u001b[39m openai\u001b[39m.\u001b[39;49mChatCompletion\u001b[39m.\u001b[39;49mcreate(\n\u001b[1;32m     <a href='vscode-notebook-cell:/Users/guangyaliu/go/src/github.com/gyliu513/langX101/langfuse/local/dataset-local.ipynb#X11sZmlsZQ%3D%3D?line=12'>13</a>\u001b[0m     model\u001b[39m=\u001b[39;49m\u001b[39m\"\u001b[39;49m\u001b[39mgpt-3.5-turbo\u001b[39;49m\u001b[39m\"\u001b[39;49m,\n\u001b[1;32m     <a href='vscode-notebook-cell:/Users/guangyaliu/go/src/github.com/gyliu513/langX101/langfuse/local/dataset-local.ipynb#X11sZmlsZQ%3D%3D?line=13'>14</a>\u001b[0m     messages\u001b[39m=\u001b[39;49mmessages\n\u001b[1;32m     <a href='vscode-notebook-cell:/Users/guangyaliu/go/src/github.com/gyliu513/langX101/langfuse/local/dataset-local.ipynb#X11sZmlsZQ%3D%3D?line=14'>15</a>\u001b[0m )\u001b[39m.\u001b[39mchoices[\u001b[39m0\u001b[39m]\u001b[39m.\u001b[39mmessage\u001b[39m.\u001b[39mcontent\n\u001b[1;32m     <a href='vscode-notebook-cell:/Users/guangyaliu/go/src/github.com/gyliu513/langX101/langfuse/local/dataset-local.ipynb#X11sZmlsZQ%3D%3D?line=16'>17</a>\u001b[0m langfuse_generation \u001b[39m=\u001b[39m langfuse\u001b[39m.\u001b[39mgeneration(InitialGeneration(\n\u001b[1;32m     <a href='vscode-notebook-cell:/Users/guangyaliu/go/src/github.com/gyliu513/langX101/langfuse/local/dataset-local.ipynb#X11sZmlsZQ%3D%3D?line=17'>18</a>\u001b[0m     name\u001b[39m=\u001b[39m\u001b[39m\"\u001b[39m\u001b[39mguess-countries\u001b[39m\u001b[39m\"\u001b[39m,\n\u001b[1;32m     <a href='vscode-notebook-cell:/Users/guangyaliu/go/src/github.com/gyliu513/langX101/langfuse/local/dataset-local.ipynb#X11sZmlsZQ%3D%3D?line=18'>19</a>\u001b[0m     prompt\u001b[39m=\u001b[39mmessages,\n\u001b[0;32m   (...)\u001b[0m\n\u001b[1;32m     <a href='vscode-notebook-cell:/Users/guangyaliu/go/src/github.com/gyliu513/langX101/langfuse/local/dataset-local.ipynb#X11sZmlsZQ%3D%3D?line=22'>23</a>\u001b[0m     endTime\u001b[39m=\u001b[39mdatetime\u001b[39m.\u001b[39mnow()\n\u001b[1;32m     <a href='vscode-notebook-cell:/Users/guangyaliu/go/src/github.com/gyliu513/langX101/langfuse/local/dataset-local.ipynb#X11sZmlsZQ%3D%3D?line=23'>24</a>\u001b[0m ))\n\u001b[1;32m     <a href='vscode-notebook-cell:/Users/guangyaliu/go/src/github.com/gyliu513/langX101/langfuse/local/dataset-local.ipynb#X11sZmlsZQ%3D%3D?line=25'>26</a>\u001b[0m \u001b[39mreturn\u001b[39;00m openai_completion, langfuse_generation\n",
      "File \u001b[0;32m~/ycliu/lib/python3.10/site-packages/openai/api_resources/chat_completion.py:25\u001b[0m, in \u001b[0;36mChatCompletion.create\u001b[0;34m(cls, *args, **kwargs)\u001b[0m\n\u001b[1;32m     23\u001b[0m \u001b[39mwhile\u001b[39;00m \u001b[39mTrue\u001b[39;00m:\n\u001b[1;32m     24\u001b[0m     \u001b[39mtry\u001b[39;00m:\n\u001b[0;32m---> 25\u001b[0m         \u001b[39mreturn\u001b[39;00m \u001b[39msuper\u001b[39;49m()\u001b[39m.\u001b[39;49mcreate(\u001b[39m*\u001b[39;49margs, \u001b[39m*\u001b[39;49m\u001b[39m*\u001b[39;49mkwargs)\n\u001b[1;32m     26\u001b[0m     \u001b[39mexcept\u001b[39;00m TryAgain \u001b[39mas\u001b[39;00m e:\n\u001b[1;32m     27\u001b[0m         \u001b[39mif\u001b[39;00m timeout \u001b[39mis\u001b[39;00m \u001b[39mnot\u001b[39;00m \u001b[39mNone\u001b[39;00m \u001b[39mand\u001b[39;00m time\u001b[39m.\u001b[39mtime() \u001b[39m>\u001b[39m start \u001b[39m+\u001b[39m timeout:\n",
      "File \u001b[0;32m~/ycliu/lib/python3.10/site-packages/openai/api_resources/abstract/engine_api_resource.py:155\u001b[0m, in \u001b[0;36mEngineAPIResource.create\u001b[0;34m(cls, api_key, api_base, api_type, request_id, api_version, organization, **params)\u001b[0m\n\u001b[1;32m    129\u001b[0m \u001b[39m@classmethod\u001b[39m\n\u001b[1;32m    130\u001b[0m \u001b[39mdef\u001b[39;00m \u001b[39mcreate\u001b[39m(\n\u001b[1;32m    131\u001b[0m     \u001b[39mcls\u001b[39m,\n\u001b[0;32m   (...)\u001b[0m\n\u001b[1;32m    138\u001b[0m     \u001b[39m*\u001b[39m\u001b[39m*\u001b[39mparams,\n\u001b[1;32m    139\u001b[0m ):\n\u001b[1;32m    140\u001b[0m     (\n\u001b[1;32m    141\u001b[0m         deployment_id,\n\u001b[1;32m    142\u001b[0m         engine,\n\u001b[0;32m   (...)\u001b[0m\n\u001b[1;32m    152\u001b[0m         api_key, api_base, api_type, api_version, organization, \u001b[39m*\u001b[39m\u001b[39m*\u001b[39mparams\n\u001b[1;32m    153\u001b[0m     )\n\u001b[0;32m--> 155\u001b[0m     response, _, api_key \u001b[39m=\u001b[39m requestor\u001b[39m.\u001b[39;49mrequest(\n\u001b[1;32m    156\u001b[0m         \u001b[39m\"\u001b[39;49m\u001b[39mpost\u001b[39;49m\u001b[39m\"\u001b[39;49m,\n\u001b[1;32m    157\u001b[0m         url,\n\u001b[1;32m    158\u001b[0m         params\u001b[39m=\u001b[39;49mparams,\n\u001b[1;32m    159\u001b[0m         headers\u001b[39m=\u001b[39;49mheaders,\n\u001b[1;32m    160\u001b[0m         stream\u001b[39m=\u001b[39;49mstream,\n\u001b[1;32m    161\u001b[0m         request_id\u001b[39m=\u001b[39;49mrequest_id,\n\u001b[1;32m    162\u001b[0m         request_timeout\u001b[39m=\u001b[39;49mrequest_timeout,\n\u001b[1;32m    163\u001b[0m     )\n\u001b[1;32m    165\u001b[0m     \u001b[39mif\u001b[39;00m stream:\n\u001b[1;32m    166\u001b[0m         \u001b[39m# must be an iterator\u001b[39;00m\n\u001b[1;32m    167\u001b[0m         \u001b[39massert\u001b[39;00m \u001b[39mnot\u001b[39;00m \u001b[39misinstance\u001b[39m(response, OpenAIResponse)\n",
      "File \u001b[0;32m~/ycliu/lib/python3.10/site-packages/openai/api_requestor.py:299\u001b[0m, in \u001b[0;36mAPIRequestor.request\u001b[0;34m(self, method, url, params, headers, files, stream, request_id, request_timeout)\u001b[0m\n\u001b[1;32m    278\u001b[0m \u001b[39mdef\u001b[39;00m \u001b[39mrequest\u001b[39m(\n\u001b[1;32m    279\u001b[0m     \u001b[39mself\u001b[39m,\n\u001b[1;32m    280\u001b[0m     method,\n\u001b[0;32m   (...)\u001b[0m\n\u001b[1;32m    287\u001b[0m     request_timeout: Optional[Union[\u001b[39mfloat\u001b[39m, Tuple[\u001b[39mfloat\u001b[39m, \u001b[39mfloat\u001b[39m]]] \u001b[39m=\u001b[39m \u001b[39mNone\u001b[39;00m,\n\u001b[1;32m    288\u001b[0m ) \u001b[39m-\u001b[39m\u001b[39m>\u001b[39m Tuple[Union[OpenAIResponse, Iterator[OpenAIResponse]], \u001b[39mbool\u001b[39m, \u001b[39mstr\u001b[39m]:\n\u001b[1;32m    289\u001b[0m     result \u001b[39m=\u001b[39m \u001b[39mself\u001b[39m\u001b[39m.\u001b[39mrequest_raw(\n\u001b[1;32m    290\u001b[0m         method\u001b[39m.\u001b[39mlower(),\n\u001b[1;32m    291\u001b[0m         url,\n\u001b[0;32m   (...)\u001b[0m\n\u001b[1;32m    297\u001b[0m         request_timeout\u001b[39m=\u001b[39mrequest_timeout,\n\u001b[1;32m    298\u001b[0m     )\n\u001b[0;32m--> 299\u001b[0m     resp, got_stream \u001b[39m=\u001b[39m \u001b[39mself\u001b[39;49m\u001b[39m.\u001b[39;49m_interpret_response(result, stream)\n\u001b[1;32m    300\u001b[0m     \u001b[39mreturn\u001b[39;00m resp, got_stream, \u001b[39mself\u001b[39m\u001b[39m.\u001b[39mapi_key\n",
      "File \u001b[0;32m~/ycliu/lib/python3.10/site-packages/openai/api_requestor.py:710\u001b[0m, in \u001b[0;36mAPIRequestor._interpret_response\u001b[0;34m(self, result, stream)\u001b[0m\n\u001b[1;32m    702\u001b[0m     \u001b[39mreturn\u001b[39;00m (\n\u001b[1;32m    703\u001b[0m         \u001b[39mself\u001b[39m\u001b[39m.\u001b[39m_interpret_response_line(\n\u001b[1;32m    704\u001b[0m             line, result\u001b[39m.\u001b[39mstatus_code, result\u001b[39m.\u001b[39mheaders, stream\u001b[39m=\u001b[39m\u001b[39mTrue\u001b[39;00m\n\u001b[1;32m    705\u001b[0m         )\n\u001b[1;32m    706\u001b[0m         \u001b[39mfor\u001b[39;00m line \u001b[39min\u001b[39;00m parse_stream(result\u001b[39m.\u001b[39miter_lines())\n\u001b[1;32m    707\u001b[0m     ), \u001b[39mTrue\u001b[39;00m\n\u001b[1;32m    708\u001b[0m \u001b[39melse\u001b[39;00m:\n\u001b[1;32m    709\u001b[0m     \u001b[39mreturn\u001b[39;00m (\n\u001b[0;32m--> 710\u001b[0m         \u001b[39mself\u001b[39;49m\u001b[39m.\u001b[39;49m_interpret_response_line(\n\u001b[1;32m    711\u001b[0m             result\u001b[39m.\u001b[39;49mcontent\u001b[39m.\u001b[39;49mdecode(\u001b[39m\"\u001b[39;49m\u001b[39mutf-8\u001b[39;49m\u001b[39m\"\u001b[39;49m),\n\u001b[1;32m    712\u001b[0m             result\u001b[39m.\u001b[39;49mstatus_code,\n\u001b[1;32m    713\u001b[0m             result\u001b[39m.\u001b[39;49mheaders,\n\u001b[1;32m    714\u001b[0m             stream\u001b[39m=\u001b[39;49m\u001b[39mFalse\u001b[39;49;00m,\n\u001b[1;32m    715\u001b[0m         ),\n\u001b[1;32m    716\u001b[0m         \u001b[39mFalse\u001b[39;00m,\n\u001b[1;32m    717\u001b[0m     )\n",
      "File \u001b[0;32m~/ycliu/lib/python3.10/site-packages/openai/api_requestor.py:775\u001b[0m, in \u001b[0;36mAPIRequestor._interpret_response_line\u001b[0;34m(self, rbody, rcode, rheaders, stream)\u001b[0m\n\u001b[1;32m    773\u001b[0m stream_error \u001b[39m=\u001b[39m stream \u001b[39mand\u001b[39;00m \u001b[39m\"\u001b[39m\u001b[39merror\u001b[39m\u001b[39m\"\u001b[39m \u001b[39min\u001b[39;00m resp\u001b[39m.\u001b[39mdata\n\u001b[1;32m    774\u001b[0m \u001b[39mif\u001b[39;00m stream_error \u001b[39mor\u001b[39;00m \u001b[39mnot\u001b[39;00m \u001b[39m200\u001b[39m \u001b[39m<\u001b[39m\u001b[39m=\u001b[39m rcode \u001b[39m<\u001b[39m \u001b[39m300\u001b[39m:\n\u001b[0;32m--> 775\u001b[0m     \u001b[39mraise\u001b[39;00m \u001b[39mself\u001b[39m\u001b[39m.\u001b[39mhandle_error_response(\n\u001b[1;32m    776\u001b[0m         rbody, rcode, resp\u001b[39m.\u001b[39mdata, rheaders, stream_error\u001b[39m=\u001b[39mstream_error\n\u001b[1;32m    777\u001b[0m     )\n\u001b[1;32m    778\u001b[0m \u001b[39mreturn\u001b[39;00m resp\n",
      "\u001b[0;31mRateLimitError\u001b[0m: Rate limit reached for gpt-3.5-turbo in organization org-hlc7lWO9D9K29sQNyGlPfR55 on requests per min. Limit: 3 / min. Please try again in 20s. Visit https://platform.openai.com/account/rate-limits to learn more. You can increase your rate limit by adding a payment method to your account at https://platform.openai.com/account/billing."
     ]
    }
   ],
   "source": [
    "run_experiment(\n",
    "    \"famous_city\",\n",
    "    \"The user will input countries, respond with the mst famous city in this country\"\n",
    ")\n",
    "run_experiment(\n",
    "    \"directly_ask\",\n",
    "    \"What is the capital of the following country?\"\n",
    ")\n",
    "run_experiment(\n",
    "    \"asking_specifically\",\n",
    "    \"The user will input countries, respond with only the name of the capital\"\n",
    ")\n",
    "run_experiment(\n",
    "    \"asking_specifically_2nd_try\",\n",
    "    \"The user will input countries, respond with only the name of the capital. State only the name of the city.\"\n",
    ")"
   ]
  }
 ],
 "metadata": {
  "kernelspec": {
   "display_name": "ycliu",
   "language": "python",
   "name": "python3"
  },
  "language_info": {
   "codemirror_mode": {
    "name": "ipython",
    "version": 3
   },
   "file_extension": ".py",
   "mimetype": "text/x-python",
   "name": "python",
   "nbconvert_exporter": "python",
   "pygments_lexer": "ipython3",
   "version": "3.10.0"
  }
 },
 "nbformat": 4,
 "nbformat_minor": 2
}
