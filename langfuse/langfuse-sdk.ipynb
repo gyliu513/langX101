{
 "cells": [
  {
   "cell_type": "code",
   "execution_count": 2,
   "metadata": {},
   "outputs": [],
   "source": [
    "from langfuse.callback import CallbackHandler\n",
    "from dotenv import load_dotenv\n",
    "import os\n",
    "load_dotenv()\n",
    "\n",
    "public_key = os.getenv(\"ENV_PUBLIC_KEY\", None)\n",
    "secret_key = os.getenv(\"ENV_SECRET_KEY\", None)\n",
    "env_host = os.getenv(\"ENV_HOST\", None)"
   ]
  },
  {
   "cell_type": "code",
   "execution_count": 3,
   "metadata": {},
   "outputs": [],
   "source": [
    "from langfuse import Langfuse\n",
    " \n",
    "langfuse = Langfuse(public_key, secret_key, env_host, debug=True)"
   ]
  },
  {
   "cell_type": "code",
   "execution_count": 4,
   "metadata": {},
   "outputs": [
    {
     "data": {
      "text/plain": [
       "<langfuse.client.StatefulGenerationClient at 0x11457aef0>"
      ]
     },
     "execution_count": 4,
     "metadata": {},
     "output_type": "execute_result"
    }
   ],
   "source": [
    "from datetime import datetime\n",
    "from langfuse.model import InitialGeneration, Usage\n",
    " \n",
    "generationStartTime = datetime.now()\n",
    " \n",
    "# call to an LLM API\n",
    " \n",
    "langfuse.generation(InitialGeneration(\n",
    "    name=\"summary-generation\",\n",
    "    startTime=generationStartTime,\n",
    "    endTime=datetime.now(),\n",
    "    model=\"gpt-3.5-turbo\",\n",
    "    modelParameters={\"maxTokens\": \"1000\", \"temperature\": \"0.9\"},\n",
    "    prompt=[{\"role\": \"system\", \"content\": \"You are a helpful assistant.\"}, {\"role\": \"user\", \"content\": \"Please generate a summary of the following documents \\nThe engineering department defined the following OKR goals...\\nThe marketing department defined the following OKR goals...\"}],\n",
    "    completion=\"The Q3 OKRs contain goals for multiple teams...\",\n",
    "    usage=Usage(promptTokens=50, completionTokens = 49),\n",
    "    metadata={\"interface\": \"whatsapp\"}\n",
    "))"
   ]
  },
  {
   "cell_type": "code",
   "execution_count": 5,
   "metadata": {},
   "outputs": [
    {
     "data": {
      "text/plain": [
       "<langfuse.client.StatefulGenerationClient at 0x118131ba0>"
      ]
     },
     "execution_count": 5,
     "metadata": {},
     "output_type": "execute_result"
    }
   ],
   "source": [
    "from langfuse.model import CreateTrace, CreateSpan, CreateGeneration, CreateEvent\n",
    " \n",
    "trace = langfuse.trace(CreateTrace(name = \"llm-feature\"))\n",
    "retrieval = trace.span(CreateSpan(name = \"retrieval\"))\n",
    "retrieval.generation(CreateGeneration(name = \"query-creation\"))\n",
    "retrieval.span(CreateSpan(name = \"vector-db-search\"))\n",
    "retrieval.event(CreateEvent(name = \"db-summary\"))\n",
    "trace.generation(CreateGeneration(name = \"user-output\"))"
   ]
  },
  {
   "cell_type": "code",
   "execution_count": 6,
   "metadata": {},
   "outputs": [],
   "source": [
    "from langfuse.model import CreateTrace\n",
    " \n",
    "trace = langfuse.trace(CreateTrace(\n",
    "    name = \"docs-retrieval\",\n",
    "    userId = \"user__935d7d1d-8625-4ef4-8651-544613e7bd22\",\n",
    "    metadata = {\n",
    "        \"env\": \"production\",\n",
    "        \"email\": \"user@langfuse.com\",\n",
    "    }\n",
    "))"
   ]
  },
  {
   "cell_type": "code",
   "execution_count": 7,
   "metadata": {},
   "outputs": [],
   "source": [
    "from datetime import datetime\n",
    "from langfuse.model import CreateSpan, UpdateSpan\n",
    " \n",
    "retrievalStartTime = datetime.now()\n",
    " \n",
    "# retrieveDocs = retrieveDoc()\n",
    "# ...\n",
    " \n",
    "span = trace.span(CreateSpan(\n",
    "        name=\"embedding-search\",\n",
    "        startTime=retrievalStartTime,\n",
    "        endTime=datetime.now(),\n",
    "        metadata={\"database\": \"pinecone\"},\n",
    "        input = {'query': 'This document entails the OKR goals for ACME'},\n",
    "    )\n",
    ")"
   ]
  },
  {
   "cell_type": "code",
   "execution_count": 8,
   "metadata": {},
   "outputs": [],
   "source": [
    "span = span.update(UpdateSpan(\n",
    "        output = {\"response\": \"[{'name': 'OKR Engineering', 'content': 'The engineering department defined the following OKR goals...'},{'name': 'OKR Marketing', 'content': 'The marketing department defined the following OKR goals...'}]\"}\n",
    "    )\n",
    ")"
   ]
  },
  {
   "cell_type": "code",
   "execution_count": 9,
   "metadata": {},
   "outputs": [],
   "source": [
    "from langfuse.model import CreateGeneration, Usage, UpdateGeneration\n",
    " \n",
    "from datetime import datetime\n",
    " \n",
    "generationStartTime = datetime.now()\n",
    " \n",
    "# chat_completion = openai.ChatCompletion.create(model=\"gpt-3.5-turbo\", messages=[{\"role\": \"user\", \"content\": \"Hello world\"}])\n",
    "# ...\n",
    " \n",
    "generation = trace.generation(CreateGeneration(\n",
    "    name=\"summary-generation\",\n",
    "    startTime=generationStartTime,\n",
    "    endTime=datetime.now(),\n",
    "    model=\"gpt-3.5-turbo\",\n",
    "    modelParameters={\"maxTokens\": \"1000\", \"temperature\": \"0.9\"},\n",
    "    prompt=[{\"role\": \"system\", \"content\": \"You are a helpful assistant.\"}, {\"role\": \"user\", \"content\": \"Please generate a summary of the following documents \\nThe engineering department defined the following OKR goals...\\nThe marketing department defined the following OKR goals...\"}],\n",
    "    metadata={\"interface\": \"whatsapp\"}\n",
    "))"
   ]
  },
  {
   "cell_type": "code",
   "execution_count": 10,
   "metadata": {},
   "outputs": [
    {
     "data": {
      "text/plain": [
       "<langfuse.client.StatefulGenerationClient at 0x1145ec580>"
      ]
     },
     "execution_count": 10,
     "metadata": {},
     "output_type": "execute_result"
    }
   ],
   "source": [
    "generation.update(UpdateGeneration(\n",
    "    completion=\"The Q3 OKRs contain goals for multiple teams...\",\n",
    "    usage=Usage(promptTokens=50, completionTokens = 49),\n",
    "))"
   ]
  },
  {
   "cell_type": "code",
   "execution_count": 11,
   "metadata": {},
   "outputs": [],
   "source": [
    "from langfuse.model import CreateEvent\n",
    "from datetime import datetime\n",
    " \n",
    "event = span.event(CreateEvent(\n",
    "        name=\"chat-docs-retrieval\",\n",
    "        startTime=datetime.now(),\n",
    "        metadata={\"key\": \"value\"},\n",
    "        input = {\"key\": \"value\"},\n",
    "        output = {\"key\": \"value\"}\n",
    "    )\n",
    ")"
   ]
  },
  {
   "cell_type": "code",
   "execution_count": 12,
   "metadata": {},
   "outputs": [
    {
     "data": {
      "text/plain": [
       "<langfuse.client.StatefulClient at 0x11818b7c0>"
      ]
     },
     "execution_count": 12,
     "metadata": {},
     "output_type": "execute_result"
    }
   ],
   "source": [
    "from langfuse.model import CreateScore\n",
    " \n",
    "trace.score(CreateScore(\n",
    "    name=\"user-explicit-feedback\",\n",
    "    value=1,\n",
    "    comment=\"I like how personalized the response is\"\n",
    "))"
   ]
  }
 ],
 "metadata": {
  "kernelspec": {
   "display_name": "ycliu",
   "language": "python",
   "name": "python3"
  },
  "language_info": {
   "codemirror_mode": {
    "name": "ipython",
    "version": 3
   },
   "file_extension": ".py",
   "mimetype": "text/x-python",
   "name": "python",
   "nbconvert_exporter": "python",
   "pygments_lexer": "ipython3",
   "version": "3.10.0"
  }
 },
 "nbformat": 4,
 "nbformat_minor": 2
}
