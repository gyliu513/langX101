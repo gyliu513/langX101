{
 "cells": [
  {
   "cell_type": "code",
   "execution_count": 1,
   "metadata": {},
   "outputs": [
    {
     "name": "stdout",
     "output_type": "stream",
     "text": [
      "pk-lf-4e7c6dde-01b2-4cf3-81b6-fd37741cfb9c sk-lf-71c07a5a-a37a-4228-9788-1d7d06599dda11 None\n"
     ]
    }
   ],
   "source": [
    "from langfuse.callback import CallbackHandler\n",
    "from dotenv import load_dotenv\n",
    "import os\n",
    "load_dotenv()\n",
    "\n",
    "public_key = os.getenv(\"ENV_PUBLIC_KEY\", None)\n",
    "secret_key = os.getenv(\"ENV_SECRET_KEY\", None)\n",
    "env_host = os.getenv(\"ENV_HOST\", None)\n",
    "\n",
    "print(public_key, secret_key, env_host)"
   ]
  },
  {
   "cell_type": "code",
   "execution_count": 4,
   "metadata": {},
   "outputs": [],
   "source": [
    "from langfuse import Langfuse\n",
    " \n",
    "# langfuse = Langfuse(public_key, secret_key, env_host, debug=True)\n",
    "langfuse = Langfuse(public_key, secret_key, env_host)"
   ]
  },
  {
   "cell_type": "code",
   "execution_count": null,
   "metadata": {},
   "outputs": [
    {
     "data": {
      "text/plain": [
       "<langfuse.client.StatefulGenerationClient at 0x11f954fa0>"
      ]
     },
     "execution_count": 6,
     "metadata": {},
     "output_type": "execute_result"
    },
    {
     "name": "stderr",
     "output_type": "stream",
     "text": [
      "ERROR:langfuse:1 validation error for ParsingModel[str]\n",
      "__root__\n",
      "  str type expected (type=type_error.str)\n",
      "Traceback (most recent call last):\n",
      "  File \"/Users/guangyaliu/go/src/github.com/langfuse/langfuse-python/langfuse/client.py\", line 276, in create_trace\n",
      "    return self.client.trace.create(request=request)\n",
      "  File \"/Users/guangyaliu/go/src/github.com/langfuse/langfuse-python/langfuse/api/resources/trace/client.py\", line 53, in create\n",
      "    raise UnauthorizedError(pydantic.parse_obj_as(str, _response.json()))  # type: ignore\n",
      "  File \"pydantic/tools.py\", line 38, in pydantic.tools.parse_obj_as\n",
      "  File \"pydantic/main.py\", line 341, in pydantic.main.BaseModel.__init__\n",
      "pydantic.error_wrappers.ValidationError: 1 validation error for ParsingModel[str]\n",
      "__root__\n",
      "  str type expected (type=type_error.str)\n",
      "ERROR:langfuse:1 validation error for ParsingModel[str]\n",
      "__root__\n",
      "  str type expected (type=type_error.str)\n",
      "Traceback (most recent call last):\n",
      "  File \"/Users/guangyaliu/go/src/github.com/langfuse/langfuse-python/langfuse/client.py\", line 276, in create_trace\n",
      "    return self.client.trace.create(request=request)\n",
      "  File \"/Users/guangyaliu/go/src/github.com/langfuse/langfuse-python/langfuse/api/resources/trace/client.py\", line 53, in create\n",
      "    raise UnauthorizedError(pydantic.parse_obj_as(str, _response.json()))  # type: ignore\n",
      "  File \"pydantic/tools.py\", line 38, in pydantic.tools.parse_obj_as\n",
      "  File \"pydantic/main.py\", line 341, in pydantic.main.BaseModel.__init__\n",
      "pydantic.error_wrappers.ValidationError: 1 validation error for ParsingModel[str]\n",
      "__root__\n",
      "  str type expected (type=type_error.str)\n",
      "ERROR:langfuse:1 validation error for ParsingModel[str]\n",
      "__root__\n",
      "  str type expected (type=type_error.str)\n",
      "Traceback (most recent call last):\n",
      "  File \"/Users/guangyaliu/go/src/github.com/langfuse/langfuse-python/langfuse/client.py\", line 276, in create_trace\n",
      "    return self.client.trace.create(request=request)\n",
      "  File \"/Users/guangyaliu/go/src/github.com/langfuse/langfuse-python/langfuse/api/resources/trace/client.py\", line 53, in create\n",
      "    raise UnauthorizedError(pydantic.parse_obj_as(str, _response.json()))  # type: ignore\n",
      "  File \"pydantic/tools.py\", line 38, in pydantic.tools.parse_obj_as\n",
      "  File \"pydantic/main.py\", line 341, in pydantic.main.BaseModel.__init__\n",
      "pydantic.error_wrappers.ValidationError: 1 validation error for ParsingModel[str]\n",
      "__root__\n",
      "  str type expected (type=type_error.str)\n",
      "Giving up _execute_task_with_backoff(...) after 3 tries (pydantic.error_wrappers.ValidationError: 1 validation error for ParsingModel[str]\n",
      "__root__\n",
      "  str type expected (type=type_error.str))\n",
      "Giving up _execute_task_with_backoff(...) after 3 tries (pydantic.error_wrappers.ValidationError: 1 validation error for ParsingModel[str]\n",
      "__root__\n",
      "  str type expected (type=type_error.str))\n",
      "Giving up _execute_task_with_backoff(...) after 3 tries (pydantic.error_wrappers.ValidationError: 1 validation error for ParsingModel[str]\n",
      "__root__\n",
      "  str type expected (type=type_error.str))\n",
      "Giving up _execute_task_with_backoff(...) after 3 tries (pydantic.error_wrappers.ValidationError: 1 validation error for ParsingModel[str]\n",
      "__root__\n",
      "  str type expected (type=type_error.str))\n",
      "ERROR:backoff:Giving up _execute_task_with_backoff(...) after 3 tries (pydantic.error_wrappers.ValidationError: 1 validation error for ParsingModel[str]\n",
      "__root__\n",
      "  str type expected (type=type_error.str))\n",
      "WARNING:langfuse:Task eb10b20c-2ebd-4b53-97a6-130def8ee003 failed with exception 1 validation error for ParsingModel[str]\n",
      "__root__\n",
      "  str type expected (type=type_error.str) \n"
     ]
    },
    {
     "name": "stdout",
     "output_type": "stream",
     "text": [
      "-----------------------------------------------\n",
      "id='760f151f-84b4-4364-8347-29587fcde8f7' trace_id='eb10b20c-2ebd-4b53-97a6-130def8ee003' trace_id_type=None name='summary-generation' start_time=datetime.datetime(2023, 11, 2, 10, 54, 25, 164304) metadata={'interface': 'whatsapp'} input=None output=None level=None status_message=None parent_observation_id=None version=None end_time=datetime.datetime(2023, 11, 2, 10, 54, 25, 164393) completion_start_time=None model='gpt-3.5-turbo' model_parameters={'maxTokens': '1000', 'temperature': '0.9'} prompt=[{'role': 'system', 'content': 'You are a helpful assistant.'}, {'role': 'user', 'content': 'Please generate a summary of the following documents \\nThe engineering department defined the following OKR goals...\\nThe marketing department defined the following OKR goals...'}] completion='The Q3 OKRs contain goals for multiple teams...' usage=LlmUsage(prompt_tokens=50, completion_tokens=49, total_tokens=None)\n",
      "-----------------------------------------------\n"
     ]
    },
    {
     "name": "stderr",
     "output_type": "stream",
     "text": [
      "ERROR:langfuse:1 validation error for ParsingModel[str]\n",
      "__root__\n",
      "  str type expected (type=type_error.str)\n",
      "Traceback (most recent call last):\n",
      "  File \"/Users/guangyaliu/go/src/github.com/langfuse/langfuse-python/langfuse/client.py\", line 293, in create_generation\n",
      "    return self.client.generations.log(request=request)\n",
      "  File \"/Users/guangyaliu/go/src/github.com/langfuse/langfuse-python/langfuse/api/resources/generations/client.py\", line 52, in log\n",
      "    raise UnauthorizedError(pydantic.parse_obj_as(str, _response.json()))  # type: ignore\n",
      "  File \"pydantic/tools.py\", line 38, in pydantic.tools.parse_obj_as\n",
      "  File \"pydantic/main.py\", line 341, in pydantic.main.BaseModel.__init__\n",
      "pydantic.error_wrappers.ValidationError: 1 validation error for ParsingModel[str]\n",
      "__root__\n",
      "  str type expected (type=type_error.str)\n"
     ]
    },
    {
     "name": "stdout",
     "output_type": "stream",
     "text": [
      "-----------------------------------------------\n",
      "{'success': False, 'message': 'Invalid credentials'}\n",
      "-----------------------------------------------\n",
      "-----------------------------------------------\n",
      "id='760f151f-84b4-4364-8347-29587fcde8f7' trace_id='eb10b20c-2ebd-4b53-97a6-130def8ee003' trace_id_type=None name='summary-generation' start_time=datetime.datetime(2023, 11, 2, 10, 54, 25, 164304) metadata={'interface': 'whatsapp'} input=None output=None level=None status_message=None parent_observation_id=None version=None end_time=datetime.datetime(2023, 11, 2, 10, 54, 25, 164393) completion_start_time=None model='gpt-3.5-turbo' model_parameters={'maxTokens': '1000', 'temperature': '0.9'} prompt=[{'role': 'system', 'content': 'You are a helpful assistant.'}, {'role': 'user', 'content': 'Please generate a summary of the following documents \\nThe engineering department defined the following OKR goals...\\nThe marketing department defined the following OKR goals...'}] completion='The Q3 OKRs contain goals for multiple teams...' usage=LlmUsage(prompt_tokens=50, completion_tokens=49, total_tokens=None)\n",
      "-----------------------------------------------\n"
     ]
    },
    {
     "name": "stderr",
     "output_type": "stream",
     "text": [
      "ERROR:langfuse:1 validation error for ParsingModel[str]\n",
      "__root__\n",
      "  str type expected (type=type_error.str)\n",
      "Traceback (most recent call last):\n",
      "  File \"/Users/guangyaliu/go/src/github.com/langfuse/langfuse-python/langfuse/client.py\", line 293, in create_generation\n",
      "    return self.client.generations.log(request=request)\n",
      "  File \"/Users/guangyaliu/go/src/github.com/langfuse/langfuse-python/langfuse/api/resources/generations/client.py\", line 52, in log\n",
      "    raise UnauthorizedError(pydantic.parse_obj_as(str, _response.json()))  # type: ignore\n",
      "  File \"pydantic/tools.py\", line 38, in pydantic.tools.parse_obj_as\n",
      "  File \"pydantic/main.py\", line 341, in pydantic.main.BaseModel.__init__\n",
      "pydantic.error_wrappers.ValidationError: 1 validation error for ParsingModel[str]\n",
      "__root__\n",
      "  str type expected (type=type_error.str)\n"
     ]
    },
    {
     "name": "stdout",
     "output_type": "stream",
     "text": [
      "-----------------------------------------------\n",
      "{'success': False, 'message': 'Invalid credentials'}\n",
      "-----------------------------------------------\n",
      "-----------------------------------------------\n",
      "id='760f151f-84b4-4364-8347-29587fcde8f7' trace_id='eb10b20c-2ebd-4b53-97a6-130def8ee003' trace_id_type=None name='summary-generation' start_time=datetime.datetime(2023, 11, 2, 10, 54, 25, 164304) metadata={'interface': 'whatsapp'} input=None output=None level=None status_message=None parent_observation_id=None version=None end_time=datetime.datetime(2023, 11, 2, 10, 54, 25, 164393) completion_start_time=None model='gpt-3.5-turbo' model_parameters={'maxTokens': '1000', 'temperature': '0.9'} prompt=[{'role': 'system', 'content': 'You are a helpful assistant.'}, {'role': 'user', 'content': 'Please generate a summary of the following documents \\nThe engineering department defined the following OKR goals...\\nThe marketing department defined the following OKR goals...'}] completion='The Q3 OKRs contain goals for multiple teams...' usage=LlmUsage(prompt_tokens=50, completion_tokens=49, total_tokens=None)\n",
      "-----------------------------------------------\n"
     ]
    },
    {
     "name": "stderr",
     "output_type": "stream",
     "text": [
      "ERROR:langfuse:1 validation error for ParsingModel[str]\n",
      "__root__\n",
      "  str type expected (type=type_error.str)\n",
      "Traceback (most recent call last):\n",
      "  File \"/Users/guangyaliu/go/src/github.com/langfuse/langfuse-python/langfuse/client.py\", line 293, in create_generation\n",
      "    return self.client.generations.log(request=request)\n",
      "  File \"/Users/guangyaliu/go/src/github.com/langfuse/langfuse-python/langfuse/api/resources/generations/client.py\", line 52, in log\n",
      "    raise UnauthorizedError(pydantic.parse_obj_as(str, _response.json()))  # type: ignore\n",
      "  File \"pydantic/tools.py\", line 38, in pydantic.tools.parse_obj_as\n",
      "  File \"pydantic/main.py\", line 341, in pydantic.main.BaseModel.__init__\n",
      "pydantic.error_wrappers.ValidationError: 1 validation error for ParsingModel[str]\n",
      "__root__\n",
      "  str type expected (type=type_error.str)\n",
      "Giving up _execute_task_with_backoff(...) after 3 tries (pydantic.error_wrappers.ValidationError: 1 validation error for ParsingModel[str]\n",
      "__root__\n",
      "  str type expected (type=type_error.str))\n",
      "Giving up _execute_task_with_backoff(...) after 3 tries (pydantic.error_wrappers.ValidationError: 1 validation error for ParsingModel[str]\n",
      "__root__\n",
      "  str type expected (type=type_error.str))\n",
      "Giving up _execute_task_with_backoff(...) after 3 tries (pydantic.error_wrappers.ValidationError: 1 validation error for ParsingModel[str]\n",
      "__root__\n",
      "  str type expected (type=type_error.str))\n",
      "Giving up _execute_task_with_backoff(...) after 3 tries (pydantic.error_wrappers.ValidationError: 1 validation error for ParsingModel[str]\n",
      "__root__\n",
      "  str type expected (type=type_error.str))\n",
      "ERROR:backoff:Giving up _execute_task_with_backoff(...) after 3 tries (pydantic.error_wrappers.ValidationError: 1 validation error for ParsingModel[str]\n",
      "__root__\n",
      "  str type expected (type=type_error.str))\n",
      "WARNING:langfuse:Task 760f151f-84b4-4364-8347-29587fcde8f7 failed with exception 1 validation error for ParsingModel[str]\n",
      "__root__\n",
      "  str type expected (type=type_error.str) \n"
     ]
    },
    {
     "name": "stdout",
     "output_type": "stream",
     "text": [
      "-----------------------------------------------\n",
      "{'success': False, 'message': 'Invalid credentials'}\n",
      "-----------------------------------------------\n"
     ]
    }
   ],
   "source": [
    "from datetime import datetime\n",
    "from langfuse.model import InitialGeneration, Usage\n",
    " \n",
    "generationStartTime = datetime.now()\n",
    " \n",
    "# call to an LLM API\n",
    " \n",
    "langfuse.generation(InitialGeneration(\n",
    "    name=\"summary-generation\",\n",
    "    startTime=generationStartTime,\n",
    "    endTime=datetime.now(),\n",
    "    model=\"gpt-3.5-turbo\",\n",
    "    modelParameters={\"maxTokens\": \"1000\", \"temperature\": \"0.9\"},\n",
    "    prompt=[{\"role\": \"system\", \"content\": \"You are a helpful assistant.\"}, {\"role\": \"user\", \"content\": \"Please generate a summary of the following documents \\nThe engineering department defined the following OKR goals...\\nThe marketing department defined the following OKR goals...\"}],\n",
    "    completion=\"The Q3 OKRs contain goals for multiple teams...\",\n",
    "    usage=Usage(promptTokens=50, completionTokens = 49),\n",
    "    metadata={\"interface\": \"whatsapp\"}\n",
    "))"
   ]
  },
  {
   "cell_type": "code",
   "execution_count": 4,
   "metadata": {},
   "outputs": [
    {
     "data": {
      "text/plain": [
       "<langfuse.client.StatefulGenerationClient at 0x111406620>"
      ]
     },
     "execution_count": 4,
     "metadata": {},
     "output_type": "execute_result"
    }
   ],
   "source": [
    "from langfuse.model import CreateTrace, CreateSpan, CreateGeneration, CreateEvent\n",
    " \n",
    "trace = langfuse.trace(CreateTrace(name = \"llm-feature\"))\n",
    "retrieval = trace.span(CreateSpan(name = \"retrieval\"))\n",
    "retrieval.generation(CreateGeneration(name = \"query-creation\"))\n",
    "retrieval.span(CreateSpan(name = \"vector-db-search\"))\n",
    "retrieval.event(CreateEvent(name = \"db-summary\"))\n",
    "trace.generation(CreateGeneration(name = \"user-output\"))"
   ]
  },
  {
   "cell_type": "code",
   "execution_count": 41,
   "metadata": {},
   "outputs": [],
   "source": [
    "from langfuse.model import CreateTrace\n",
    " \n",
    "trace = langfuse.trace(CreateTrace(\n",
    "    name = \"docs-retrieval\",\n",
    "    userId = \"user__935d7d1d-8625-4ef4-8651-544613e7bd22\",\n",
    "    metadata = {\n",
    "        \"env\": \"production\",\n",
    "        \"email\": \"user@langfuse.com\",\n",
    "    }\n",
    "))"
   ]
  },
  {
   "cell_type": "code",
   "execution_count": 26,
   "metadata": {},
   "outputs": [],
   "source": [
    "from datetime import datetime\n",
    "from langfuse.model import CreateSpan, UpdateSpan\n",
    " \n",
    "retrievalStartTime = datetime.now()\n",
    " \n",
    "# retrieveDocs = retrieveDoc()\n",
    "# ...\n",
    " \n",
    "span = trace.span(CreateSpan(\n",
    "        name=\"embedding-search\",\n",
    "        startTime=retrievalStartTime,\n",
    "        endTime=datetime.now(),\n",
    "        metadata={\"database\": \"pinecone\"},\n",
    "        input = {'query': 'This document entails the OKR goals for ACME'},\n",
    "    )\n",
    ")"
   ]
  },
  {
   "cell_type": "code",
   "execution_count": 27,
   "metadata": {},
   "outputs": [],
   "source": [
    "span = span.update(UpdateSpan(\n",
    "        output = {\"response\": \"[{'name': 'OKR Engineering', 'content': 'The engineering department defined the following OKR goals...'},{'name': 'OKR Marketing', 'content': 'The marketing department defined the following OKR goals...'}]\"}\n",
    "    )\n",
    ")"
   ]
  },
  {
   "cell_type": "code",
   "execution_count": 9,
   "metadata": {},
   "outputs": [],
   "source": [
    "from langfuse.model import CreateGeneration, Usage, UpdateGeneration\n",
    " \n",
    "from datetime import datetime\n",
    " \n",
    "generationStartTime = datetime.now()\n",
    " \n",
    "# chat_completion = openai.ChatCompletion.create(model=\"gpt-3.5-turbo\", messages=[{\"role\": \"user\", \"content\": \"Hello world\"}])\n",
    "# ...\n",
    " \n",
    "generation = trace.generation(CreateGeneration(\n",
    "    name=\"summary-generation\",\n",
    "    startTime=generationStartTime,\n",
    "    endTime=datetime.now(),\n",
    "    model=\"gpt-3.5-turbo\",\n",
    "    modelParameters={\"maxTokens\": \"1000\", \"temperature\": \"0.9\"},\n",
    "    prompt=[{\"role\": \"system\", \"content\": \"You are a helpful assistant.\"}, {\"role\": \"user\", \"content\": \"Please generate a summary of the following documents \\nThe engineering department defined the following OKR goals...\\nThe marketing department defined the following OKR goals...\"}],\n",
    "    metadata={\"interface\": \"whatsapp\"}\n",
    "))"
   ]
  },
  {
   "cell_type": "code",
   "execution_count": 10,
   "metadata": {},
   "outputs": [
    {
     "data": {
      "text/plain": [
       "<langfuse.client.StatefulGenerationClient at 0x1145ec580>"
      ]
     },
     "execution_count": 10,
     "metadata": {},
     "output_type": "execute_result"
    }
   ],
   "source": [
    "generation.update(UpdateGeneration(\n",
    "    completion=\"The Q3 OKRs contain goals for multiple teams...\",\n",
    "    usage=Usage(promptTokens=50, completionTokens = 49),\n",
    "))"
   ]
  },
  {
   "cell_type": "code",
   "execution_count": 11,
   "metadata": {},
   "outputs": [],
   "source": [
    "from langfuse.model import CreateEvent\n",
    "from datetime import datetime\n",
    " \n",
    "event = span.event(CreateEvent(\n",
    "        name=\"chat-docs-retrieval\",\n",
    "        startTime=datetime.now(),\n",
    "        metadata={\"key\": \"value\"},\n",
    "        input = {\"key\": \"value\"},\n",
    "        output = {\"key\": \"value\"}\n",
    "    )\n",
    ")"
   ]
  },
  {
   "cell_type": "code",
   "execution_count": 12,
   "metadata": {},
   "outputs": [
    {
     "data": {
      "text/plain": [
       "<langfuse.client.StatefulClient at 0x11818b7c0>"
      ]
     },
     "execution_count": 12,
     "metadata": {},
     "output_type": "execute_result"
    }
   ],
   "source": [
    "from langfuse.model import CreateScore\n",
    " \n",
    "trace.score(CreateScore(\n",
    "    name=\"user-explicit-feedback\",\n",
    "    value=1,\n",
    "    comment=\"I like how personalized the response is\"\n",
    "))"
   ]
  },
  {
   "cell_type": "code",
   "execution_count": 15,
   "metadata": {},
   "outputs": [
    {
     "name": "stdout",
     "output_type": "stream",
     "text": [
      "Requirement already satisfied: fastapi in /Users/guangyaliu/ycliu/lib/python3.10/site-packages (0.103.2)\n",
      "Requirement already satisfied: anyio<4.0.0,>=3.7.1 in /Users/guangyaliu/ycliu/lib/python3.10/site-packages (from fastapi) (3.7.1)\n",
      "Requirement already satisfied: pydantic!=1.8,!=1.8.1,!=2.0.0,!=2.0.1,!=2.1.0,<3.0.0,>=1.7.4 in /Users/guangyaliu/ycliu/lib/python3.10/site-packages (from fastapi) (1.10.13)\n",
      "Requirement already satisfied: starlette<0.28.0,>=0.27.0 in /Users/guangyaliu/ycliu/lib/python3.10/site-packages (from fastapi) (0.27.0)\n",
      "Requirement already satisfied: typing-extensions>=4.5.0 in /Users/guangyaliu/ycliu/lib/python3.10/site-packages (from fastapi) (4.8.0)\n",
      "Requirement already satisfied: idna>=2.8 in /Users/guangyaliu/ycliu/lib/python3.10/site-packages (from anyio<4.0.0,>=3.7.1->fastapi) (3.4)\n",
      "Requirement already satisfied: sniffio>=1.1 in /Users/guangyaliu/ycliu/lib/python3.10/site-packages (from anyio<4.0.0,>=3.7.1->fastapi) (1.3.0)\n",
      "Requirement already satisfied: exceptiongroup in /Users/guangyaliu/ycliu/lib/python3.10/site-packages (from anyio<4.0.0,>=3.7.1->fastapi) (1.1.3)\n"
     ]
    }
   ],
   "source": [
    "!pip install fastapi"
   ]
  },
  {
   "cell_type": "code",
   "execution_count": 16,
   "metadata": {},
   "outputs": [],
   "source": [
    "from contextlib import asynccontextmanager\n",
    "from fastapi import FastAPI, Query, BackgroundTasks\n",
    "from langfuse.model import InitialGeneration\n",
    " \n",
    " \n",
    "@asynccontextmanager\n",
    "async def lifespan(app: FastAPI):\n",
    "    # Operation on startup\n",
    " \n",
    "    yield  # wait until shutdown\n",
    " \n",
    "    # Flush all events to be sent to Langfuse on shutdown and terminate all Threads gracefully. This operation is blocking.\n",
    "    langfuse.flush()\n",
    " \n",
    " \n",
    "app = FastAPI(lifespan=lifespan)"
   ]
  },
  {
   "cell_type": "code",
   "execution_count": 17,
   "metadata": {},
   "outputs": [],
   "source": [
    "langfuse = Langfuse(public_key, secret_key, env_host, debug=True)\n",
    " \n",
    "@app.get(\"/generate/\",tags=[\"APIs\"])\n",
    "async def campaign(prompt: str = Query(..., max_length=20)):\n",
    "  # call to a LLM\n",
    "  generation = langfuse.generation(\n",
    "      InitialGeneration(name=\"llm-feature\", metadata=\"test\", prompt=prompt)\n",
    "  )\n",
    "  return True"
   ]
  }
 ],
 "metadata": {
  "kernelspec": {
   "display_name": "ycliu",
   "language": "python",
   "name": "python3"
  },
  "language_info": {
   "codemirror_mode": {
    "name": "ipython",
    "version": 3
   },
   "file_extension": ".py",
   "mimetype": "text/x-python",
   "name": "python",
   "nbconvert_exporter": "python",
   "pygments_lexer": "ipython3",
   "version": "3.10.0"
  }
 },
 "nbformat": 4,
 "nbformat_minor": 2
}
