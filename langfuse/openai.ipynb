{
 "cells": [
  {
   "cell_type": "code",
   "execution_count": 2,
   "metadata": {},
   "outputs": [
    {
     "name": "stdout",
     "output_type": "stream",
     "text": [
      "Requirement already satisfied: langfuse in /Users/guangyaliu/ycliu/lib/python3.10/site-packages (1.1.2)\n",
      "Requirement already satisfied: openai in /Users/guangyaliu/ycliu/lib/python3.10/site-packages (0.28.1)\n",
      "Requirement already satisfied: attrs>=21.3.0 in /Users/guangyaliu/ycliu/lib/python3.10/site-packages (from langfuse) (23.1.0)\n",
      "Requirement already satisfied: backoff<3.0.0,>=2.2.1 in /Users/guangyaliu/ycliu/lib/python3.10/site-packages (from langfuse) (2.2.1)\n",
      "Requirement already satisfied: httpx<0.25.0,>=0.15.4 in /Users/guangyaliu/ycliu/lib/python3.10/site-packages (from langfuse) (0.24.1)\n",
      "Requirement already satisfied: langchain<0.0.321,>=0.0.309 in /Users/guangyaliu/ycliu/lib/python3.10/site-packages (from langfuse) (0.0.317)\n",
      "Requirement already satisfied: pydantic<2.0,>=1.10.7 in /Users/guangyaliu/ycliu/lib/python3.10/site-packages (from langfuse) (1.10.13)\n",
      "Requirement already satisfied: python-dateutil<3.0,>=2.8.0 in /Users/guangyaliu/ycliu/lib/python3.10/site-packages (from langfuse) (2.8.2)\n",
      "Requirement already satisfied: pytz<2024.0,>=2023.3 in /Users/guangyaliu/ycliu/lib/python3.10/site-packages (from langfuse) (2023.3.post1)\n",
      "Requirement already satisfied: requests>=2.20 in /Users/guangyaliu/ycliu/lib/python3.10/site-packages (from openai) (2.31.0)\n",
      "Requirement already satisfied: tqdm in /Users/guangyaliu/ycliu/lib/python3.10/site-packages (from openai) (4.66.1)\n",
      "Requirement already satisfied: aiohttp in /Users/guangyaliu/ycliu/lib/python3.10/site-packages (from openai) (3.8.5)\n",
      "Requirement already satisfied: certifi in /Users/guangyaliu/ycliu/lib/python3.10/site-packages (from httpx<0.25.0,>=0.15.4->langfuse) (2023.7.22)\n",
      "Requirement already satisfied: httpcore<0.18.0,>=0.15.0 in /Users/guangyaliu/ycliu/lib/python3.10/site-packages (from httpx<0.25.0,>=0.15.4->langfuse) (0.17.3)\n",
      "Requirement already satisfied: idna in /Users/guangyaliu/ycliu/lib/python3.10/site-packages (from httpx<0.25.0,>=0.15.4->langfuse) (3.4)\n",
      "Requirement already satisfied: sniffio in /Users/guangyaliu/ycliu/lib/python3.10/site-packages (from httpx<0.25.0,>=0.15.4->langfuse) (1.3.0)\n",
      "Requirement already satisfied: PyYAML>=5.3 in /Users/guangyaliu/ycliu/lib/python3.10/site-packages (from langchain<0.0.321,>=0.0.309->langfuse) (6.0.1)\n",
      "Requirement already satisfied: SQLAlchemy<3,>=1.4 in /Users/guangyaliu/ycliu/lib/python3.10/site-packages (from langchain<0.0.321,>=0.0.309->langfuse) (2.0.21)\n",
      "Requirement already satisfied: anyio<4.0 in /Users/guangyaliu/ycliu/lib/python3.10/site-packages (from langchain<0.0.321,>=0.0.309->langfuse) (3.7.1)\n",
      "Requirement already satisfied: async-timeout<5.0.0,>=4.0.0 in /Users/guangyaliu/ycliu/lib/python3.10/site-packages (from langchain<0.0.321,>=0.0.309->langfuse) (4.0.3)\n",
      "Requirement already satisfied: dataclasses-json<0.7,>=0.5.7 in /Users/guangyaliu/ycliu/lib/python3.10/site-packages (from langchain<0.0.321,>=0.0.309->langfuse) (0.6.1)\n",
      "Requirement already satisfied: jsonpatch<2.0,>=1.33 in /Users/guangyaliu/ycliu/lib/python3.10/site-packages (from langchain<0.0.321,>=0.0.309->langfuse) (1.33)\n",
      "Requirement already satisfied: langsmith<0.1.0,>=0.0.43 in /Users/guangyaliu/ycliu/lib/python3.10/site-packages (from langchain<0.0.321,>=0.0.309->langfuse) (0.0.51)\n",
      "Requirement already satisfied: numpy<2,>=1 in /Users/guangyaliu/ycliu/lib/python3.10/site-packages (from langchain<0.0.321,>=0.0.309->langfuse) (1.24.4)\n",
      "Requirement already satisfied: tenacity<9.0.0,>=8.1.0 in /Users/guangyaliu/ycliu/lib/python3.10/site-packages (from langchain<0.0.321,>=0.0.309->langfuse) (8.2.3)\n",
      "Requirement already satisfied: charset-normalizer<4.0,>=2.0 in /Users/guangyaliu/ycliu/lib/python3.10/site-packages (from aiohttp->openai) (3.3.0)\n",
      "Requirement already satisfied: multidict<7.0,>=4.5 in /Users/guangyaliu/ycliu/lib/python3.10/site-packages (from aiohttp->openai) (6.0.4)\n",
      "Requirement already satisfied: yarl<2.0,>=1.0 in /Users/guangyaliu/ycliu/lib/python3.10/site-packages (from aiohttp->openai) (1.9.2)\n",
      "Requirement already satisfied: frozenlist>=1.1.1 in /Users/guangyaliu/ycliu/lib/python3.10/site-packages (from aiohttp->openai) (1.4.0)\n",
      "Requirement already satisfied: aiosignal>=1.1.2 in /Users/guangyaliu/ycliu/lib/python3.10/site-packages (from aiohttp->openai) (1.3.1)\n",
      "Requirement already satisfied: typing-extensions>=4.2.0 in /Users/guangyaliu/ycliu/lib/python3.10/site-packages (from pydantic<2.0,>=1.10.7->langfuse) (4.8.0)\n",
      "Requirement already satisfied: six>=1.5 in /Users/guangyaliu/ycliu/lib/python3.10/site-packages (from python-dateutil<3.0,>=2.8.0->langfuse) (1.16.0)\n",
      "Requirement already satisfied: urllib3<3,>=1.21.1 in /Users/guangyaliu/ycliu/lib/python3.10/site-packages (from requests>=2.20->openai) (2.0.6)\n",
      "Requirement already satisfied: exceptiongroup in /Users/guangyaliu/ycliu/lib/python3.10/site-packages (from anyio<4.0->langchain<0.0.321,>=0.0.309->langfuse) (1.1.3)\n",
      "Requirement already satisfied: marshmallow<4.0.0,>=3.18.0 in /Users/guangyaliu/ycliu/lib/python3.10/site-packages (from dataclasses-json<0.7,>=0.5.7->langchain<0.0.321,>=0.0.309->langfuse) (3.20.1)\n",
      "Requirement already satisfied: typing-inspect<1,>=0.4.0 in /Users/guangyaliu/ycliu/lib/python3.10/site-packages (from dataclasses-json<0.7,>=0.5.7->langchain<0.0.321,>=0.0.309->langfuse) (0.9.0)\n",
      "Requirement already satisfied: h11<0.15,>=0.13 in /Users/guangyaliu/ycliu/lib/python3.10/site-packages (from httpcore<0.18.0,>=0.15.0->httpx<0.25.0,>=0.15.4->langfuse) (0.14.0)\n",
      "Requirement already satisfied: jsonpointer>=1.9 in /Users/guangyaliu/ycliu/lib/python3.10/site-packages (from jsonpatch<2.0,>=1.33->langchain<0.0.321,>=0.0.309->langfuse) (2.4)\n",
      "Requirement already satisfied: greenlet!=0.4.17 in /Users/guangyaliu/ycliu/lib/python3.10/site-packages (from SQLAlchemy<3,>=1.4->langchain<0.0.321,>=0.0.309->langfuse) (3.0.0)\n",
      "Requirement already satisfied: packaging>=17.0 in /Users/guangyaliu/ycliu/lib/python3.10/site-packages (from marshmallow<4.0.0,>=3.18.0->dataclasses-json<0.7,>=0.5.7->langchain<0.0.321,>=0.0.309->langfuse) (23.2)\n",
      "Requirement already satisfied: mypy-extensions>=0.3.0 in /Users/guangyaliu/ycliu/lib/python3.10/site-packages (from typing-inspect<1,>=0.4.0->dataclasses-json<0.7,>=0.5.7->langchain<0.0.321,>=0.0.309->langfuse) (1.0.0)\n",
      "\n",
      "\u001b[1m[\u001b[0m\u001b[34;49mnotice\u001b[0m\u001b[1;39;49m]\u001b[0m\u001b[39;49m A new release of pip is available: \u001b[0m\u001b[31;49m23.2.1\u001b[0m\u001b[39;49m -> \u001b[0m\u001b[32;49m23.3.1\u001b[0m\n",
      "\u001b[1m[\u001b[0m\u001b[34;49mnotice\u001b[0m\u001b[1;39;49m]\u001b[0m\u001b[39;49m To update, run: \u001b[0m\u001b[32;49mpip install --upgrade pip\u001b[0m\n"
     ]
    }
   ],
   "source": [
    "!pip install langfuse openai --upgrade"
   ]
  },
  {
   "cell_type": "code",
   "execution_count": 6,
   "metadata": {},
   "outputs": [
    {
     "data": {
      "text/plain": [
       "True"
      ]
     },
     "execution_count": 6,
     "metadata": {},
     "output_type": "execute_result"
    }
   ],
   "source": [
    "from dotenv import load_dotenv\n",
    "import os\n",
    "load_dotenv()"
   ]
  },
  {
   "cell_type": "code",
   "execution_count": 8,
   "metadata": {},
   "outputs": [
    {
     "ename": "AuthenticationError",
     "evalue": "No API key provided. You can set your API key in code using 'openai.api_key = <API-KEY>', or you can set the environment variable OPENAI_API_KEY=<API-KEY>). If your API key is stored in a file, you can point the openai module at it with 'openai.api_key_path = <PATH>'. You can generate API keys in the OpenAI web interface. See https://platform.openai.com/account/api-keys for details.",
     "output_type": "error",
     "traceback": [
      "\u001b[0;31m---------------------------------------------------------------------------\u001b[0m",
      "\u001b[0;31mAuthenticationError\u001b[0m                       Traceback (most recent call last)",
      "\u001b[1;32m/Users/guangyaliu/go/src/github.com/gyliu513/langX101/langfuse/openai.ipynb Cell 3\u001b[0m line \u001b[0;36m3\n\u001b[1;32m      <a href='vscode-notebook-cell:/Users/guangyaliu/go/src/github.com/gyliu513/langX101/langfuse/openai.ipynb#W1sZmlsZQ%3D%3D?line=0'>1</a>\u001b[0m \u001b[39mfrom\u001b[39;00m \u001b[39mlangfuse\u001b[39;00m\u001b[39m.\u001b[39;00m\u001b[39mopenai\u001b[39;00m \u001b[39mimport\u001b[39;00m openai\n\u001b[0;32m----> <a href='vscode-notebook-cell:/Users/guangyaliu/go/src/github.com/gyliu513/langX101/langfuse/openai.ipynb#W1sZmlsZQ%3D%3D?line=2'>3</a>\u001b[0m completion \u001b[39m=\u001b[39m openai\u001b[39m.\u001b[39;49mChatCompletion\u001b[39m.\u001b[39;49mcreate(\n\u001b[1;32m      <a href='vscode-notebook-cell:/Users/guangyaliu/go/src/github.com/gyliu513/langX101/langfuse/openai.ipynb#W1sZmlsZQ%3D%3D?line=3'>4</a>\u001b[0m   name\u001b[39m=\u001b[39;49m\u001b[39m\"\u001b[39;49m\u001b[39mtest-chat\u001b[39;49m\u001b[39m\"\u001b[39;49m,\n\u001b[1;32m      <a href='vscode-notebook-cell:/Users/guangyaliu/go/src/github.com/gyliu513/langX101/langfuse/openai.ipynb#W1sZmlsZQ%3D%3D?line=4'>5</a>\u001b[0m   model\u001b[39m=\u001b[39;49m\u001b[39m\"\u001b[39;49m\u001b[39mgpt-3.5-turbo\u001b[39;49m\u001b[39m\"\u001b[39;49m,\n\u001b[1;32m      <a href='vscode-notebook-cell:/Users/guangyaliu/go/src/github.com/gyliu513/langX101/langfuse/openai.ipynb#W1sZmlsZQ%3D%3D?line=5'>6</a>\u001b[0m   messages\u001b[39m=\u001b[39;49m[\n\u001b[1;32m      <a href='vscode-notebook-cell:/Users/guangyaliu/go/src/github.com/gyliu513/langX101/langfuse/openai.ipynb#W1sZmlsZQ%3D%3D?line=6'>7</a>\u001b[0m       {\u001b[39m\"\u001b[39;49m\u001b[39mrole\u001b[39;49m\u001b[39m\"\u001b[39;49m: \u001b[39m\"\u001b[39;49m\u001b[39msystem\u001b[39;49m\u001b[39m\"\u001b[39;49m, \u001b[39m\"\u001b[39;49m\u001b[39mcontent\u001b[39;49m\u001b[39m\"\u001b[39;49m: \u001b[39m\"\u001b[39;49m\u001b[39mYou are a very accurate calculator. You output only the result of the calculation.\u001b[39;49m\u001b[39m\"\u001b[39;49m},\n\u001b[1;32m      <a href='vscode-notebook-cell:/Users/guangyaliu/go/src/github.com/gyliu513/langX101/langfuse/openai.ipynb#W1sZmlsZQ%3D%3D?line=7'>8</a>\u001b[0m       {\u001b[39m\"\u001b[39;49m\u001b[39mrole\u001b[39;49m\u001b[39m\"\u001b[39;49m: \u001b[39m\"\u001b[39;49m\u001b[39muser\u001b[39;49m\u001b[39m\"\u001b[39;49m, \u001b[39m\"\u001b[39;49m\u001b[39mcontent\u001b[39;49m\u001b[39m\"\u001b[39;49m: \u001b[39m\"\u001b[39;49m\u001b[39m1 + 1 = \u001b[39;49m\u001b[39m\"\u001b[39;49m}],\n\u001b[1;32m      <a href='vscode-notebook-cell:/Users/guangyaliu/go/src/github.com/gyliu513/langX101/langfuse/openai.ipynb#W1sZmlsZQ%3D%3D?line=8'>9</a>\u001b[0m   temperature\u001b[39m=\u001b[39;49m\u001b[39m0\u001b[39;49m,\n\u001b[1;32m     <a href='vscode-notebook-cell:/Users/guangyaliu/go/src/github.com/gyliu513/langX101/langfuse/openai.ipynb#W1sZmlsZQ%3D%3D?line=9'>10</a>\u001b[0m   metadata\u001b[39m=\u001b[39;49m{\u001b[39m\"\u001b[39;49m\u001b[39msomeMetadataKey\u001b[39;49m\u001b[39m\"\u001b[39;49m: \u001b[39m\"\u001b[39;49m\u001b[39msomeValue\u001b[39;49m\u001b[39m\"\u001b[39;49m},\n\u001b[1;32m     <a href='vscode-notebook-cell:/Users/guangyaliu/go/src/github.com/gyliu513/langX101/langfuse/openai.ipynb#W1sZmlsZQ%3D%3D?line=10'>11</a>\u001b[0m )\n",
      "File \u001b[0;32m~/ycliu/lib/python3.10/site-packages/langfuse/openai.py:112\u001b[0m, in \u001b[0;36mOpenAILangfuse.langfuse_modified.<locals>.wrapper\u001b[0;34m(*args, **kwargs)\u001b[0m\n\u001b[1;32m    110\u001b[0m     call_details[\u001b[39m\"\u001b[39m\u001b[39mstartTime\u001b[39m\u001b[39m\"\u001b[39m] \u001b[39m=\u001b[39m startTime\n\u001b[1;32m    111\u001b[0m \u001b[39mexcept\u001b[39;00m \u001b[39mException\u001b[39;00m \u001b[39mas\u001b[39;00m ex:\n\u001b[0;32m--> 112\u001b[0m     \u001b[39mraise\u001b[39;00m ex\n\u001b[1;32m    114\u001b[0m \u001b[39mreturn\u001b[39;00m \u001b[39mself\u001b[39m\u001b[39m.\u001b[39m_log_result(result, call_details)\n",
      "File \u001b[0;32m~/ycliu/lib/python3.10/site-packages/langfuse/openai.py:108\u001b[0m, in \u001b[0;36mOpenAILangfuse.langfuse_modified.<locals>.wrapper\u001b[0;34m(*args, **kwargs)\u001b[0m\n\u001b[1;32m    106\u001b[0m startTime \u001b[39m=\u001b[39m datetime\u001b[39m.\u001b[39mnow()\n\u001b[1;32m    107\u001b[0m arg_extractor \u001b[39m=\u001b[39m CreateArgsExtractor(\u001b[39m*\u001b[39margs, \u001b[39m*\u001b[39m\u001b[39m*\u001b[39mkwargs)\n\u001b[0;32m--> 108\u001b[0m result \u001b[39m=\u001b[39m func(\u001b[39m*\u001b[39;49m\u001b[39m*\u001b[39;49marg_extractor\u001b[39m.\u001b[39;49mget_openai_args())\n\u001b[1;32m    109\u001b[0m call_details \u001b[39m=\u001b[39m \u001b[39mself\u001b[39m\u001b[39m.\u001b[39m_get_call_details(result, \u001b[39m*\u001b[39m\u001b[39m*\u001b[39marg_extractor\u001b[39m.\u001b[39mget_langfuse_args())\n\u001b[1;32m    110\u001b[0m call_details[\u001b[39m\"\u001b[39m\u001b[39mstartTime\u001b[39m\u001b[39m\"\u001b[39m] \u001b[39m=\u001b[39m startTime\n",
      "File \u001b[0;32m~/ycliu/lib/python3.10/site-packages/openai/api_resources/chat_completion.py:25\u001b[0m, in \u001b[0;36mChatCompletion.create\u001b[0;34m(cls, *args, **kwargs)\u001b[0m\n\u001b[1;32m     23\u001b[0m \u001b[39mwhile\u001b[39;00m \u001b[39mTrue\u001b[39;00m:\n\u001b[1;32m     24\u001b[0m     \u001b[39mtry\u001b[39;00m:\n\u001b[0;32m---> 25\u001b[0m         \u001b[39mreturn\u001b[39;00m \u001b[39msuper\u001b[39;49m()\u001b[39m.\u001b[39;49mcreate(\u001b[39m*\u001b[39;49margs, \u001b[39m*\u001b[39;49m\u001b[39m*\u001b[39;49mkwargs)\n\u001b[1;32m     26\u001b[0m     \u001b[39mexcept\u001b[39;00m TryAgain \u001b[39mas\u001b[39;00m e:\n\u001b[1;32m     27\u001b[0m         \u001b[39mif\u001b[39;00m timeout \u001b[39mis\u001b[39;00m \u001b[39mnot\u001b[39;00m \u001b[39mNone\u001b[39;00m \u001b[39mand\u001b[39;00m time\u001b[39m.\u001b[39mtime() \u001b[39m>\u001b[39m start \u001b[39m+\u001b[39m timeout:\n",
      "File \u001b[0;32m~/ycliu/lib/python3.10/site-packages/openai/api_resources/abstract/engine_api_resource.py:151\u001b[0m, in \u001b[0;36mEngineAPIResource.create\u001b[0;34m(cls, api_key, api_base, api_type, request_id, api_version, organization, **params)\u001b[0m\n\u001b[1;32m    129\u001b[0m \u001b[39m@classmethod\u001b[39m\n\u001b[1;32m    130\u001b[0m \u001b[39mdef\u001b[39;00m \u001b[39mcreate\u001b[39m(\n\u001b[1;32m    131\u001b[0m     \u001b[39mcls\u001b[39m,\n\u001b[0;32m   (...)\u001b[0m\n\u001b[1;32m    138\u001b[0m     \u001b[39m*\u001b[39m\u001b[39m*\u001b[39mparams,\n\u001b[1;32m    139\u001b[0m ):\n\u001b[1;32m    140\u001b[0m     (\n\u001b[1;32m    141\u001b[0m         deployment_id,\n\u001b[1;32m    142\u001b[0m         engine,\n\u001b[1;32m    143\u001b[0m         timeout,\n\u001b[1;32m    144\u001b[0m         stream,\n\u001b[1;32m    145\u001b[0m         headers,\n\u001b[1;32m    146\u001b[0m         request_timeout,\n\u001b[1;32m    147\u001b[0m         typed_api_type,\n\u001b[1;32m    148\u001b[0m         requestor,\n\u001b[1;32m    149\u001b[0m         url,\n\u001b[1;32m    150\u001b[0m         params,\n\u001b[0;32m--> 151\u001b[0m     ) \u001b[39m=\u001b[39m \u001b[39mcls\u001b[39;49m\u001b[39m.\u001b[39;49m__prepare_create_request(\n\u001b[1;32m    152\u001b[0m         api_key, api_base, api_type, api_version, organization, \u001b[39m*\u001b[39;49m\u001b[39m*\u001b[39;49mparams\n\u001b[1;32m    153\u001b[0m     )\n\u001b[1;32m    155\u001b[0m     response, _, api_key \u001b[39m=\u001b[39m requestor\u001b[39m.\u001b[39mrequest(\n\u001b[1;32m    156\u001b[0m         \u001b[39m\"\u001b[39m\u001b[39mpost\u001b[39m\u001b[39m\"\u001b[39m,\n\u001b[1;32m    157\u001b[0m         url,\n\u001b[0;32m   (...)\u001b[0m\n\u001b[1;32m    162\u001b[0m         request_timeout\u001b[39m=\u001b[39mrequest_timeout,\n\u001b[1;32m    163\u001b[0m     )\n\u001b[1;32m    165\u001b[0m     \u001b[39mif\u001b[39;00m stream:\n\u001b[1;32m    166\u001b[0m         \u001b[39m# must be an iterator\u001b[39;00m\n",
      "File \u001b[0;32m~/ycliu/lib/python3.10/site-packages/openai/api_resources/abstract/engine_api_resource.py:108\u001b[0m, in \u001b[0;36mEngineAPIResource.__prepare_create_request\u001b[0;34m(cls, api_key, api_base, api_type, api_version, organization, **params)\u001b[0m\n\u001b[1;32m    105\u001b[0m \u001b[39melif\u001b[39;00m timeout \u001b[39m==\u001b[39m \u001b[39m0\u001b[39m:\n\u001b[1;32m    106\u001b[0m     params[\u001b[39m\"\u001b[39m\u001b[39mtimeout\u001b[39m\u001b[39m\"\u001b[39m] \u001b[39m=\u001b[39m MAX_TIMEOUT\n\u001b[0;32m--> 108\u001b[0m requestor \u001b[39m=\u001b[39m api_requestor\u001b[39m.\u001b[39;49mAPIRequestor(\n\u001b[1;32m    109\u001b[0m     api_key,\n\u001b[1;32m    110\u001b[0m     api_base\u001b[39m=\u001b[39;49mapi_base,\n\u001b[1;32m    111\u001b[0m     api_type\u001b[39m=\u001b[39;49mapi_type,\n\u001b[1;32m    112\u001b[0m     api_version\u001b[39m=\u001b[39;49mapi_version,\n\u001b[1;32m    113\u001b[0m     organization\u001b[39m=\u001b[39;49morganization,\n\u001b[1;32m    114\u001b[0m )\n\u001b[1;32m    115\u001b[0m url \u001b[39m=\u001b[39m \u001b[39mcls\u001b[39m\u001b[39m.\u001b[39mclass_url(engine, api_type, api_version)\n\u001b[1;32m    116\u001b[0m \u001b[39mreturn\u001b[39;00m (\n\u001b[1;32m    117\u001b[0m     deployment_id,\n\u001b[1;32m    118\u001b[0m     engine,\n\u001b[0;32m   (...)\u001b[0m\n\u001b[1;32m    126\u001b[0m     params,\n\u001b[1;32m    127\u001b[0m )\n",
      "File \u001b[0;32m~/ycliu/lib/python3.10/site-packages/openai/api_requestor.py:139\u001b[0m, in \u001b[0;36mAPIRequestor.__init__\u001b[0;34m(self, key, api_base, api_type, api_version, organization)\u001b[0m\n\u001b[1;32m    130\u001b[0m \u001b[39mdef\u001b[39;00m \u001b[39m__init__\u001b[39m(\n\u001b[1;32m    131\u001b[0m     \u001b[39mself\u001b[39m,\n\u001b[1;32m    132\u001b[0m     key\u001b[39m=\u001b[39m\u001b[39mNone\u001b[39;00m,\n\u001b[0;32m   (...)\u001b[0m\n\u001b[1;32m    136\u001b[0m     organization\u001b[39m=\u001b[39m\u001b[39mNone\u001b[39;00m,\n\u001b[1;32m    137\u001b[0m ):\n\u001b[1;32m    138\u001b[0m     \u001b[39mself\u001b[39m\u001b[39m.\u001b[39mapi_base \u001b[39m=\u001b[39m api_base \u001b[39mor\u001b[39;00m openai\u001b[39m.\u001b[39mapi_base\n\u001b[0;32m--> 139\u001b[0m     \u001b[39mself\u001b[39m\u001b[39m.\u001b[39mapi_key \u001b[39m=\u001b[39m key \u001b[39mor\u001b[39;00m util\u001b[39m.\u001b[39;49mdefault_api_key()\n\u001b[1;32m    140\u001b[0m     \u001b[39mself\u001b[39m\u001b[39m.\u001b[39mapi_type \u001b[39m=\u001b[39m (\n\u001b[1;32m    141\u001b[0m         ApiType\u001b[39m.\u001b[39mfrom_str(api_type)\n\u001b[1;32m    142\u001b[0m         \u001b[39mif\u001b[39;00m api_type\n\u001b[1;32m    143\u001b[0m         \u001b[39melse\u001b[39;00m ApiType\u001b[39m.\u001b[39mfrom_str(openai\u001b[39m.\u001b[39mapi_type)\n\u001b[1;32m    144\u001b[0m     )\n\u001b[1;32m    145\u001b[0m     \u001b[39mself\u001b[39m\u001b[39m.\u001b[39mapi_version \u001b[39m=\u001b[39m api_version \u001b[39mor\u001b[39;00m openai\u001b[39m.\u001b[39mapi_version\n",
      "File \u001b[0;32m~/ycliu/lib/python3.10/site-packages/openai/util.py:186\u001b[0m, in \u001b[0;36mdefault_api_key\u001b[0;34m()\u001b[0m\n\u001b[1;32m    184\u001b[0m     \u001b[39mreturn\u001b[39;00m openai\u001b[39m.\u001b[39mapi_key\n\u001b[1;32m    185\u001b[0m \u001b[39melse\u001b[39;00m:\n\u001b[0;32m--> 186\u001b[0m     \u001b[39mraise\u001b[39;00m openai\u001b[39m.\u001b[39merror\u001b[39m.\u001b[39mAuthenticationError(\n\u001b[1;32m    187\u001b[0m         \u001b[39m\"\u001b[39m\u001b[39mNo API key provided. You can set your API key in code using \u001b[39m\u001b[39m'\u001b[39m\u001b[39mopenai.api_key = <API-KEY>\u001b[39m\u001b[39m'\u001b[39m\u001b[39m, or you can set the environment variable OPENAI_API_KEY=<API-KEY>). If your API key is stored in a file, you can point the openai module at it with \u001b[39m\u001b[39m'\u001b[39m\u001b[39mopenai.api_key_path = <PATH>\u001b[39m\u001b[39m'\u001b[39m\u001b[39m. You can generate API keys in the OpenAI web interface. See https://platform.openai.com/account/api-keys for details.\u001b[39m\u001b[39m\"\u001b[39m\n\u001b[1;32m    188\u001b[0m     )\n",
      "\u001b[0;31mAuthenticationError\u001b[0m: No API key provided. You can set your API key in code using 'openai.api_key = <API-KEY>', or you can set the environment variable OPENAI_API_KEY=<API-KEY>). If your API key is stored in a file, you can point the openai module at it with 'openai.api_key_path = <PATH>'. You can generate API keys in the OpenAI web interface. See https://platform.openai.com/account/api-keys for details."
     ]
    }
   ],
   "source": [
    "from langfuse.openai import openai\n",
    "\n",
    "completion = openai.ChatCompletion.create(\n",
    "  name=\"test-chat\",\n",
    "  model=\"gpt-3.5-turbo\",\n",
    "  messages=[\n",
    "      {\"role\": \"system\", \"content\": \"You are a very accurate calculator. You output only the result of the calculation.\"},\n",
    "      {\"role\": \"user\", \"content\": \"1 + 1 = \"}],\n",
    "  temperature=0,\n",
    "  metadata={\"someMetadataKey\": \"someValue\"},\n",
    ")"
   ]
  }
 ],
 "metadata": {
  "kernelspec": {
   "display_name": "ycliu",
   "language": "python",
   "name": "python3"
  },
  "language_info": {
   "codemirror_mode": {
    "name": "ipython",
    "version": 3
   },
   "file_extension": ".py",
   "mimetype": "text/x-python",
   "name": "python",
   "nbconvert_exporter": "python",
   "pygments_lexer": "ipython3",
   "version": "3.10.0"
  }
 },
 "nbformat": 4,
 "nbformat_minor": 2
}
